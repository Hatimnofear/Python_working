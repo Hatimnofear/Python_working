{
 "cells": [
  {
   "cell_type": "markdown",
   "metadata": {},
   "source": [
    "> # How to Transform List Elements with Python map() Function\n",
    "\n",
    "We'll learn how to use the Python map() function with lists.\n",
    "\n",
    "### Introduction to the Python map() function\n",
    "\n",
    "Working with a list (or a tuple), you often need to transform the elements of the list and return a new list that contains the transformed element.\n",
    "\n",
    "Suppose, If i want to doubble every number in the following bonuses list.\n",
    "\n",
    "* > bonuses = [ 100, 200, 300]\n",
    "\n",
    "To do it, you can use a for loop to iterate over the elements, double each of them and add it to a new list like follow."
   ]
  },
  {
   "cell_type": "code",
   "execution_count": 1,
   "metadata": {},
   "outputs": [
    {
     "name": "stdout",
     "output_type": "stream",
     "text": [
      "[200, 400, 600]\n"
     ]
    }
   ],
   "source": [
    "bonuses = [ 100, 200, 300]\n",
    "\n",
    "new_bonuses = []\n",
    "\n",
    "for bonus in bonuses: \n",
    "    new_bonuses.append(bonus*2)\n",
    "    \n",
    "\n",
    "print(new_bonuses)"
   ]
  },
  {
   "cell_type": "markdown",
   "metadata": {},
   "source": [
    "Python provides a nicer way to do this kind of task by using the map() built-in function.\n",
    "\n",
    "The map() function iterates over all elements in a list ( or a tuple ), applies a function to each, and return a new iterator of the new element.\n",
    "\n",
    "The following shows the basic syntax of the map() function.\n",
    "\n",
    "> iterator = map ( fn, list )\n",
    "\n",
    "In this syntax fn is the name of the function that will call on each element of the list.\n",
    "\n",
    "In fact, you can pass any iterable to the map() function, not just a list or tuple. \n",
    "\n",
    "Back to the previous examples, to use the map() function, you define a function that doubles a bonus first and then use the map() function.\n",
    "\n",
    "Once you have an iterator, you can iterate over the new elements using a for loop.\n",
    "\n",
    "Or you can convert an iterator to a list by using the list() function."
   ]
  },
  {
   "cell_type": "code",
   "execution_count": 3,
   "metadata": {},
   "outputs": [],
   "source": [
    "def double(bonus):\n",
    "    return bonus * 2\n",
    "\n",
    "\n",
    "bonuses = [ 100, 200, 300 ]\n",
    "\n",
    "iterator = map ( double, bonuses )"
   ]
  },
  {
   "cell_type": "code",
   "execution_count": 4,
   "metadata": {},
   "outputs": [],
   "source": [
    "bonuses = [ 100, 200, 300 ]\n",
    "\n",
    "iterator = map ( lambda bonus : bonus * 2, bonuses)"
   ]
  },
  {
   "cell_type": "code",
   "execution_count": 5,
   "metadata": {},
   "outputs": [
    {
     "name": "stdout",
     "output_type": "stream",
     "text": [
      "[200, 400, 600]\n"
     ]
    }
   ],
   "source": [
    "bonuses = [ 100, 200, 300 ]\n",
    "\n",
    "iterator = map ( lambda bonus : bonus * 2, bonuses)\n",
    "\n",
    "print(list(iterator))"
   ]
  },
  {
   "cell_type": "markdown",
   "metadata": {},
   "source": [
    "### More examples of Python map() function with list \n",
    "\n",
    "let's make some more examples of using the python map function with lists.\n",
    "\n",
    "#### 1 ) Using the Python map() function for a list of strings \n",
    "\n",
    "In the following uses the map() function to return a new list where each element is transformed into the proper case.\n",
    "\n",
    "\n",
    "#### 2 ) Using the Python map() function to a list of tuples \n",
    "\n",
    "Suppose that you have the following shopping cart represented as a list of tuples.\n",
    "\n",
    "And you need to calculate the tax amount for each product with a 10% tax 10%. In addition, you need to add the tax amount to the third element of each item in the list.\n",
    "\n",
    "The return list should be something like this.\n",
    "\n",
    "In order to do so, you can use the map() function to create a new element of the list and add the new tax amount to each like this."
   ]
  },
  {
   "cell_type": "code",
   "execution_count": 6,
   "metadata": {},
   "outputs": [
    {
     "name": "stdout",
     "output_type": "stream",
     "text": [
      "['David', 'Peter', 'Jenifer']\n"
     ]
    }
   ],
   "source": [
    "names = [ 'david', 'peter', 'jenifer']\n",
    "\n",
    "new_names = map( lambda name : name.capitalize(), names )\n",
    "\n",
    "print ( list ( new_names ) )"
   ]
  },
  {
   "cell_type": "code",
   "execution_count": 8,
   "metadata": {},
   "outputs": [],
   "source": [
    "carts = [[ 'SmartPhone', 400 ],\n",
    "        [ 'Tablet', 450 ], \n",
    "        [ 'Laptop', 700 ]]"
   ]
  },
  {
   "cell_type": "code",
   "execution_count": 9,
   "metadata": {},
   "outputs": [
    {
     "data": {
      "text/plain": [
       "[['SmartPhone', 400, 40.0], ['Tablet', 450, 45.0], ['Laptop', 700, 70.0]]"
      ]
     },
     "execution_count": 9,
     "metadata": {},
     "output_type": "execute_result"
    }
   ],
   "source": [
    "[[ 'SmartPhone', 400, 40.0 ],\n",
    "[ 'Tablet', 450, 45.0 ], \n",
    "[ 'Laptop', 700, 70.0 ]]"
   ]
  },
  {
   "cell_type": "code",
   "execution_count": 13,
   "metadata": {},
   "outputs": [
    {
     "name": "stdout",
     "output_type": "stream",
     "text": [
      "[['SmartPhone', 400, 40.0], ['Tablet', 450, 45.0], ['Laptop', 700, 70.0]]\n"
     ]
    }
   ],
   "source": [
    "carts = [[ 'SmartPhone', 400 ],\n",
    "        [ 'Tablet', 450 ], \n",
    "        [ 'Laptop', 700 ]]\n",
    "\n",
    "TAX = 0.1\n",
    "\n",
    "carts =  map( lambda item : [ item[0], item[1], item[1] * TAX ], carts )\n",
    "\n",
    "print (list(carts))\n",
    "\n"
   ]
  },
  {
   "cell_type": "markdown",
   "metadata": {},
   "source": [
    "### Summary \n",
    "\n",
    "* Use the Python map() to call a function on every item of a list and returns an iterator.\n",
    "\n",
    "## How to Filter List Elements in Python\n",
    "\n",
    "We'll learn how to filter list elements by using the built-in Python filter() function.\n",
    "\n",
    "### Introduction to Python filter() function\n",
    "\n",
    "Somtimes, you need to iterate over elements of a list and select some of them based on specified criteria.\n",
    "\n",
    "Suppose that i have the following list of scores.\n",
    "\n",
    "> scores = [ 70, 60, 80, 90, 50]\n",
    "\n",
    "To get all elements from the scores list where each element is greater than or equal to 70, Gonna use the following code."
   ]
  },
  {
   "cell_type": "code",
   "execution_count": 14,
   "metadata": {},
   "outputs": [
    {
     "name": "stdout",
     "output_type": "stream",
     "text": [
      "[70, 80, 90]\n"
     ]
    }
   ],
   "source": [
    "scores = [ 70, 60, 80, 90, 50]\n",
    "\n",
    "filtered = []\n",
    "\n",
    "for score in scores : \n",
    "    if score >= 70:\n",
    "        filtered.append(score)\n",
    "        \n",
    "print(filtered)"
   ]
  },
  {
   "cell_type": "markdown",
   "metadata": {},
   "source": [
    "How it works.\n",
    "\n",
    "* First, define an empty list ( filtered ) that will hold the elements from the scores list.\n",
    "\n",
    "* Second, iterate over the elements of the scores list. If the element is greater than or equal to 70, add it to the filtered list.\n",
    "\n",
    "* Third, show the filtered list to the screen. \n",
    "\n",
    "Python has a built-in function called filter() that allows you to filter a list ( or a tuple ) in a more beautiful way. \n",
    "\n",
    "The following shows the syntax of the filter () function.\n",
    "\n",
    "> filter ( fn, list )\n",
    "\n",
    "The filter() function iterates over the elements over the list and applies the fn() function to each element. It returns an iterator for the element where the fn() returns True.\n",
    "\n",
    "In fact, you can pass any iterable to the second argument of the filter() function, not just a list.\n",
    "\n",
    "The following shows how to use the filter() function to returns a list of scores where each score is greater than or equal to 70."
   ]
  },
  {
   "cell_type": "code",
   "execution_count": 15,
   "metadata": {},
   "outputs": [
    {
     "name": "stdout",
     "output_type": "stream",
     "text": [
      "[70, 80, 90]\n"
     ]
    }
   ],
   "source": [
    "scores = [ 70, 60, 80, 90, 50]\n",
    "\n",
    "filtered = filter ( lambda score : score >= 70 , scores )\n",
    "\n",
    "print(list(filtered))"
   ]
  },
  {
   "cell_type": "markdown",
   "metadata": {},
   "source": [
    "Since the filter() Function returns an iterator, you can use a for loop to iterate over it. Or you can use the list() function to convert the iterator to a list.\n",
    "\n",
    "#### Using the Python filter() function to filter a list of tuples examples\n",
    "\n",
    "Suppose we had following list of tuples."
   ]
  },
  {
   "cell_type": "code",
   "execution_count": 16,
   "metadata": {},
   "outputs": [],
   "source": [
    "countries = [\n",
    "    ['China', 1394015977],\n",
    "    ['United States', 329877505],\n",
    "    ['India', 1326093247],\n",
    "    ['Indonesia', 267026366],\n",
    "    ['Bangladesh', 162650853],\n",
    "    ['Pakistan', 233500636],\n",
    "    ['Nigeria', 214028302],\n",
    "    ['Brazil', 21171597],\n",
    "    ['Russia', 141722205],\n",
    "    ['Mexico', 128649565]\n",
    "]"
   ]
  },
  {
   "cell_type": "code",
   "execution_count": 17,
   "metadata": {},
   "outputs": [
    {
     "name": "stdout",
     "output_type": "stream",
     "text": [
      "[['China', 1394015977], ['United States', 329877505], ['India', 1326093247]]\n"
     ]
    }
   ],
   "source": [
    "countries = [\n",
    "    ['China', 1394015977],\n",
    "    ['United States', 329877505],\n",
    "    ['India', 1326093247],\n",
    "    ['Indonesia', 267026366],\n",
    "    ['Bangladesh', 162650853],\n",
    "    ['Pakistan', 233500636],\n",
    "    ['Nigeria', 214028302],\n",
    "    ['Brazil', 21171597],\n",
    "    ['Russia', 141722205],\n",
    "    ['Mexico', 128649565]\n",
    "]\n",
    "\n",
    "populated = filter ( lambda c : c [1] > 300000000, countries )\n",
    "\n",
    "print (list(populated))"
   ]
  },
  {
   "cell_type": "markdown",
   "metadata": {},
   "source": [
    "### Summary \n",
    "\n",
    "* Use the Python filter() function to filter a list ( or a tuple ).\n",
    "\n",
    ">  #  How to use the Python Reduce() function to Reduce a List into a Single Value\n",
    "\n",
    "We'll learn how to use the Python reduce() function to reduce a list into a single value.\n",
    "\n",
    "### Reducing a List\n",
    "\n",
    "Sometimes, you want to reduce a list to a string value. For example, suppose that you have a list of numbers.\n",
    "\n",
    "> scores = [ 75, 65, 80, 95, 50]\n",
    "\n",
    "And to calculate the sum of all elements in the scores list, you can use a for loop like this."
   ]
  },
  {
   "cell_type": "code",
   "execution_count": 18,
   "metadata": {},
   "outputs": [
    {
     "name": "stdout",
     "output_type": "stream",
     "text": [
      "365\n"
     ]
    }
   ],
   "source": [
    "scores = [ 75, 65, 80, 95, 50]\n",
    "\n",
    "total = 0\n",
    "\n",
    "for score in scores: \n",
    "    total += score \n",
    "    \n",
    "print(total)"
   ]
  },
  {
   "cell_type": "markdown",
   "metadata": {},
   "source": [
    "In this example, we have reduced the whole list into a single value, which is the sum of all elements from the list.\n",
    "\n",
    "### Introduction the Python reduce() function\n",
    "\n",
    "Python offers a function called reduce() that allows you to reduce a list in a more concise way.\n",
    "\n",
    "Here is the syntax of the reduce() function.\n",
    "\n",
    "> reduce ( fn, list )\n",
    "\n",
    "The reduce() function applies the fn function of two arguments cumulatively to the item of the list, from left to right, to reduce the list into a single value.\n",
    "\n",
    "Unlike the map() and filter() functions, the reduce() isn't a built-in function in Python. In fact, the reduce() function blongs to the functools module.\n",
    "\n",
    "To use the reduce() function, you need to import it from the functools module using the following statement at the top of the file.\n",
    "\n",
    "> from functools import reduce\n",
    "\n",
    "Note that you'll learn more about modules and how to use them in the later tutorial.\n",
    "\n",
    "The following illustrates how to use the reduce() function to calculate the sum of elements of the sorces list."
   ]
  },
  {
   "cell_type": "code",
   "execution_count": 19,
   "metadata": {},
   "outputs": [
    {
     "name": "stdout",
     "output_type": "stream",
     "text": [
      " a = 75, b = 65, 75 + 65 = 140 \n",
      " a = 140, b = 80, 140 + 80 = 220 \n",
      " a = 220, b = 95, 220 + 95 = 315 \n",
      " a = 315, b = 50, 315 + 50 = 365 \n",
      "365\n"
     ]
    }
   ],
   "source": [
    "from functools import reduce\n",
    "\n",
    "def sum ( a, b ): \n",
    "    print ( f\" a = { a }, b = { b }, { a } + { b } = { a + b } \" )\n",
    "    return a + b\n",
    "\n",
    "\n",
    "scores = [ 75, 65, 80, 95, 50]\n",
    "\n",
    "total = reduce ( sum, scores )\n",
    "\n",
    "print ( total )"
   ]
  },
  {
   "cell_type": "markdown",
   "metadata": {},
   "source": [
    "As you can see clearly from the output, the reduce() function cumulatively adds two elements of the list from the left to right and reduces the whole list into a single value.\n",
    "\n",
    "To make the code more concise, you can use a lambda expression instead of defining the sum() function."
   ]
  },
  {
   "cell_type": "code",
   "execution_count": 20,
   "metadata": {},
   "outputs": [
    {
     "name": "stdout",
     "output_type": "stream",
     "text": [
      "365\n"
     ]
    }
   ],
   "source": [
    "from functools import reduce\n",
    "\n",
    "scores = [ 75, 65, 80, 95, 50]\n",
    "\n",
    "total = reduce ( lambda a, b : a + b, scores )\n",
    "\n",
    "print ( total )"
   ]
  },
  {
   "cell_type": "markdown",
   "metadata": {},
   "source": [
    "## Summary \n",
    "\n",
    "* Use the Python reduce() function to reduce a list into a single value.\n",
    "\n",
    "> # Python List Comprehensions\n",
    "\n",
    "We'll learn about Python List comprehensions that allow you to create a new list from an existing one.\n",
    "\n",
    "### Introduction to Python list comprehensions\n",
    "\n",
    "In programming, you often need to transform elements of a list and return a new list.\n",
    "\n",
    "For example, suppose that you have a list of five numbers like this.\n",
    "\n",
    "> numbers = [ 1, 2, 3, 4, 5]\n",
    "\n",
    "And you want to get a list of squares based on this numbers list.\n",
    "The straightforward way is to use a for loop,\n",
    "\n",
    "In the following example, the for loop iterates over the elements of the numbers list, squares each number and adds the result to the squares list.\n",
    "\n",
    "> Note that a square number is the product of the number multiplied by itself. For example, square number 2 is 2 * 2 = 4, square number of 3 is 3 * 3 = 9, and so on.\n",
    "\n",
    "To make the code more concise, you can use the built-in map() function with a lambda expressions.\n",
    "\n",
    "Since the map() function returns an iterator, you need to use the list() function to convert the iterator to a list.\n",
    "\n",
    "Both the for loop and map() function can help you create a new list based on an existing one. But the code isn't really concise and beautiful.\n",
    "\n",
    "To help you create a list based on the transformation of elements of an existing list, Python provides a feature called list comprehensions.\n",
    "\n",
    "The following shows how to use list comprehension to make a list of squares from the numbers list.\n"
   ]
  },
  {
   "cell_type": "code",
   "execution_count": null,
   "metadata": {},
   "outputs": [],
   "source": [
    "numbers = [ 1, 2, 3, 4, 5] \n",
    "\n",
    "squares = []\n",
    "\n",
    "for number in numbers:\n",
    "    squares.append( number ** 2)\n",
    "    \n",
    "print( squares)"
   ]
  },
  {
   "cell_type": "code",
   "execution_count": 21,
   "metadata": {},
   "outputs": [
    {
     "name": "stdout",
     "output_type": "stream",
     "text": [
      "[1, 4, 9, 16, 25]\n"
     ]
    }
   ],
   "source": [
    "numbers = [ 1, 2, 3, 4, 5] \n",
    "\n",
    "squares = list ( map ( lambda number : number ** 2, numbers ))\n",
    "\n",
    "print( squares)"
   ]
  },
  {
   "cell_type": "code",
   "execution_count": 26,
   "metadata": {},
   "outputs": [
    {
     "name": "stdout",
     "output_type": "stream",
     "text": [
      "[1, 4, 9, 16, 25]\n"
     ]
    }
   ],
   "source": [
    "numbers = [ 1, 2, 3, 4, 5 ]\n",
    "\n",
    "squares = [ number**2 for number in numbers ]\n",
    "\n",
    "print ( squares )\n",
    "\n",
    "# And here's the list comprehension part \n",
    "\n",
    "# > squares = [ number**2 for number in numbers ]"
   ]
  },
  {
   "cell_type": "markdown",
   "metadata": {},
   "source": [
    "A list comprehension consists of the following parts, \n",
    "\n",
    "* An input list ( number ).\n",
    "\n",
    "* A variable that represents the elements of the list ( number ).\n",
    "\n",
    "* An output expression ( number**2 ) that returns the element of the output list from the elements of the input list.\n",
    "\n",
    "The following shows the basic syntax of the Python list comprehension,\n"
   ]
  },
  {
   "cell_type": "code",
   "execution_count": 30,
   "metadata": {},
   "outputs": [
    {
     "ename": "TypeError",
     "evalue": "'type' object is not iterable",
     "output_type": "error",
     "traceback": [
      "\u001b[1;31m---------------------------------------------------------------------------\u001b[0m",
      "\u001b[1;31mTypeError\u001b[0m                                 Traceback (most recent call last)",
      "Cell \u001b[1;32mIn[30], line 1\u001b[0m\n\u001b[1;32m----> 1\u001b[0m \u001b[43m[\u001b[49m\u001b[43m \u001b[49m\u001b[43moutput_expression\u001b[49m\u001b[43m \u001b[49m\u001b[38;5;28;43;01mfor\u001b[39;49;00m\u001b[43m \u001b[49m\u001b[43melement\u001b[49m\u001b[43m \u001b[49m\u001b[38;5;129;43;01min\u001b[39;49;00m\u001b[43m \u001b[49m\u001b[38;5;28;43mlist\u001b[39;49m\u001b[43m]\u001b[49m\n\u001b[0;32m      3\u001b[0m \u001b[38;5;66;03m# It's equivalent to the following: \u001b[39;00m\n",
      "\u001b[1;31mTypeError\u001b[0m: 'type' object is not iterable"
     ]
    }
   ],
   "source": [
    "[ output_expression for element in list]\n",
    "\n",
    "# It's equivalent to the following: "
   ]
  },
  {
   "cell_type": "code",
   "execution_count": 28,
   "metadata": {},
   "outputs": [
    {
     "ename": "TypeError",
     "evalue": "'type' object is not iterable",
     "output_type": "error",
     "traceback": [
      "\u001b[1;31m---------------------------------------------------------------------------\u001b[0m",
      "\u001b[1;31mTypeError\u001b[0m                                 Traceback (most recent call last)",
      "Cell \u001b[1;32mIn[28], line 3\u001b[0m\n\u001b[0;32m      1\u001b[0m output_list \u001b[38;5;241m=\u001b[39m []\n\u001b[1;32m----> 3\u001b[0m \u001b[38;5;28;43;01mfor\u001b[39;49;00m\u001b[43m \u001b[49m\u001b[43melement\u001b[49m\u001b[43m \u001b[49m\u001b[38;5;129;43;01min\u001b[39;49;00m\u001b[43m \u001b[49m\u001b[38;5;28;43mlist\u001b[39;49m\u001b[43m:\u001b[49m\u001b[43m \u001b[49m\n\u001b[0;32m      4\u001b[0m \u001b[43m    \u001b[49m\u001b[43moutput_list\u001b[49m\u001b[38;5;241;43m.\u001b[39;49m\u001b[43mappend\u001b[49m\u001b[43m(\u001b[49m\u001b[43m \u001b[49m\u001b[43moutput_expression\u001b[49m\u001b[43m \u001b[49m\u001b[43m)\u001b[49m\n",
      "\u001b[1;31mTypeError\u001b[0m: 'type' object is not iterable"
     ]
    }
   ],
   "source": [
    "output_list = []\n",
    "\n",
    "for element in list: \n",
    "    output_list.append( output_expression )"
   ]
  },
  {
   "cell_type": "markdown",
   "metadata": {},
   "source": [
    "### Python list comprehension with if condition\n",
    "\n",
    "The following shows a list of the top five highest mountains on Earth:\n",
    "\n",
    "To get a list of mountains where the hight is greater than 8600 meters, you can use a for loop or the filter() function with a lambda expression like this.\n",
    "\n",
    "Like the map() function, the filter() function returns an iterator. Therefore, you need to use the list() function to convert the iterator to a list.\n",
    "\n",
    "Python List comprehensions provide an optional predicate that allows you to specify a condition for the list elements to be included in the new list: \n",
    "\n",
    "> [ output_expression for element in list if condition ]\n",
    "\n",
    "This list comprehension allows you to replace the filter() with a lambda expression:"
   ]
  },
  {
   "cell_type": "code",
   "execution_count": 31,
   "metadata": {},
   "outputs": [],
   "source": [
    "mountains = [\n",
    "    ['Makalu', 8485],\n",
    "    ['Lhotse', 8516],\n",
    "    ['Kanchendzonga', 8586],\n",
    "    ['K2', 8611],\n",
    "    ['Everest', 8848]\n",
    "]"
   ]
  },
  {
   "cell_type": "code",
   "execution_count": 32,
   "metadata": {},
   "outputs": [
    {
     "name": "stdout",
     "output_type": "stream",
     "text": [
      "[['K2', 8611], ['Everest', 8848]]\n"
     ]
    }
   ],
   "source": [
    "mountains = [\n",
    "    ['Makalu', 8485],\n",
    "    ['Lhotse', 8516],\n",
    "    ['Kanchendzonga', 8586],\n",
    "    ['K2', 8611],\n",
    "    ['Everest', 8848]\n",
    "]\n",
    "\n",
    "highest_mountains = list ( filter ( lambda m: m[1] > 8600, mountains ))\n",
    "\n",
    "print ( highest_mountains )"
   ]
  },
  {
   "cell_type": "code",
   "execution_count": 33,
   "metadata": {},
   "outputs": [
    {
     "name": "stdout",
     "output_type": "stream",
     "text": [
      "[['K2', 8611], ['Everest', 8848]]\n"
     ]
    },
    {
     "ename": "",
     "evalue": "",
     "output_type": "error",
     "traceback": [
      "\u001b[1;31mThe Kernel crashed while executing code in the current cell or a previous cell. \n",
      "\u001b[1;31mPlease review the code in the cell(s) to identify a possible cause of the failure. \n",
      "\u001b[1;31mClick <a href='https://aka.ms/vscodeJupyterKernelCrash'>here</a> for more info. \n",
      "\u001b[1;31mView Jupyter <a href='command:jupyter.viewOutput'>log</a> for further details."
     ]
    }
   ],
   "source": [
    "mountains = [\n",
    "    ['Makalu', 8485],\n",
    "    ['Lhotse', 8516],\n",
    "    ['Kanchendzonga', 8586],\n",
    "    ['K2', 8611],\n",
    "    ['Everest', 8848]\n",
    "]\n",
    "\n",
    "highest_mountains = [ m for m in mountains if  m[1] > 8600 ]\n",
    "\n",
    "print ( highest_mountains )"
   ]
  },
  {
   "cell_type": "markdown",
   "metadata": {},
   "source": [
    "## Summary \n",
    "\n",
    "* Python list comprehensions allow you to create a new list from an existing one.\n",
    "\n",
    "* Use list comprehensions instead of map() or filter() to make your code more concise and readable.\n",
    "\n",
    "> # Python Dictionary\n",
    "\n",
    "We'll learn about Python Dictionary which allows you to organize related information.\n",
    "\n",
    "### Introduction to the Python Dictionary type\n",
    "\n",
    "A Python dictionary is a collection of key-value pairs where each key is associated with a value.\n",
    "\n",
    "A vakue in the key-value pair can be a number, a string, a list, a tuple, or even another dictionary. In fact, you can use a value of any valid type in Python as the value in the key-value pair.\n",
    "\n",
    "A key in a key-value pair must be immutable. In other words, the key cannot be changed, for example, a number, a string, a tuple, etc.\n",
    "\n",
    "Python uses curly braces {} to define a dictionary. Inside the curly braces, you can place zero, one ir many key-value pairs.\n",
    "\n",
    "The following example defines an empty dictionary.\n",
    "\n",
    "> empty_dict = {}\n",
    "\n",
    "Typically, you define an empty dictionary before a loop, either for loop or while loop. And inside the loop, you add key-value pairs to the dictionary.\n",
    "\n",
    "To find the type of a dictionary, you use the type() function as follows,"
   ]
  },
  {
   "cell_type": "code",
   "execution_count": 1,
   "metadata": {},
   "outputs": [
    {
     "name": "stdout",
     "output_type": "stream",
     "text": [
      "<class 'dict'>\n"
     ]
    }
   ],
   "source": [
    "empty_dict = {}\n",
    "\n",
    "print(type(empty_dict))"
   ]
  },
  {
   "cell_type": "code",
   "execution_count": 2,
   "metadata": {},
   "outputs": [
    {
     "name": "stdout",
     "output_type": "stream",
     "text": [
      "{'first_name': 'John', 'last_name': 'Doe', 'age': 25, 'favorite_color': ['blue', 'green'], 'active': True}\n"
     ]
    }
   ],
   "source": [
    "# Following defines s dictionary with some key-value pairs:\n",
    "\n",
    "person = {\n",
    "    'first_name' : 'John',\n",
    "    'last_name' : 'Doe',\n",
    "    'age' : 25,\n",
    "    'favorite_color' : ['blue', 'green'],\n",
    "    'active' : True\n",
    "}\n",
    "\n",
    "print(person)"
   ]
  },
  {
   "cell_type": "markdown",
   "metadata": {},
   "source": [
    "The person dictionary has five key-value pairs that represents the first name, last name, age, favorite color, and active status.\n",
    "\n",
    "### Accessing value in a Dictionary \n",
    "\n",
    "To access a value by key from a dictionary, you can use the square bracket notation or the get() method.\n",
    "\n",
    "#### 1 ) Using square bracket notation \n",
    "\n",
    "To access a value associated with a key, you place the key inside square brackets: \n",
    "\n",
    "> dict[key]\n",
    "\n",
    "The following shows how to get the value associated with the key first_name and last_name in the person dictionary."
   ]
  },
  {
   "cell_type": "code",
   "execution_count": null,
   "metadata": {},
   "outputs": [],
   "source": []
  },
  {
   "cell_type": "code",
   "execution_count": null,
   "metadata": {},
   "outputs": [],
   "source": []
  },
  {
   "cell_type": "code",
   "execution_count": null,
   "metadata": {},
   "outputs": [],
   "source": []
  },
  {
   "cell_type": "code",
   "execution_count": null,
   "metadata": {},
   "outputs": [],
   "source": []
  }
 ],
 "metadata": {
  "kernelspec": {
   "display_name": "Python 3",
   "language": "python",
   "name": "python3"
  },
  "language_info": {
   "codemirror_mode": {
    "name": "ipython",
    "version": 3
   },
   "file_extension": ".py",
   "mimetype": "text/x-python",
   "name": "python",
   "nbconvert_exporter": "python",
   "pygments_lexer": "ipython3",
   "version": "3.12.4"
  }
 },
 "nbformat": 4,
 "nbformat_minor": 2
}
