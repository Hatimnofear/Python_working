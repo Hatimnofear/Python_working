{
 "cells": [
  {
   "cell_type": "markdown",
   "metadata": {},
   "source": [
    "# Pythontutorial.net basics paython practice\n",
    "\n",
    "> ## Outer Function and Inner Function"
   ]
  },
  {
   "cell_type": "code",
   "execution_count": 1,
   "metadata": {},
   "outputs": [
    {
     "name": "stdout",
     "output_type": "stream",
     "text": [
      "Hello, Pythonista!\n"
     ]
    }
   ],
   "source": [
    "def outer_func():\n",
    "    name = \"Pythonista\"\n",
    "    def inner_func():\n",
    "        print(f\"Hello, {name}!\")\n",
    "    inner_func()\n",
    "    \n",
    "outer_func()"
   ]
  },
  {
   "cell_type": "code",
   "execution_count": 2,
   "metadata": {},
   "outputs": [
    {
     "name": "stdout",
     "output_type": "stream",
     "text": [
      "Hello, Pythonista!\n",
      "None\n"
     ]
    }
   ],
   "source": [
    "greeter =  outer_func()\n",
    "print(greeter)"
   ]
  },
  {
   "cell_type": "code",
   "execution_count": 1,
   "metadata": {},
   "outputs": [
    {
     "name": "stdout",
     "output_type": "stream",
     "text": [
      "1\n",
      "2\n",
      "3\n",
      "4\n",
      "5\n",
      "6\n",
      "7\n",
      "8\n",
      "9\n"
     ]
    }
   ],
   "source": [
    "def main():\n",
    "    i = 1\n",
    "    max = 10\n",
    "    while (i < max):\n",
    "        print(i)\n",
    "        i = i + 1\n",
    "main()"
   ]
  },
  {
   "cell_type": "markdown",
   "metadata": {},
   "source": []
  },
  {
   "cell_type": "code",
   "execution_count": 2,
   "metadata": {},
   "outputs": [
    {
     "ename": "NameError",
     "evalue": "name 'a' is not defined",
     "output_type": "error",
     "traceback": [
      "\u001b[1;31m---------------------------------------------------------------------------\u001b[0m",
      "\u001b[1;31mNameError\u001b[0m                                 Traceback (most recent call last)",
      "Cell \u001b[1;32mIn[2], line 1\u001b[0m\n\u001b[1;32m----> 1\u001b[0m \u001b[38;5;28;01mif\u001b[39;00m (\u001b[43ma\u001b[49m \u001b[38;5;241m==\u001b[39m \u001b[38;5;28;01mTrue\u001b[39;00m) \u001b[38;5;129;01mand\u001b[39;00m (b \u001b[38;5;241m==\u001b[39m \u001b[38;5;28;01mFalse\u001b[39;00m) \\\n\u001b[0;32m      2\u001b[0m     (c \u001b[38;5;241m==\u001b[39m \u001b[38;5;28;01mTrue\u001b[39;00m):\n\u001b[0;32m      3\u001b[0m     \u001b[38;5;28mprint\u001b[39m(\u001b[38;5;124m\"\u001b[39m\u001b[38;5;124mContinuation of statments\u001b[39m\u001b[38;5;124m\"\u001b[39m)\n",
      "\u001b[1;31mNameError\u001b[0m: name 'a' is not defined"
     ]
    }
   ],
   "source": [
    "if (a == True) and (b == False) \\\n",
    "    (c == True):\n",
    "    print(\"Continuation of statments\")"
   ]
  },
  {
   "cell_type": "code",
   "execution_count": 3,
   "metadata": {},
   "outputs": [
    {
     "name": "stdout",
     "output_type": "stream",
     "text": [
      "['False', 'None', 'True', 'and', 'as', 'assert', 'async', 'await', 'break', 'class', 'continue', 'def', 'del', 'elif', 'else', 'except', 'finally', 'for', 'from', 'global', 'if', 'import', 'in', 'is', 'lambda', 'nonlocal', 'not', 'or', 'pass', 'raise', 'return', 'try', 'while', 'with', 'yield']\n"
     ]
    }
   ],
   "source": [
    "import keyword\n",
    "\n",
    "print(keyword.kwlist)"
   ]
  },
  {
   "cell_type": "markdown",
   "metadata": {},
   "source": [
    "> # String Literals"
   ]
  },
  {
   "cell_type": "code",
   "execution_count": 4,
   "metadata": {},
   "outputs": [
    {
     "name": "stdout",
     "output_type": "stream",
     "text": [
      "This is a string\n",
      "Another string using double quotes\n",
      " string can span \n",
      "        multiple lines \n"
     ]
    }
   ],
   "source": [
    "s = 'This is a string'\n",
    "print(s)\n",
    "s = \"Another string using double quotes\"\n",
    "print(s)\n",
    "s = ''' string can span \n",
    "        multiple lines '''\n",
    "print(s)\n"
   ]
  },
  {
   "cell_type": "markdown",
   "metadata": {},
   "source": [
    "> # Python Variables\n"
   ]
  },
  {
   "cell_type": "code",
   "execution_count": 5,
   "metadata": {},
   "outputs": [
    {
     "name": "stdout",
     "output_type": "stream",
     "text": [
      "Hello World!\n",
      "Good Bye!\n"
     ]
    }
   ],
   "source": [
    "message = 'Hello World!'\n",
    "print(message)\n",
    "\n",
    "message = 'Good Bye!'\n",
    "print(message)\n"
   ]
  },
  {
   "cell_type": "markdown",
   "metadata": {},
   "source": [
    "> # Creating Variables"
   ]
  },
  {
   "cell_type": "code",
   "execution_count": null,
   "metadata": {},
   "outputs": [],
   "source": [
    "variable_name = value \n",
    "\n",
    "counter = 1 \n"
   ]
  },
  {
   "cell_type": "markdown",
   "metadata": {},
   "source": [
    "> # Python String"
   ]
  },
  {
   "cell_type": "code",
   "execution_count": null,
   "metadata": {},
   "outputs": [],
   "source": [
    "message = 'This is a string in Python'\n",
    "\n",
    "message = \"This is also a String\"\n",
    "\n",
    "\n",
    "message = \"It's a String\"\n",
    "\n",
    "message = '\"Beautiful is better than ugly.\". Said Tim Peters '\n",
    "\n",
    "message = 'it\\'s also a string '\n",
    "\n",
    "message = r'C:\\python\\bin'"
   ]
  },
  {
   "cell_type": "markdown",
   "metadata": {},
   "source": [
    "> # Creating Multiple Strings"
   ]
  },
  {
   "cell_type": "code",
   "execution_count": 6,
   "metadata": {},
   "outputs": [
    {
     "name": "stdout",
     "output_type": "stream",
     "text": [
      "\n",
      "Usage :  mysql command\n",
      "        -h command\n",
      "        -d command\n",
      "        -u command\n",
      "        -p command\n",
      "\n"
     ]
    }
   ],
   "source": [
    "help_message = '''\n",
    "Usage :  mysql command\n",
    "        -h command\n",
    "        -d command\n",
    "        -u command\n",
    "        -p command\n",
    "'''\n",
    "print(help_message)\n",
    "\n"
   ]
  },
  {
   "cell_type": "markdown",
   "metadata": {},
   "source": [
    "> # Using variables in Python strings with the f-strings\n"
   ]
  },
  {
   "cell_type": "code",
   "execution_count": 7,
   "metadata": {},
   "outputs": [
    {
     "name": "stdout",
     "output_type": "stream",
     "text": [
      "Hi John\n"
     ]
    }
   ],
   "source": [
    "name = 'John'\n",
    "message = 'Hi!'\n",
    "\n",
    "\n",
    "name = 'John'\n",
    "message = f'Hi {name}'\n",
    "print(message)"
   ]
  },
  {
   "cell_type": "markdown",
   "metadata": {},
   "source": [
    "> # Concatinating Python strings"
   ]
  },
  {
   "cell_type": "code",
   "execution_count": 9,
   "metadata": {},
   "outputs": [
    {
     "name": "stdout",
     "output_type": "stream",
     "text": [
      "Good Morning!\n"
     ]
    }
   ],
   "source": [
    "greeting = 'Good ' 'Morning!'\n",
    "print(greeting)"
   ]
  },
  {
   "cell_type": "code",
   "execution_count": 10,
   "metadata": {},
   "outputs": [
    {
     "name": "stdout",
     "output_type": "stream",
     "text": [
      "Good Afternoon!\n"
     ]
    }
   ],
   "source": [
    "greeting = 'Good '\n",
    "time = 'Afternoon'\n",
    "\n",
    "greeting = greeting + time + '!'\n",
    "print(greeting)"
   ]
  },
  {
   "cell_type": "markdown",
   "metadata": {},
   "source": [
    "> # Accessing string elements"
   ]
  },
  {
   "cell_type": "code",
   "execution_count": 11,
   "metadata": {},
   "outputs": [
    {
     "name": "stdout",
     "output_type": "stream",
     "text": [
      "P\n",
      "y\n"
     ]
    }
   ],
   "source": [
    "str = \"Python String\"\n",
    "\n",
    "print(str[0])\n",
    "print(str[1])"
   ]
  },
  {
   "cell_type": "code",
   "execution_count": 12,
   "metadata": {},
   "outputs": [
    {
     "name": "stdout",
     "output_type": "stream",
     "text": [
      "g\n",
      "n\n"
     ]
    }
   ],
   "source": [
    "str = \"Python String\"\n",
    "\n",
    "print(str[-1])\n",
    "print(str[-2])"
   ]
  },
  {
   "cell_type": "markdown",
   "metadata": {},
   "source": [
    "\n",
    "+---+---+---+---+---+---+---+---+---+---+---+---+---+\n",
    "| P | y | t | h | o | n |   | S | t | r | i | n | g |\n",
    "+---+---+---+---+---+---+---+---+---+---+---+---+---+\n",
    "  0   1   2   3   4   5   6   7   8   9  10  11   12 \n",
    " -13 -12 -11 -10 -9  -8  -7  -6  -5  -4  -3  -2  -1 \n",
    " "
   ]
  },
  {
   "cell_type": "markdown",
   "metadata": {},
   "source": [
    "> # Getting the length of a string"
   ]
  },
  {
   "cell_type": "code",
   "execution_count": null,
   "metadata": {},
   "outputs": [],
   "source": [
    "str = \"Python String\"\n",
    "str_len = len(str)\n",
    "print(str_len)"
   ]
  },
  {
   "cell_type": "markdown",
   "metadata": {},
   "source": [
    "> # Slicing strings"
   ]
  },
  {
   "cell_type": "code",
   "execution_count": null,
   "metadata": {},
   "outputs": [],
   "source": [
    "str = \"Python String\"\n",
    "print(str[0:2])\n",
    "\n",
    "\n",
    "string[start:end]"
   ]
  },
  {
   "cell_type": "markdown",
   "metadata": {},
   "source": [
    "> # Python Strings are immutable"
   ]
  },
  {
   "cell_type": "code",
   "execution_count": 13,
   "metadata": {},
   "outputs": [
    {
     "ename": "TypeError",
     "evalue": "'str' object does not support item assignment",
     "output_type": "error",
     "traceback": [
      "\u001b[1;31m---------------------------------------------------------------------------\u001b[0m",
      "\u001b[1;31mTypeError\u001b[0m                                 Traceback (most recent call last)",
      "Cell \u001b[1;32mIn[13], line 2\u001b[0m\n\u001b[0;32m      1\u001b[0m \u001b[38;5;28mstr\u001b[39m \u001b[38;5;241m=\u001b[39m \u001b[38;5;124m\"\u001b[39m\u001b[38;5;124mPython String\u001b[39m\u001b[38;5;124m\"\u001b[39m\n\u001b[1;32m----> 2\u001b[0m \u001b[38;5;28;43mstr\u001b[39;49m\u001b[43m[\u001b[49m\u001b[38;5;241;43m0\u001b[39;49m\u001b[43m]\u001b[49m \u001b[38;5;241m=\u001b[39m \u001b[38;5;124m'\u001b[39m\u001b[38;5;124mJ\u001b[39m\u001b[38;5;124m'\u001b[39m\n",
      "\u001b[1;31mTypeError\u001b[0m: 'str' object does not support item assignment"
     ]
    }
   ],
   "source": [
    "str = \"Python String\"\n",
    "str[0] = 'J'\n"
   ]
  },
  {
   "cell_type": "code",
   "execution_count": 14,
   "metadata": {},
   "outputs": [
    {
     "name": "stdout",
     "output_type": "stream",
     "text": [
      "Jython String\n"
     ]
    }
   ],
   "source": [
    "str = \"Python String\"\n",
    "new_str = 'J' + str[1:]\n",
    "print(new_str)\n"
   ]
  },
  {
   "cell_type": "markdown",
   "metadata": {},
   "source": [
    "> # Python Numbers\n",
    "\n",
    "## Integers\n"
   ]
  },
  {
   "cell_type": "code",
   "execution_count": 15,
   "metadata": {},
   "outputs": [
    {
     "data": {
      "text/plain": [
       "2.0"
      ]
     },
     "execution_count": 15,
     "metadata": {},
     "output_type": "execute_result"
    }
   ],
   "source": [
    "20 + 10\n",
    "\n",
    "20 - 10\n",
    "\n",
    "20 * 10 \n",
    "\n",
    "20 / 10\n"
   ]
  },
  {
   "cell_type": "code",
   "execution_count": 16,
   "metadata": {},
   "outputs": [
    {
     "data": {
      "text/plain": [
       "27"
      ]
     },
     "execution_count": 16,
     "metadata": {},
     "output_type": "execute_result"
    }
   ],
   "source": [
    "3**3"
   ]
  },
  {
   "cell_type": "markdown",
   "metadata": {},
   "source": [
    "# Floats"
   ]
  },
  {
   "cell_type": "code",
   "execution_count": 17,
   "metadata": {},
   "outputs": [
    {
     "data": {
      "text/plain": [
       "1.0"
      ]
     },
     "execution_count": 17,
     "metadata": {},
     "output_type": "execute_result"
    }
   ],
   "source": [
    "0.5 + 0.5"
   ]
  },
  {
   "cell_type": "code",
   "execution_count": 18,
   "metadata": {},
   "outputs": [
    {
     "data": {
      "text/plain": [
       "0.0"
      ]
     },
     "execution_count": 18,
     "metadata": {},
     "output_type": "execute_result"
    }
   ],
   "source": [
    "0.5 - 0.5"
   ]
  },
  {
   "cell_type": "code",
   "execution_count": 19,
   "metadata": {},
   "outputs": [
    {
     "data": {
      "text/plain": [
       "0.25"
      ]
     },
     "execution_count": 19,
     "metadata": {},
     "output_type": "execute_result"
    }
   ],
   "source": [
    "0.5 * 0.5"
   ]
  },
  {
   "cell_type": "code",
   "execution_count": 20,
   "metadata": {},
   "outputs": [
    {
     "data": {
      "text/plain": [
       "1.0"
      ]
     },
     "execution_count": 20,
     "metadata": {},
     "output_type": "execute_result"
    }
   ],
   "source": [
    "0.5 / 0.5"
   ]
  },
  {
   "cell_type": "code",
   "execution_count": 21,
   "metadata": {},
   "outputs": [
    {
     "data": {
      "text/plain": [
       "2.0"
      ]
     },
     "execution_count": 21,
     "metadata": {},
     "output_type": "execute_result"
    }
   ],
   "source": [
    "20 / 10"
   ]
  },
  {
   "cell_type": "code",
   "execution_count": 22,
   "metadata": {},
   "outputs": [
    {
     "data": {
      "text/plain": [
       "3.0"
      ]
     },
     "execution_count": 22,
     "metadata": {},
     "output_type": "execute_result"
    }
   ],
   "source": [
    "1 + 2.0"
   ]
  },
  {
   "cell_type": "markdown",
   "metadata": {},
   "source": [
    "# Underscores in numbers"
   ]
  },
  {
   "cell_type": "code",
   "execution_count": null,
   "metadata": {},
   "outputs": [],
   "source": [
    "count = 10000000000"
   ]
  },
  {
   "cell_type": "code",
   "execution_count": null,
   "metadata": {},
   "outputs": [],
   "source": [
    "count = 10_000_000_000"
   ]
  },
  {
   "cell_type": "code",
   "execution_count": 23,
   "metadata": {},
   "outputs": [
    {
     "name": "stdout",
     "output_type": "stream",
     "text": [
      "10000000000\n"
     ]
    }
   ],
   "source": [
    "count = 10_000_000_000\n",
    "print(count)"
   ]
  },
  {
   "cell_type": "markdown",
   "metadata": {},
   "source": [
    "> # Python Boolean\n",
    "\n",
    "## Introduction to Python Boolean data type"
   ]
  },
  {
   "cell_type": "code",
   "execution_count": 26,
   "metadata": {},
   "outputs": [],
   "source": [
    "is_active = True\n",
    "is_admin = False"
   ]
  },
  {
   "cell_type": "code",
   "execution_count": 24,
   "metadata": {},
   "outputs": [
    {
     "data": {
      "text/plain": [
       "True"
      ]
     },
     "execution_count": 24,
     "metadata": {},
     "output_type": "execute_result"
    }
   ],
   "source": [
    "20 > 10"
   ]
  },
  {
   "cell_type": "code",
   "execution_count": 25,
   "metadata": {},
   "outputs": [
    {
     "data": {
      "text/plain": [
       "False"
      ]
     },
     "execution_count": 25,
     "metadata": {},
     "output_type": "execute_result"
    }
   ],
   "source": [
    "20 < 10"
   ]
  },
  {
   "cell_type": "code",
   "execution_count": 28,
   "metadata": {},
   "outputs": [
    {
     "data": {
      "text/plain": [
       "True"
      ]
     },
     "execution_count": 28,
     "metadata": {},
     "output_type": "execute_result"
    }
   ],
   "source": [
    "'a' < 'b'"
   ]
  },
  {
   "cell_type": "code",
   "execution_count": 29,
   "metadata": {},
   "outputs": [
    {
     "data": {
      "text/plain": [
       "False"
      ]
     },
     "execution_count": 29,
     "metadata": {},
     "output_type": "execute_result"
    }
   ],
   "source": [
    "'a' > 'b'"
   ]
  },
  {
   "cell_type": "markdown",
   "metadata": {},
   "source": [
    "# The bool() function"
   ]
  },
  {
   "cell_type": "code",
   "execution_count": 30,
   "metadata": {},
   "outputs": [
    {
     "data": {
      "text/plain": [
       "True"
      ]
     },
     "execution_count": 30,
     "metadata": {},
     "output_type": "execute_result"
    }
   ],
   "source": [
    "bool('Hi')"
   ]
  },
  {
   "cell_type": "code",
   "execution_count": 31,
   "metadata": {},
   "outputs": [
    {
     "data": {
      "text/plain": [
       "False"
      ]
     },
     "execution_count": 31,
     "metadata": {},
     "output_type": "execute_result"
    }
   ],
   "source": [
    "bool('')"
   ]
  },
  {
   "cell_type": "code",
   "execution_count": 32,
   "metadata": {},
   "outputs": [
    {
     "data": {
      "text/plain": [
       "True"
      ]
     },
     "execution_count": 32,
     "metadata": {},
     "output_type": "execute_result"
    }
   ],
   "source": [
    "bool(100)"
   ]
  },
  {
   "cell_type": "code",
   "execution_count": 33,
   "metadata": {},
   "outputs": [
    {
     "data": {
      "text/plain": [
       "False"
      ]
     },
     "execution_count": 33,
     "metadata": {},
     "output_type": "execute_result"
    }
   ],
   "source": [
    "bool(0)"
   ]
  },
  {
   "cell_type": "markdown",
   "metadata": {},
   "source": [
    "> # Python Constants"
   ]
  },
  {
   "cell_type": "code",
   "execution_count": null,
   "metadata": {},
   "outputs": [],
   "source": [
    "FILE_SIZE_LIMIT = 2000"
   ]
  },
  {
   "cell_type": "markdown",
   "metadata": {},
   "source": [
    "> # Python Comments\n",
    "\n",
    "## Introduction to Python comments\n",
    "\n",
    "### Python block comments"
   ]
  },
  {
   "cell_type": "code",
   "execution_count": null,
   "metadata": {},
   "outputs": [],
   "source": [
    "# increase price by 5%\n",
    "\n",
    "price = price * 1.05\n"
   ]
  },
  {
   "cell_type": "markdown",
   "metadata": {},
   "source": [
    "> # Python inline comments"
   ]
  },
  {
   "cell_type": "code",
   "execution_count": null,
   "metadata": {},
   "outputs": [],
   "source": [
    "salary = salary * 1.02  # increase salary by 2%"
   ]
  },
  {
   "cell_type": "markdown",
   "metadata": {},
   "source": [
    "> # Python docstrings\n",
    "\n",
    "## One-Line Docstrings"
   ]
  },
  {
   "cell_type": "code",
   "execution_count": null,
   "metadata": {},
   "outputs": [],
   "source": [
    "def quicksort():\n",
    "\"\"\" sort the list using quicksort algorithm \"\"\"\n",
    "'''"
   ]
  },
  {
   "cell_type": "markdown",
   "metadata": {},
   "source": [
    "## Multi-Line Docstrings"
   ]
  },
  {
   "cell_type": "code",
   "execution_count": 34,
   "metadata": {},
   "outputs": [],
   "source": [
    "def increase(salary, percentage, rating):\n",
    "    \"\"\" increase salary base on rating and percentage\n",
    "    rating 1 - 2 no increase \n",
    "    rating 3 - 4 increase 5%\n",
    "    rating 4 - 6 increase 10%\n",
    "    \"\"\""
   ]
  },
  {
   "cell_type": "markdown",
   "metadata": {},
   "source": [
    "### Python multiline comments\n",
    "\n",
    "> # Python type conversion \n",
    "\n",
    "## Introduction of type conversion in Python"
   ]
  },
  {
   "cell_type": "code",
   "execution_count": null,
   "metadata": {},
   "outputs": [],
   "source": [
    "value = input('Enter a value : ')\n",
    "print (value)"
   ]
  },
  {
   "cell_type": "code",
   "execution_count": null,
   "metadata": {},
   "outputs": [],
   "source": [
    "price = input('Enter the price ($): ')\n",
    "tax = input('Enter the tax rate (%) : ')\n",
    "\n",
    "tax_amount = price * tax / 100\n",
    "\n",
    "print (f'the tax amount price is ${tax_amount}')"
   ]
  },
  {
   "cell_type": "code",
   "execution_count": null,
   "metadata": {},
   "outputs": [],
   "source": [
    "price = input('Enter the price ($): ')\n",
    "tax = input('Enter the tax rate (%) : ')\n",
    "\n",
    "tax_amount = int(price) * int(tax) / 100\n",
    "\n",
    "print (f'the tax amount price is ${tax_amount}')"
   ]
  },
  {
   "cell_type": "code",
   "execution_count": null,
   "metadata": {},
   "outputs": [],
   "source": [
    "type(100)"
   ]
  },
  {
   "cell_type": "code",
   "execution_count": null,
   "metadata": {},
   "outputs": [],
   "source": [
    "type(bool)"
   ]
  },
  {
   "cell_type": "code",
   "execution_count": null,
   "metadata": {},
   "outputs": [],
   "source": [
    "type(True)"
   ]
  },
  {
   "cell_type": "code",
   "execution_count": null,
   "metadata": {},
   "outputs": [],
   "source": [
    "type('Hello World')"
   ]
  },
  {
   "cell_type": "markdown",
   "metadata": {},
   "source": [
    "> # Python Comparison Operator \n",
    "\n",
    "## Introduction to python comparison Operators\n",
    "\n",
    "### Less then operator (<)\n",
    "\n",
    "left_value < right_value\n",
    "\n",
    "### Less then or equal to operator (<=)\n",
    "\n",
    "left_value <= right_value\n",
    "\n",
    "### Greater then operator (>)\n",
    "\n",
    "left_value > right_value\n",
    "\n",
    "### Greater then or equal to operator (>=)\n",
    "\n",
    "left_value >= right_value\n",
    "\n",
    "### Equal to operator (==)\n",
    "\n",
    "left_value == right_value\n",
    "\n",
    "### Not Equal to operator (!=)\n",
    "\n",
    "left_value != right_value"
   ]
  },
  {
   "cell_type": "markdown",
   "metadata": {},
   "source": []
  },
  {
   "cell_type": "code",
   "execution_count": null,
   "metadata": {},
   "outputs": [],
   "source": [
    "10 < 20 \n",
    "\n",
    "30 < 20 \n",
    "\n",
    "'apple' < 'orange'\n",
    "\n",
    "'banana' < 'apple'\n",
    "\n",
    "x = 10 , y = 20 \n",
    "x < y\n",
    "y < x"
   ]
  },
  {
   "cell_type": "code",
   "execution_count": null,
   "metadata": {},
   "outputs": [],
   "source": [
    "20 <= 20 \n",
    "\n",
    "10 <= 20 \n",
    "\n",
    "30 <= 30 \n",
    "\n",
    "x = 10 , y = 20 \n",
    "x <= y\n",
    "y <= x"
   ]
  },
  {
   "cell_type": "code",
   "execution_count": null,
   "metadata": {},
   "outputs": [],
   "source": [
    "20 > 10 \n",
    "\n",
    "20 > 20 \n",
    "\n",
    "10 > 20 \n",
    "\n",
    "'apple' > 'orange'\n",
    "\n",
    "'banana' > 'apple'"
   ]
  },
  {
   "cell_type": "code",
   "execution_count": null,
   "metadata": {},
   "outputs": [],
   "source": [
    "20 >= 20 \n",
    "\n",
    "10 >= 20 \n",
    "\n",
    "30 >= 30 \n",
    "\n",
    "'apple' >= 'apple'\n",
    "\n",
    "'apple' >= 'orange'\n",
    "\n",
    "'orange' >= 'apple'"
   ]
  },
  {
   "cell_type": "code",
   "execution_count": null,
   "metadata": {},
   "outputs": [],
   "source": [
    "20 == 10\n",
    "\n",
    "20 == 20\n",
    "\n",
    "'apple' == 'apple'\n",
    "\n",
    "'apple' == 'orange'"
   ]
  },
  {
   "cell_type": "code",
   "execution_count": null,
   "metadata": {},
   "outputs": [],
   "source": [
    "\n",
    "20 != 10\n",
    "\n",
    "20 != 20\n",
    "\n",
    "'apple' != 'apple'\n",
    "\n",
    "'apple' != 'orange'"
   ]
  },
  {
   "cell_type": "markdown",
   "metadata": {},
   "source": [
    "Python Logical Operator"
   ]
  },
  {
   "cell_type": "code",
   "execution_count": null,
   "metadata": {},
   "outputs": [],
   "source": [
    "price = 9.99\n",
    "\n",
    "price > 9 and price < 10\n",
    "\n",
    "price > 10 and price < 10\n"
   ]
  },
  {
   "cell_type": "markdown",
   "metadata": {},
   "source": [
    "The or Operator"
   ]
  },
  {
   "cell_type": "code",
   "execution_count": null,
   "metadata": {},
   "outputs": [],
   "source": [
    "price = 9.99\n",
    "\n",
    "price > 9 or price < 10"
   ]
  },
  {
   "cell_type": "markdown",
   "metadata": {},
   "source": [
    "The not Operator"
   ]
  },
  {
   "cell_type": "code",
   "execution_count": null,
   "metadata": {},
   "outputs": [],
   "source": [
    "price = 9.99\n",
    "\n",
    "not price > 10\n",
    "\n",
    "not ( price > 5 and price < 10 )"
   ]
  },
  {
   "cell_type": "markdown",
   "metadata": {},
   "source": [
    "Python If statments"
   ]
  },
  {
   "cell_type": "code",
   "execution_count": null,
   "metadata": {},
   "outputs": [],
   "source": [
    "if condition: \n",
    "    if block"
   ]
  },
  {
   "cell_type": "code",
   "execution_count": null,
   "metadata": {},
   "outputs": [],
   "source": [
    "age = input('Enter your age : ')\n",
    "if int(age) >= 18:\n",
    "    print(\"You're eligible to vote. \")"
   ]
  },
  {
   "cell_type": "code",
   "execution_count": null,
   "metadata": {},
   "outputs": [],
   "source": [
    "age = input('Enter your age : ')\n",
    "if int(age) >= 18:\n",
    "    print(\"You're eligible to vote. \")\n",
    "    print (\"Lets go for vote.\")"
   ]
  },
  {
   "cell_type": "code",
   "execution_count": null,
   "metadata": {},
   "outputs": [],
   "source": [
    "age = input('Enter your age : ')\n",
    "if int(age) >= 18:\n",
    "    print(\"You're eligible to vote. \")\n",
    "print (\"Lets go for vote.\")"
   ]
  },
  {
   "cell_type": "markdown",
   "metadata": {},
   "source": [
    "> ### Python if else statement\n",
    "\n",
    "* if Condition : \n",
    "*    if-Block;\n",
    "* else:\n",
    "*    else-block;"
   ]
  },
  {
   "cell_type": "code",
   "execution_count": null,
   "metadata": {},
   "outputs": [],
   "source": [
    "age = input('Enter your age : ')\n",
    "if int(age) >= 18:\n",
    "    print(\"You're eligible to vote. \")\n",
    "else:\n",
    "    print (\"You are not eligable for vote.\")"
   ]
  },
  {
   "cell_type": "markdown",
   "metadata": {},
   "source": [
    "Python if...elif..else statement\n",
    "\n",
    "* if if-condition:\n",
    "*      if-block:\n",
    "* elif elif-condition1:\n",
    "*       elif-block1\n",
    "* elif elif-condition2:\n",
    "*       elif-block2\n",
    "* ...\n",
    "* else:\n",
    "*     else-block"
   ]
  },
  {
   "cell_type": "code",
   "execution_count": null,
   "metadata": {},
   "outputs": [],
   "source": [
    "age = input(' Enter your age : ')\n",
    "\n",
    "your_age = int(age)\n",
    "\n",
    "if your_age < 5 :\n",
    "    ticket_price = 5\n",
    "elif your_age < 16 :\n",
    "    ticket_price = 10\n",
    "else : \n",
    "    ticket_price = 18\n",
    "\n",
    "print(f\"You'll pay ${ticket_price} for the ticket \")\n"
   ]
  },
  {
   "cell_type": "markdown",
   "metadata": {},
   "source": [
    "> # Python tranary Operator\n",
    "\n",
    "###  Introduction to Python Ternary Operator "
   ]
  },
  {
   "cell_type": "code",
   "execution_count": null,
   "metadata": {},
   "outputs": [],
   "source": [
    "age = input ('Enter your age :')\n",
    "\n",
    "if int(age) >= 18:\n",
    "    ticket_price = 20\n",
    "else:\n",
    "    ticket_price = 5\n",
    "    \n",
    "print(f\"The ticket price is {ticket_price}\")\n"
   ]
  },
  {
   "cell_type": "code",
   "execution_count": null,
   "metadata": {},
   "outputs": [],
   "source": [
    "if int(age) >= 18 :\n",
    "    ticket_price = 20\n",
    "else:\n",
    "    ticket_price = 5\n",
    "    \n",
    "    \n",
    "ticket_price = 20 if int(age) >= 18 else 5"
   ]
  },
  {
   "cell_type": "markdown",
   "metadata": {},
   "source": [
    "value_if_true if condition else value_if_false\n",
    "\n",
    "* if condition:\n",
    "*      value_if_true\n",
    "* else:\n",
    "*       value_if_true\n",
    "\n",
    "\n",
    "* condition ? value_if_true : value_if_false"
   ]
  },
  {
   "cell_type": "code",
   "execution_count": null,
   "metadata": {},
   "outputs": [],
   "source": [
    "age =  input('Enter your age : ')\n",
    "\n",
    "ticket_price = 20 if int(age) >= 18 else 5\n",
    "\n",
    "print (f\"The ticket price is ${ticket_price}\")\n"
   ]
  },
  {
   "cell_type": "markdown",
   "metadata": {},
   "source": [
    "> # Python for Loop with Range\n",
    "\n",
    "### introduction to Python for loop statement with the range() function\n",
    "\n",
    "* for index in range(n):\n",
    "*     statement"
   ]
  },
  {
   "cell_type": "code",
   "execution_count": 36,
   "metadata": {},
   "outputs": [
    {
     "name": "stdout",
     "output_type": "stream",
     "text": [
      "0\n",
      "1\n",
      "2\n",
      "3\n",
      "4\n"
     ]
    }
   ],
   "source": [
    "for index in range(5):\n",
    "    print(index)"
   ]
  },
  {
   "cell_type": "code",
   "execution_count": 37,
   "metadata": {},
   "outputs": [
    {
     "name": "stdout",
     "output_type": "stream",
     "text": [
      "1\n",
      "2\n",
      "3\n",
      "4\n",
      "5\n"
     ]
    }
   ],
   "source": [
    "for index in range(5):\n",
    "    print(index + 1)"
   ]
  },
  {
   "cell_type": "markdown",
   "metadata": {},
   "source": [
    "* range ( start , end)\n",
    "\n",
    "> ## Specifying the increment for the sequence\n",
    "\n",
    "* range ( start, stop, step)"
   ]
  },
  {
   "cell_type": "code",
   "execution_count": null,
   "metadata": {},
   "outputs": [],
   "source": [
    "for index in range(1, 6):\n",
    "    print(index)"
   ]
  },
  {
   "cell_type": "code",
   "execution_count": 38,
   "metadata": {},
   "outputs": [
    {
     "name": "stdout",
     "output_type": "stream",
     "text": [
      "0\n",
      "2\n",
      "4\n",
      "6\n",
      "8\n",
      "10\n"
     ]
    }
   ],
   "source": [
    "for index in range(0, 11, 2):\n",
    "    print(index)"
   ]
  },
  {
   "cell_type": "markdown",
   "metadata": {},
   "source": [
    "## Using Python for loop to calculate the sum of a sequence"
   ]
  },
  {
   "cell_type": "code",
   "execution_count": 39,
   "metadata": {},
   "outputs": [
    {
     "name": "stdout",
     "output_type": "stream",
     "text": [
      "5050\n"
     ]
    }
   ],
   "source": [
    "sum = 0 \n",
    "for num in range(101):\n",
    "    sum += num\n",
    "\n",
    "print(sum)\n"
   ]
  },
  {
   "cell_type": "code",
   "execution_count": 40,
   "metadata": {},
   "outputs": [
    {
     "name": "stdout",
     "output_type": "stream",
     "text": [
      "5050.0\n"
     ]
    }
   ],
   "source": [
    "n = 100\n",
    "sum = n * (n + 1)/2\n",
    "print(sum)"
   ]
  },
  {
   "cell_type": "markdown",
   "metadata": {},
   "source": [
    "> # Python while \n",
    "\n",
    "### Introduction to the Python while statement \n",
    "\n",
    "* while condition : \n",
    "*       body"
   ]
  },
  {
   "cell_type": "code",
   "execution_count": null,
   "metadata": {},
   "outputs": [],
   "source": [
    "max = 5\n",
    "counter = 0\n",
    "\n",
    "while counter < max :\n",
    "    print (counter)\n",
    "    counter += 1"
   ]
  },
  {
   "cell_type": "markdown",
   "metadata": {},
   "source": [
    "### Using the python while statement to build a simple command prompt program \n",
    "\n",
    "*  command  =  ''"
   ]
  },
  {
   "cell_type": "code",
   "execution_count": 41,
   "metadata": {},
   "outputs": [
    {
     "ename": "NameError",
     "evalue": "name 'command' is not defined",
     "output_type": "error",
     "traceback": [
      "\u001b[1;31m---------------------------------------------------------------------------\u001b[0m",
      "\u001b[1;31mNameError\u001b[0m                                 Traceback (most recent call last)",
      "Cell \u001b[1;32mIn[41], line 1\u001b[0m\n\u001b[1;32m----> 1\u001b[0m \u001b[38;5;28;01mwhile\u001b[39;00m \u001b[43mcommand\u001b[49m\u001b[38;5;241m.\u001b[39mlower() \u001b[38;5;241m!=\u001b[39m \u001b[38;5;124m'\u001b[39m\u001b[38;5;124mquit\u001b[39m\u001b[38;5;124m'\u001b[39m :\n\u001b[0;32m      2\u001b[0m     command \u001b[38;5;241m=\u001b[39m \u001b[38;5;28minput\u001b[39m (\u001b[38;5;124m'\u001b[39m\u001b[38;5;124m>\u001b[39m\u001b[38;5;124m'\u001b[39m)\n\u001b[0;32m      3\u001b[0m     \u001b[38;5;28mprint\u001b[39m(\u001b[38;5;124mf\u001b[39m\u001b[38;5;124m'\u001b[39m\u001b[38;5;124mEcho : \u001b[39m\u001b[38;5;132;01m{\u001b[39;00mcommand\u001b[38;5;132;01m}\u001b[39;00m\u001b[38;5;124m'\u001b[39m)\n",
      "\u001b[1;31mNameError\u001b[0m: name 'command' is not defined"
     ]
    }
   ],
   "source": [
    "while command.lower() != 'quit' :\n",
    "    command = input ('>')\n",
    "    print(f'Echo : {command}')"
   ]
  },
  {
   "cell_type": "markdown",
   "metadata": {},
   "source": [
    "> # Python Break \n",
    "\n",
    "## Introduction to the Python break statement\n",
    "\n",
    "### break"
   ]
  },
  {
   "cell_type": "code",
   "execution_count": null,
   "metadata": {},
   "outputs": [],
   "source": [
    "for index in range(n):\n",
    "    if condition :\n",
    "        break"
   ]
  },
  {
   "cell_type": "code",
   "execution_count": 42,
   "metadata": {},
   "outputs": [
    {
     "name": "stdout",
     "output_type": "stream",
     "text": [
      "0\n",
      "1\n",
      "2\n",
      "3\n"
     ]
    }
   ],
   "source": [
    "for index in range(0, 10):\n",
    "    print(index)\n",
    "    if index == 3:\n",
    "        break"
   ]
  },
  {
   "cell_type": "code",
   "execution_count": 44,
   "metadata": {},
   "outputs": [
    {
     "name": "stdout",
     "output_type": "stream",
     "text": [
      "(0,0)\n",
      "(0,1)\n",
      "(1,0)\n",
      "(1,1)\n",
      "(2,0)\n",
      "(2,1)\n",
      "(3,0)\n",
      "(3,1)\n",
      "(4,0)\n",
      "(4,1)\n"
     ]
    }
   ],
   "source": [
    "for x in range(5):\n",
    "    for y in range(5):\n",
    "        # terminates the innermost loop\n",
    "        if y > 1:\n",
    "            break\n",
    "        # show coordinates on the screen\n",
    "        print(f\"({x},{y})\")"
   ]
  },
  {
   "cell_type": "markdown",
   "metadata": {},
   "source": [
    "> # Using Python break statement with a while loop\n",
    "\n",
    "*  while condition:\n",
    "*     # more code \n",
    "*     if condition:\n",
    "*         break"
   ]
  },
  {
   "cell_type": "code",
   "execution_count": 45,
   "metadata": {},
   "outputs": [
    {
     "name": "stdout",
     "output_type": "stream",
     "text": [
      "---Help : type quit to exit ---\n"
     ]
    }
   ],
   "source": [
    "print('---Help : type quit to exit ---')\n",
    "while True:\n",
    "    color = input (' Enter your favorite color : ')\n",
    "    if color.lower() == 'quit':\n",
    "        break"
   ]
  },
  {
   "cell_type": "markdown",
   "metadata": {},
   "source": [
    "> # Python Continue\n",
    "\n",
    "## Introduction to the Python continue statements\n",
    "\n",
    "\n",
    "*  for index in range(n) :\n",
    "*      if condition:\n",
    "*       continue\n",
    "*      # more code here\n",
    "\n",
    "*   while condition1 :  \n",
    "*      if condition2 :\n",
    "*       continue\n",
    "*      # more code here\n",
    "\n",
    "\n",
    "### Using Python continue in a for loop example \n"
   ]
  },
  {
   "cell_type": "code",
   "execution_count": 2,
   "metadata": {},
   "outputs": [
    {
     "name": "stdout",
     "output_type": "stream",
     "text": [
      "0\n",
      "2\n",
      "4\n",
      "6\n",
      "8\n"
     ]
    }
   ],
   "source": [
    "for index in range(10) : \n",
    "    if index % 2:\n",
    "        continue \n",
    "    print(index)"
   ]
  },
  {
   "cell_type": "code",
   "execution_count": 3,
   "metadata": {},
   "outputs": [
    {
     "name": "stdout",
     "output_type": "stream",
     "text": [
      "9\n"
     ]
    }
   ],
   "source": [
    "for index in range(10) : \n",
    "    if index % 2:\n",
    "        continue \n",
    "    \n",
    "print(index)"
   ]
  },
  {
   "cell_type": "markdown",
   "metadata": {},
   "source": [
    "> ## Using Python continue in a while loop example"
   ]
  },
  {
   "cell_type": "code",
   "execution_count": 4,
   "metadata": {},
   "outputs": [
    {
     "name": "stdout",
     "output_type": "stream",
     "text": [
      "1\n",
      "3\n",
      "5\n",
      "7\n",
      "9\n"
     ]
    }
   ],
   "source": [
    "# print the odd numbers\n",
    "\n",
    "counter = 0 \n",
    "while counter < 10 :\n",
    "    counter += 1\n",
    "    \n",
    "    if not counter % 2 : \n",
    "        continue\n",
    "    print(counter)"
   ]
  },
  {
   "cell_type": "markdown",
   "metadata": {},
   "source": [
    "> # Python Pass\n",
    "\n",
    "### introduction to the python pass statement \n"
   ]
  },
  {
   "cell_type": "code",
   "execution_count": 92,
   "metadata": {},
   "outputs": [],
   "source": [
    "counter = 1\n",
    "max = 10 \n",
    "if counter <= max : \n",
    "    counter+= 1\n",
    "else: \n",
    "# impliment later\n",
    "\n",
    "    print(counter)"
   ]
  },
  {
   "cell_type": "code",
   "execution_count": 9,
   "metadata": {},
   "outputs": [],
   "source": [
    "counter = 1\n",
    "max = 10 \n",
    "if counter <= max : \n",
    "    counter+= 1\n",
    "else: \n",
    "    pass\n",
    "# impliment later\n"
   ]
  },
  {
   "cell_type": "markdown",
   "metadata": {},
   "source": [
    "> # Using the Python pass statement with the if statement example \n",
    "\n",
    "* if condition : \n",
    "*       pass\n",
    "\n",
    "### Using the Python pass statement with the for statement example \n",
    "\n",
    "### Using the Python pass statement with the while statement example \n",
    "\n",
    "* while condition : \n",
    "*       pass\n",
    "\n",
    "### Using the Python pass statement with the while statement example \n",
    "\n",
    "* def fn() : \n",
    "*    pass\n",
    "\n",
    "* class stream : \n",
    "*       pass"
   ]
  },
  {
   "cell_type": "code",
   "execution_count": 10,
   "metadata": {},
   "outputs": [],
   "source": [
    "for i in range(1, 100):\n",
    "    pass"
   ]
  },
  {
   "cell_type": "markdown",
   "metadata": {},
   "source": [
    "> # Python functions\n",
    "\n",
    "## What is a Function\n",
    "* A function is a named code block that performs a job or returns a value.\n",
    "\n",
    "### Why do you need a functions in python\n",
    "* this is how a function looks like in python print()\n",
    "\n",
    "### Defining a Python function\n"
   ]
  },
  {
   "cell_type": "code",
   "execution_count": null,
   "metadata": {},
   "outputs": [],
   "source": [
    "def greet():\n",
    "    \"\"\" Display a greeting to users \"\"\"\n",
    "    print('Hi ')\n"
   ]
  },
  {
   "cell_type": "markdown",
   "metadata": {},
   "source": [
    "> # Function consists of two things\n",
    "\n",
    "### ( 1 ) Function Defination\n",
    "\n",
    "### ( 2 ) Function Body\n",
    "\n",
    "## Calling a function\n",
    "\n",
    "*   greet()\n",
    "*   Hi\n",
    "\n",
    "## Passing information to a Python functions\n",
    "\n",
    "* def greet(name) :"
   ]
  },
  {
   "cell_type": "code",
   "execution_count": 12,
   "metadata": {},
   "outputs": [],
   "source": [
    "def greet(name) :\n",
    "    print(f\"Hi {name}\")"
   ]
  },
  {
   "cell_type": "code",
   "execution_count": 13,
   "metadata": {},
   "outputs": [
    {
     "name": "stdout",
     "output_type": "stream",
     "text": [
      "Hi john\n"
     ]
    }
   ],
   "source": [
    "greet('john')"
   ]
  },
  {
   "cell_type": "code",
   "execution_count": 14,
   "metadata": {},
   "outputs": [
    {
     "name": "stdout",
     "output_type": "stream",
     "text": [
      "Hi  Jane \n"
     ]
    }
   ],
   "source": [
    "first_name = ' Jane '\n",
    "greet(first_name)"
   ]
  },
  {
   "cell_type": "markdown",
   "metadata": {},
   "source": [
    "> # Parameter Vs. Arguments\n",
    "\n",
    "* A parameter is a piece of information that a function needs.\n",
    "* An Argument is a piece of data that passes into the function.\n",
    "\n",
    "## Returning the Value \n",
    "* A function can perform a task like the greet() function. Or it can return a value.\n",
    "\n",
    "* return vale \n"
   ]
  },
  {
   "cell_type": "code",
   "execution_count": 15,
   "metadata": {},
   "outputs": [],
   "source": [
    "def greet(name):\n",
    "    return f\"Hi {name}\""
   ]
  },
  {
   "cell_type": "code",
   "execution_count": 16,
   "metadata": {},
   "outputs": [],
   "source": [
    "greeting = greet ('John')"
   ]
  },
  {
   "cell_type": "code",
   "execution_count": 17,
   "metadata": {},
   "outputs": [
    {
     "name": "stdout",
     "output_type": "stream",
     "text": [
      "Hi John\n"
     ]
    }
   ],
   "source": [
    "print(greeting)"
   ]
  },
  {
   "cell_type": "markdown",
   "metadata": {},
   "source": [
    "> ## Python function with multiple parameters\n",
    "\n",
    "* A function can have zero, one, or multiple parameters."
   ]
  },
  {
   "cell_type": "code",
   "execution_count": 18,
   "metadata": {},
   "outputs": [
    {
     "name": "stdout",
     "output_type": "stream",
     "text": [
      "30\n"
     ]
    }
   ],
   "source": [
    "def sum (a, b):\n",
    "    return a + b\n",
    "\n",
    "total = sum(10, 20)\n",
    "print(total)"
   ]
  },
  {
   "cell_type": "markdown",
   "metadata": {},
   "source": [
    "> # Python Default Parameters\n",
    "\n",
    "## Introduction to Python Default Parameters\n",
    "\n",
    "* def function_name (param1, param2 = value2, param3 = value3, .... ) :\n",
    "\n",
    "* def function_name (param1 = value1 , param2, param3 ) :\n",
    "* This cause a syntex error\n",
    "\n",
    "## Python default parameters example"
   ]
  },
  {
   "cell_type": "code",
   "execution_count": 19,
   "metadata": {},
   "outputs": [],
   "source": [
    "def greet(name, message = 'Hi'):\n",
    "    return f\"{message} {name}\""
   ]
  },
  {
   "cell_type": "code",
   "execution_count": 20,
   "metadata": {},
   "outputs": [
    {
     "name": "stdout",
     "output_type": "stream",
     "text": [
      "Hello John\n"
     ]
    }
   ],
   "source": [
    "def greet(name, message = 'Hi'):\n",
    "    return f\"{message} {name}\"\n",
    "\n",
    "greeting = greet('John', 'Hello')\n",
    "print(greeting)"
   ]
  },
  {
   "cell_type": "code",
   "execution_count": 21,
   "metadata": {},
   "outputs": [
    {
     "name": "stdout",
     "output_type": "stream",
     "text": [
      "Hi John\n"
     ]
    }
   ],
   "source": [
    "def greet(name, message = 'Hi'):\n",
    "    return f\"{message} {name}\"\n",
    "\n",
    "greeting = greet('John')\n",
    "print(greeting)"
   ]
  },
  {
   "cell_type": "markdown",
   "metadata": {},
   "source": [
    "> # Multiple Default Parameters "
   ]
  },
  {
   "cell_type": "code",
   "execution_count": null,
   "metadata": {},
   "outputs": [],
   "source": [
    "def greet( name = 'there', message = 'Hi'):\n",
    "    return f\"{message}, {name}\""
   ]
  },
  {
   "cell_type": "code",
   "execution_count": 22,
   "metadata": {},
   "outputs": [
    {
     "name": "stdout",
     "output_type": "stream",
     "text": [
      "Hi there\n"
     ]
    }
   ],
   "source": [
    "def greet( name = 'there', message = 'Hi'):\n",
    "    return f\"{message} {name}\"\n",
    "\n",
    "greeting = greet()\n",
    "print(greeting)"
   ]
  },
  {
   "cell_type": "code",
   "execution_count": 23,
   "metadata": {},
   "outputs": [
    {
     "name": "stdout",
     "output_type": "stream",
     "text": [
      "Hi Hello\n"
     ]
    }
   ],
   "source": [
    "def greet( name = 'there', message = 'Hi'):\n",
    "    return f\"{message} {name}\"\n",
    "\n",
    "greeting = greet('Hello')\n",
    "print(greeting)"
   ]
  },
  {
   "cell_type": "code",
   "execution_count": 24,
   "metadata": {},
   "outputs": [
    {
     "name": "stdout",
     "output_type": "stream",
     "text": [
      "Hello there\n"
     ]
    }
   ],
   "source": [
    "def greet( name = 'there', message = 'Hi'):\n",
    "    return f\"{message} {name}\"\n",
    "\n",
    "greeting = greet(message = 'Hello')\n",
    "print(greeting)"
   ]
  },
  {
   "cell_type": "markdown",
   "metadata": {},
   "source": [
    "> # Python Keyword Arguments\n",
    "\n",
    "## Introduction to the Python Keyword Arguments\n",
    "\n",
    "*  def get_net_price (price,, discount):\n",
    "*       return price * (1 - discount)"
   ]
  },
  {
   "cell_type": "code",
   "execution_count": 26,
   "metadata": {},
   "outputs": [],
   "source": [
    "def get_net_price (price, discount):\n",
    "    return price * (1 - discount)"
   ]
  },
  {
   "cell_type": "code",
   "execution_count": 28,
   "metadata": {},
   "outputs": [
    {
     "name": "stdout",
     "output_type": "stream",
     "text": [
      "90.0\n"
     ]
    }
   ],
   "source": [
    "net_price = get_net_price (100, 0.1 )\n",
    "print(net_price)"
   ]
  },
  {
   "cell_type": "code",
   "execution_count": 29,
   "metadata": {},
   "outputs": [
    {
     "name": "stdout",
     "output_type": "stream",
     "text": [
      "-9.9\n"
     ]
    }
   ],
   "source": [
    "net_price = get_net_price (0.1, 100 )\n",
    "print(net_price)"
   ]
  },
  {
   "cell_type": "markdown",
   "metadata": {},
   "source": [
    "*  fn(parameter1=value1, parameter2=value2)\n",
    "\n",
    "*  fn(parameter2=value2, parameter1=value1)\n",
    "\n",
    "*  net_price = get_net_price ( price = 100, discount = 0.1 )\n",
    "\n",
    "*  net_price = get_net_price ( discount = 0.1, price = 100 )"
   ]
  },
  {
   "cell_type": "code",
   "execution_count": 31,
   "metadata": {},
   "outputs": [],
   "source": [
    "def get_net_price (price, discount = 0.05, tax = 0.07 ):\n",
    "    return price * ( 1 + tax - discount )"
   ]
  },
  {
   "cell_type": "code",
   "execution_count": 32,
   "metadata": {},
   "outputs": [
    {
     "name": "stdout",
     "output_type": "stream",
     "text": [
      "102.0\n"
     ]
    }
   ],
   "source": [
    "net_price = get_net_price ( 100 )\n",
    "print(net_price)"
   ]
  },
  {
   "cell_type": "code",
   "execution_count": 33,
   "metadata": {},
   "outputs": [
    {
     "name": "stdout",
     "output_type": "stream",
     "text": [
      "101.0\n"
     ]
    }
   ],
   "source": [
    "net_price = get_net_price ( price = 100, discount = 0.06 )\n",
    "print (net_price)"
   ]
  },
  {
   "cell_type": "code",
   "execution_count": 34,
   "metadata": {},
   "outputs": [
    {
     "name": "stdout",
     "output_type": "stream",
     "text": [
      "101.0\n"
     ]
    }
   ],
   "source": [
    "net_price = get_net_price ( 100, discount = 0.06 )\n",
    "print (net_price)"
   ]
  },
  {
   "cell_type": "markdown",
   "metadata": {},
   "source": [
    "> ## Python keyword argument requirements"
   ]
  },
  {
   "cell_type": "code",
   "execution_count": 93,
   "metadata": {},
   "outputs": [
    {
     "ename": "SyntaxError",
     "evalue": "positional argument follows keyword argument (2047006506.py, line 1)",
     "output_type": "error",
     "traceback": [
      "\u001b[1;36m  Cell \u001b[1;32mIn[93], line 1\u001b[1;36m\u001b[0m\n\u001b[1;33m    net_price = get_net_price ( 100, tax = 0.08, 0.06 )\u001b[0m\n\u001b[1;37m                                                      ^\u001b[0m\n\u001b[1;31mSyntaxError\u001b[0m\u001b[1;31m:\u001b[0m positional argument follows keyword argument\n"
     ]
    },
    {
     "ename": "",
     "evalue": "",
     "output_type": "error",
     "traceback": [
      "\u001b[1;31mThe Kernel crashed while executing code in the current cell or a previous cell. \n",
      "\u001b[1;31mPlease review the code in the cell(s) to identify a possible cause of the failure. \n",
      "\u001b[1;31mClick <a href='https://aka.ms/vscodeJupyterKernelCrash'>here</a> for more info. \n",
      "\u001b[1;31mView Jupyter <a href='command:jupyter.viewOutput'>log</a> for further details."
     ]
    }
   ],
   "source": [
    "net_price = get_net_price ( 100, tax = 0.08, 0.06 )\n"
   ]
  },
  {
   "cell_type": "code",
   "execution_count": 36,
   "metadata": {},
   "outputs": [
    {
     "name": "stdout",
     "output_type": "stream",
     "text": [
      "102.0\n"
     ]
    }
   ],
   "source": [
    "net_price = get_net_price ( 100 , tax = 0.08, discount = 0.06 )\n",
    "print (net_price)"
   ]
  },
  {
   "cell_type": "markdown",
   "metadata": {},
   "source": [
    "> # Python Recursive functions\n",
    "\n",
    "### Introduction to Recursive functions\n",
    "\n",
    "* A recursive function is a function that calls itself until it doesn't.\n",
    "\n",
    "* def fn()\n",
    "*     #... \n",
    "*     fn()\n",
    "*     #..."
   ]
  },
  {
   "cell_type": "code",
   "execution_count": null,
   "metadata": {},
   "outputs": [],
   "source": [
    "def fn():\n",
    "    #...\n",
    "    if condition:\n",
    "        # stop calling itself\n",
    "    else:\n",
    "        fn()\n",
    "    #...\n",
    "    "
   ]
  },
  {
   "cell_type": "markdown",
   "metadata": {},
   "source": [
    "> # Python Recursive function examples\n",
    "\n",
    "### 1 ) A simple recursive function example in Python\n",
    "\n",
    "3\n",
    "\n",
    "2\n",
    "\n",
    "1\n"
   ]
  },
  {
   "cell_type": "code",
   "execution_count": 1,
   "metadata": {},
   "outputs": [],
   "source": [
    "def count_down(start):\n",
    "    \"\"\" Count down from a Number \"\"\"\n",
    "    print (start)"
   ]
  },
  {
   "cell_type": "code",
   "execution_count": 2,
   "metadata": {},
   "outputs": [
    {
     "name": "stdout",
     "output_type": "stream",
     "text": [
      "3\n"
     ]
    }
   ],
   "source": [
    "count_down(3)"
   ]
  },
  {
   "cell_type": "code",
   "execution_count": 3,
   "metadata": {},
   "outputs": [
    {
     "name": "stdout",
     "output_type": "stream",
     "text": [
      "3\n",
      "2\n",
      "1\n",
      "0\n",
      "-1\n",
      "-2\n",
      "-3\n",
      "-4\n",
      "-5\n",
      "-6\n",
      "-7\n",
      "-8\n",
      "-9\n",
      "-10\n",
      "-11\n",
      "-12\n",
      "-13\n",
      "-14\n",
      "-15\n",
      "-16\n",
      "-17\n",
      "-18\n",
      "-19\n",
      "-20\n",
      "-21\n",
      "-22\n",
      "-23\n",
      "-24\n",
      "-25\n",
      "-26\n",
      "-27\n",
      "-28\n",
      "-29\n",
      "-30\n",
      "-31\n",
      "-32\n",
      "-33\n",
      "-34\n",
      "-35\n",
      "-36\n",
      "-37\n",
      "-38\n",
      "-39\n",
      "-40\n",
      "-41\n",
      "-42\n",
      "-43\n",
      "-44\n",
      "-45\n",
      "-46\n",
      "-47\n",
      "-48\n",
      "-49\n",
      "-50\n",
      "-51\n",
      "-52\n",
      "-53\n",
      "-54\n",
      "-55\n",
      "-56\n",
      "-57\n",
      "-58\n",
      "-59\n",
      "-60\n",
      "-61\n",
      "-62\n",
      "-63\n",
      "-64\n",
      "-65\n",
      "-66\n",
      "-67\n",
      "-68\n",
      "-69\n",
      "-70\n",
      "-71\n",
      "-72\n",
      "-73\n",
      "-74\n",
      "-75\n",
      "-76\n",
      "-77\n",
      "-78\n",
      "-79\n",
      "-80\n",
      "-81\n",
      "-82\n",
      "-83\n",
      "-84\n",
      "-85\n",
      "-86\n",
      "-87\n",
      "-88\n",
      "-89\n",
      "-90\n",
      "-91\n",
      "-92\n",
      "-93\n",
      "-94\n",
      "-95\n",
      "-96\n",
      "-97\n",
      "-98\n",
      "-99\n",
      "-100\n",
      "-101\n",
      "-102\n",
      "-103\n",
      "-104\n",
      "-105\n",
      "-106\n",
      "-107\n",
      "-108\n",
      "-109\n",
      "-110\n",
      "-111\n",
      "-112\n",
      "-113\n",
      "-114\n",
      "-115\n",
      "-116\n",
      "-117\n",
      "-118\n",
      "-119\n",
      "-120\n",
      "-121\n",
      "-122\n",
      "-123\n",
      "-124\n",
      "-125\n",
      "-126\n",
      "-127\n",
      "-128\n",
      "-129\n",
      "-130\n",
      "-131\n",
      "-132\n",
      "-133\n",
      "-134\n",
      "-135\n",
      "-136\n",
      "-137\n",
      "-138\n",
      "-139\n",
      "-140\n",
      "-141\n",
      "-142\n",
      "-143\n",
      "-144\n",
      "-145\n",
      "-146\n",
      "-147\n",
      "-148\n",
      "-149\n",
      "-150\n",
      "-151\n",
      "-152\n",
      "-153\n",
      "-154\n",
      "-155\n",
      "-156\n",
      "-157\n",
      "-158\n",
      "-159\n",
      "-160\n",
      "-161\n",
      "-162\n",
      "-163\n",
      "-164\n",
      "-165\n",
      "-166\n",
      "-167\n",
      "-168\n",
      "-169\n",
      "-170\n",
      "-171\n",
      "-172\n",
      "-173\n",
      "-174\n",
      "-175\n",
      "-176\n",
      "-177\n",
      "-178\n",
      "-179\n",
      "-180\n",
      "-181\n",
      "-182\n",
      "-183\n",
      "-184\n",
      "-185\n",
      "-186\n",
      "-187\n",
      "-188\n",
      "-189\n",
      "-190\n",
      "-191\n",
      "-192\n",
      "-193\n",
      "-194\n",
      "-195\n",
      "-196\n",
      "-197\n",
      "-198\n",
      "-199\n",
      "-200\n",
      "-201\n",
      "-202\n",
      "-203\n",
      "-204\n",
      "-205\n",
      "-206\n",
      "-207\n",
      "-208\n",
      "-209\n",
      "-210\n",
      "-211\n",
      "-212\n",
      "-213\n",
      "-214\n",
      "-215\n",
      "-216\n",
      "-217\n",
      "-218\n",
      "-219\n",
      "-220\n",
      "-221\n",
      "-222\n",
      "-223\n",
      "-224\n",
      "-225\n",
      "-226\n",
      "-227\n",
      "-228\n",
      "-229\n",
      "-230\n",
      "-231\n",
      "-232\n",
      "-233\n",
      "-234\n",
      "-235\n",
      "-236\n",
      "-237\n",
      "-238\n",
      "-239\n",
      "-240\n",
      "-241\n",
      "-242\n",
      "-243\n",
      "-244\n",
      "-245\n",
      "-246\n",
      "-247\n",
      "-248\n",
      "-249\n",
      "-250\n",
      "-251\n",
      "-252\n",
      "-253\n",
      "-254\n",
      "-255\n",
      "-256\n",
      "-257\n",
      "-258\n",
      "-259\n",
      "-260\n",
      "-261\n",
      "-262\n",
      "-263\n",
      "-264\n",
      "-265\n",
      "-266\n",
      "-267\n",
      "-268\n",
      "-269\n",
      "-270\n",
      "-271\n",
      "-272\n",
      "-273\n",
      "-274\n",
      "-275\n",
      "-276\n",
      "-277\n",
      "-278\n",
      "-279\n",
      "-280\n",
      "-281\n",
      "-282\n",
      "-283\n",
      "-284\n",
      "-285\n",
      "-286\n",
      "-287\n",
      "-288\n",
      "-289\n",
      "-290\n",
      "-291\n",
      "-292\n",
      "-293\n",
      "-294\n",
      "-295\n",
      "-296\n",
      "-297\n",
      "-298\n",
      "-299\n",
      "-300\n",
      "-301\n",
      "-302\n",
      "-303\n",
      "-304\n",
      "-305\n",
      "-306\n",
      "-307\n",
      "-308\n",
      "-309\n",
      "-310\n",
      "-311\n",
      "-312\n",
      "-313\n",
      "-314\n",
      "-315\n",
      "-316\n",
      "-317\n",
      "-318\n",
      "-319\n",
      "-320\n",
      "-321\n",
      "-322\n",
      "-323\n",
      "-324\n",
      "-325\n",
      "-326\n",
      "-327\n",
      "-328\n",
      "-329\n",
      "-330\n",
      "-331\n",
      "-332\n",
      "-333\n",
      "-334\n",
      "-335\n",
      "-336\n",
      "-337\n",
      "-338\n",
      "-339\n",
      "-340\n",
      "-341\n",
      "-342\n",
      "-343\n",
      "-344\n",
      "-345\n",
      "-346\n",
      "-347\n",
      "-348\n",
      "-349\n",
      "-350\n",
      "-351\n",
      "-352\n",
      "-353\n",
      "-354\n",
      "-355\n",
      "-356\n",
      "-357\n",
      "-358\n",
      "-359\n",
      "-360\n",
      "-361\n",
      "-362\n",
      "-363\n",
      "-364\n",
      "-365\n",
      "-366\n",
      "-367\n",
      "-368\n",
      "-369\n",
      "-370\n",
      "-371\n",
      "-372\n",
      "-373\n",
      "-374\n",
      "-375\n",
      "-376\n",
      "-377\n",
      "-378\n",
      "-379\n",
      "-380\n",
      "-381\n",
      "-382\n",
      "-383\n",
      "-384\n",
      "-385\n",
      "-386\n",
      "-387\n",
      "-388\n",
      "-389\n",
      "-390\n",
      "-391\n",
      "-392\n",
      "-393\n",
      "-394\n",
      "-395\n",
      "-396\n",
      "-397\n",
      "-398\n",
      "-399\n",
      "-400\n",
      "-401\n",
      "-402\n",
      "-403\n",
      "-404\n",
      "-405\n",
      "-406\n",
      "-407\n",
      "-408\n",
      "-409\n",
      "-410\n",
      "-411\n",
      "-412\n",
      "-413\n",
      "-414\n",
      "-415\n",
      "-416\n",
      "-417\n",
      "-418\n",
      "-419\n",
      "-420\n",
      "-421\n",
      "-422\n",
      "-423\n",
      "-424\n",
      "-425\n",
      "-426\n",
      "-427\n",
      "-428\n",
      "-429\n",
      "-430\n",
      "-431\n",
      "-432\n",
      "-433\n",
      "-434\n",
      "-435\n",
      "-436\n",
      "-437\n",
      "-438\n",
      "-439\n",
      "-440\n",
      "-441\n",
      "-442\n",
      "-443\n",
      "-444\n",
      "-445\n",
      "-446\n",
      "-447\n",
      "-448\n",
      "-449\n",
      "-450\n",
      "-451\n",
      "-452\n",
      "-453\n",
      "-454\n",
      "-455\n",
      "-456\n",
      "-457\n",
      "-458\n",
      "-459\n",
      "-460\n",
      "-461\n",
      "-462\n",
      "-463\n",
      "-464\n",
      "-465\n",
      "-466\n",
      "-467\n",
      "-468\n",
      "-469\n",
      "-470\n",
      "-471\n",
      "-472\n",
      "-473\n",
      "-474\n",
      "-475\n",
      "-476\n",
      "-477\n",
      "-478\n",
      "-479\n",
      "-480\n",
      "-481\n",
      "-482\n",
      "-483\n",
      "-484\n",
      "-485\n",
      "-486\n",
      "-487\n",
      "-488\n",
      "-489\n",
      "-490\n",
      "-491\n",
      "-492\n",
      "-493\n",
      "-494\n",
      "-495\n",
      "-496\n",
      "-497\n",
      "-498\n",
      "-499\n",
      "-500\n",
      "-501\n",
      "-502\n",
      "-503\n",
      "-504\n",
      "-505\n",
      "-506\n",
      "-507\n",
      "-508\n",
      "-509\n",
      "-510\n",
      "-511\n",
      "-512\n",
      "-513\n",
      "-514\n",
      "-515\n",
      "-516\n",
      "-517\n",
      "-518\n",
      "-519\n",
      "-520\n",
      "-521\n",
      "-522\n",
      "-523\n",
      "-524\n",
      "-525\n",
      "-526\n",
      "-527\n",
      "-528\n",
      "-529\n",
      "-530\n",
      "-531\n",
      "-532\n",
      "-533\n",
      "-534\n",
      "-535\n",
      "-536\n",
      "-537\n",
      "-538\n",
      "-539\n",
      "-540\n",
      "-541\n",
      "-542\n",
      "-543\n",
      "-544\n",
      "-545\n",
      "-546\n",
      "-547\n",
      "-548\n",
      "-549\n",
      "-550\n",
      "-551\n",
      "-552\n",
      "-553\n",
      "-554\n",
      "-555\n",
      "-556\n",
      "-557\n",
      "-558\n",
      "-559\n",
      "-560\n",
      "-561\n",
      "-562\n",
      "-563\n",
      "-564\n",
      "-565\n",
      "-566\n",
      "-567\n",
      "-568\n",
      "-569\n",
      "-570\n",
      "-571\n",
      "-572\n",
      "-573\n",
      "-574\n",
      "-575\n",
      "-576\n",
      "-577\n",
      "-578\n",
      "-579\n",
      "-580\n",
      "-581\n",
      "-582\n",
      "-583\n",
      "-584\n",
      "-585\n",
      "-586\n",
      "-587\n",
      "-588\n",
      "-589\n",
      "-590\n",
      "-591\n",
      "-592\n",
      "-593\n",
      "-594\n",
      "-595\n",
      "-596\n",
      "-597\n",
      "-598\n",
      "-599\n",
      "-600\n",
      "-601\n",
      "-602\n",
      "-603\n",
      "-604\n",
      "-605\n",
      "-606\n",
      "-607\n",
      "-608\n",
      "-609\n",
      "-610\n",
      "-611\n",
      "-612\n",
      "-613\n",
      "-614\n",
      "-615\n",
      "-616\n",
      "-617\n",
      "-618\n",
      "-619\n",
      "-620\n",
      "-621\n",
      "-622\n",
      "-623\n",
      "-624\n",
      "-625\n",
      "-626\n",
      "-627\n",
      "-628\n",
      "-629\n",
      "-630\n",
      "-631\n",
      "-632\n",
      "-633\n",
      "-634\n",
      "-635\n",
      "-636\n",
      "-637\n",
      "-638\n",
      "-639\n",
      "-640\n",
      "-641\n",
      "-642\n",
      "-643\n",
      "-644\n",
      "-645\n",
      "-646\n",
      "-647\n",
      "-648\n",
      "-649\n",
      "-650\n",
      "-651\n",
      "-652\n",
      "-653\n",
      "-654\n",
      "-655\n",
      "-656\n",
      "-657\n",
      "-658\n",
      "-659\n",
      "-660\n",
      "-661\n",
      "-662\n",
      "-663\n",
      "-664\n",
      "-665\n",
      "-666\n",
      "-667\n",
      "-668\n",
      "-669\n",
      "-670\n",
      "-671\n",
      "-672\n",
      "-673\n",
      "-674\n",
      "-675\n",
      "-676\n",
      "-677\n",
      "-678\n",
      "-679\n",
      "-680\n",
      "-681\n",
      "-682\n",
      "-683\n",
      "-684\n",
      "-685\n",
      "-686\n",
      "-687\n",
      "-688\n",
      "-689\n",
      "-690\n",
      "-691\n",
      "-692\n",
      "-693\n",
      "-694\n",
      "-695\n",
      "-696\n",
      "-697\n",
      "-698\n",
      "-699\n",
      "-700\n",
      "-701\n",
      "-702\n",
      "-703\n",
      "-704\n",
      "-705\n",
      "-706\n",
      "-707\n",
      "-708\n",
      "-709\n",
      "-710\n",
      "-711\n",
      "-712\n",
      "-713\n",
      "-714\n",
      "-715\n",
      "-716\n",
      "-717\n",
      "-718\n",
      "-719\n",
      "-720\n",
      "-721\n",
      "-722\n",
      "-723\n",
      "-724\n",
      "-725\n",
      "-726\n",
      "-727\n",
      "-728\n",
      "-729\n",
      "-730\n",
      "-731\n",
      "-732\n",
      "-733\n",
      "-734\n",
      "-735\n",
      "-736\n",
      "-737\n",
      "-738\n",
      "-739\n",
      "-740\n",
      "-741\n",
      "-742\n",
      "-743\n",
      "-744\n",
      "-745\n",
      "-746\n",
      "-747\n",
      "-748\n",
      "-749\n",
      "-750\n",
      "-751\n",
      "-752\n",
      "-753\n",
      "-754\n",
      "-755\n",
      "-756\n",
      "-757\n",
      "-758\n",
      "-759\n",
      "-760\n",
      "-761\n",
      "-762\n",
      "-763\n",
      "-764\n",
      "-765\n",
      "-766\n",
      "-767\n",
      "-768\n",
      "-769\n",
      "-770\n",
      "-771\n",
      "-772\n",
      "-773\n",
      "-774\n",
      "-775\n",
      "-776\n",
      "-777\n",
      "-778\n",
      "-779\n",
      "-780\n",
      "-781\n",
      "-782\n",
      "-783\n",
      "-784\n",
      "-785\n",
      "-786\n",
      "-787\n",
      "-788\n",
      "-789\n",
      "-790\n",
      "-791\n",
      "-792\n",
      "-793\n",
      "-794\n",
      "-795\n",
      "-796\n",
      "-797\n",
      "-798\n",
      "-799\n",
      "-800\n",
      "-801\n",
      "-802\n",
      "-803\n",
      "-804\n",
      "-805\n",
      "-806\n",
      "-807\n",
      "-808\n",
      "-809\n",
      "-810\n",
      "-811\n",
      "-812\n",
      "-813\n",
      "-814\n",
      "-815\n",
      "-816\n",
      "-817\n",
      "-818\n",
      "-819\n",
      "-820\n",
      "-821\n",
      "-822\n",
      "-823\n",
      "-824\n",
      "-825\n",
      "-826\n",
      "-827\n",
      "-828\n",
      "-829\n",
      "-830\n",
      "-831\n",
      "-832\n",
      "-833\n",
      "-834\n",
      "-835\n",
      "-836\n",
      "-837\n",
      "-838\n",
      "-839\n",
      "-840\n",
      "-841\n",
      "-842\n",
      "-843\n",
      "-844\n",
      "-845\n",
      "-846\n",
      "-847\n",
      "-848\n",
      "-849\n",
      "-850\n",
      "-851\n",
      "-852\n",
      "-853\n",
      "-854\n",
      "-855\n",
      "-856\n",
      "-857\n",
      "-858\n",
      "-859\n",
      "-860\n",
      "-861\n",
      "-862\n",
      "-863\n",
      "-864\n",
      "-865\n",
      "-866\n",
      "-867\n",
      "-868\n",
      "-869\n",
      "-870\n",
      "-871\n",
      "-872\n",
      "-873\n",
      "-874\n",
      "-875\n",
      "-876\n",
      "-877\n",
      "-878\n",
      "-879\n",
      "-880\n",
      "-881\n",
      "-882\n",
      "-883\n",
      "-884\n",
      "-885\n",
      "-886\n",
      "-887\n",
      "-888\n",
      "-889\n",
      "-890\n",
      "-891\n",
      "-892\n",
      "-893\n",
      "-894\n",
      "-895\n",
      "-896\n",
      "-897\n",
      "-898\n",
      "-899\n",
      "-900\n",
      "-901\n",
      "-902\n",
      "-903\n",
      "-904\n",
      "-905\n",
      "-906\n",
      "-907\n",
      "-908\n",
      "-909\n",
      "-910\n",
      "-911\n",
      "-912\n",
      "-913\n",
      "-914\n",
      "-915\n",
      "-916\n",
      "-917\n",
      "-918\n",
      "-919\n",
      "-920\n",
      "-921\n",
      "-922\n",
      "-923\n",
      "-924\n",
      "-925\n",
      "-926\n",
      "-927\n",
      "-928\n",
      "-929\n",
      "-930\n",
      "-931\n",
      "-932\n",
      "-933\n",
      "-934\n",
      "-935\n",
      "-936\n",
      "-937\n",
      "-938\n",
      "-939\n",
      "-940\n",
      "-941\n",
      "-942\n",
      "-943\n",
      "-944\n",
      "-945\n",
      "-946\n",
      "-947\n",
      "-948\n",
      "-949\n",
      "-950\n",
      "-951\n",
      "-952\n",
      "-953\n",
      "-954\n",
      "-955\n",
      "-956\n",
      "-957\n",
      "-958\n",
      "-959\n",
      "-960\n",
      "-961\n",
      "-962\n",
      "-963\n",
      "-964\n",
      "-965\n",
      "-966\n",
      "-967\n",
      "-968\n",
      "-969\n",
      "-970\n",
      "-971\n",
      "-972\n",
      "-973\n",
      "-974\n",
      "-975\n",
      "-976\n",
      "-977\n",
      "-978\n",
      "-979\n",
      "-980\n",
      "-981\n",
      "-982\n",
      "-983\n",
      "-984\n",
      "-985\n",
      "-986\n",
      "-987\n",
      "-988\n",
      "-989\n",
      "-990\n",
      "-991\n",
      "-992\n",
      "-993\n",
      "-994\n",
      "-995\n",
      "-996\n",
      "-997\n",
      "-998\n",
      "-999\n",
      "-1000\n",
      "-1001\n",
      "-1002\n",
      "-1003\n",
      "-1004\n",
      "-1005\n",
      "-1006\n",
      "-1007\n",
      "-1008\n",
      "-1009\n",
      "-1010\n",
      "-1011\n",
      "-1012\n",
      "-1013\n",
      "-1014\n",
      "-1015\n",
      "-1016\n",
      "-1017\n",
      "-1018\n",
      "-1019\n",
      "-1020\n",
      "-1021\n",
      "-1022\n",
      "-1023\n",
      "-1024\n",
      "-1025\n",
      "-1026\n",
      "-1027\n",
      "-1028\n",
      "-1029\n",
      "-1030\n",
      "-1031\n",
      "-1032\n",
      "-1033\n",
      "-1034\n",
      "-1035\n",
      "-1036\n",
      "-1037\n",
      "-1038\n",
      "-1039\n",
      "-1040\n",
      "-1041\n",
      "-1042\n",
      "-1043\n",
      "-1044\n",
      "-1045\n",
      "-1046\n",
      "-1047\n",
      "-1048\n",
      "-1049\n",
      "-1050\n",
      "-1051\n",
      "-1052\n",
      "-1053\n",
      "-1054\n",
      "-1055\n",
      "-1056\n",
      "-1057\n",
      "-1058\n",
      "-1059\n",
      "-1060\n",
      "-1061\n",
      "-1062\n",
      "-1063\n",
      "-1064\n",
      "-1065\n",
      "-1066\n",
      "-1067\n",
      "-1068\n",
      "-1069\n",
      "-1070\n",
      "-1071\n",
      "-1072\n",
      "-1073\n",
      "-1074\n",
      "-1075\n",
      "-1076\n",
      "-1077\n",
      "-1078\n",
      "-1079\n",
      "-1080\n",
      "-1081\n",
      "-1082\n",
      "-1083\n",
      "-1084\n",
      "-1085\n",
      "-1086\n",
      "-1087\n",
      "-1088\n",
      "-1089\n",
      "-1090\n",
      "-1091\n",
      "-1092\n",
      "-1093\n",
      "-1094\n",
      "-1095\n",
      "-1096\n",
      "-1097\n",
      "-1098\n",
      "-1099\n",
      "-1100\n",
      "-1101\n",
      "-1102\n",
      "-1103\n",
      "-1104\n",
      "-1105\n",
      "-1106\n",
      "-1107\n",
      "-1108\n",
      "-1109\n",
      "-1110\n",
      "-1111\n",
      "-1112\n",
      "-1113\n",
      "-1114\n",
      "-1115\n",
      "-1116\n",
      "-1117\n",
      "-1118\n",
      "-1119\n",
      "-1120\n",
      "-1121\n",
      "-1122\n",
      "-1123\n",
      "-1124\n",
      "-1125\n",
      "-1126\n",
      "-1127\n",
      "-1128\n",
      "-1129\n",
      "-1130\n",
      "-1131\n",
      "-1132\n",
      "-1133\n",
      "-1134\n",
      "-1135\n",
      "-1136\n",
      "-1137\n",
      "-1138\n",
      "-1139\n",
      "-1140\n",
      "-1141\n",
      "-1142\n",
      "-1143\n",
      "-1144\n",
      "-1145\n",
      "-1146\n",
      "-1147\n",
      "-1148\n",
      "-1149\n",
      "-1150\n",
      "-1151\n",
      "-1152\n",
      "-1153\n",
      "-1154\n",
      "-1155\n",
      "-1156\n",
      "-1157\n",
      "-1158\n",
      "-1159\n",
      "-1160\n",
      "-1161\n",
      "-1162\n",
      "-1163\n",
      "-1164\n",
      "-1165\n",
      "-1166\n",
      "-1167\n",
      "-1168\n",
      "-1169\n",
      "-1170\n",
      "-1171\n",
      "-1172\n",
      "-1173\n",
      "-1174\n",
      "-1175\n",
      "-1176\n",
      "-1177\n",
      "-1178\n",
      "-1179\n",
      "-1180\n",
      "-1181\n",
      "-1182\n",
      "-1183\n",
      "-1184\n",
      "-1185\n",
      "-1186\n",
      "-1187\n",
      "-1188\n",
      "-1189\n",
      "-1190\n",
      "-1191\n",
      "-1192\n",
      "-1193\n",
      "-1194\n",
      "-1195\n",
      "-1196\n",
      "-1197\n",
      "-1198\n",
      "-1199\n",
      "-1200\n",
      "-1201\n",
      "-1202\n",
      "-1203\n",
      "-1204\n",
      "-1205\n",
      "-1206\n",
      "-1207\n",
      "-1208\n",
      "-1209\n",
      "-1210\n",
      "-1211\n",
      "-1212\n",
      "-1213\n",
      "-1214\n",
      "-1215\n",
      "-1216\n",
      "-1217\n",
      "-1218\n",
      "-1219\n",
      "-1220\n",
      "-1221\n",
      "-1222\n",
      "-1223\n",
      "-1224\n",
      "-1225\n",
      "-1226\n",
      "-1227\n",
      "-1228\n",
      "-1229\n",
      "-1230\n",
      "-1231\n",
      "-1232\n",
      "-1233\n",
      "-1234\n",
      "-1235\n",
      "-1236\n",
      "-1237\n",
      "-1238\n",
      "-1239\n",
      "-1240\n",
      "-1241\n",
      "-1242\n",
      "-1243\n",
      "-1244\n",
      "-1245\n",
      "-1246\n",
      "-1247\n",
      "-1248\n",
      "-1249\n",
      "-1250\n",
      "-1251\n",
      "-1252\n",
      "-1253\n",
      "-1254\n",
      "-1255\n",
      "-1256\n",
      "-1257\n",
      "-1258\n",
      "-1259\n",
      "-1260\n",
      "-1261\n",
      "-1262\n",
      "-1263\n",
      "-1264\n",
      "-1265\n",
      "-1266\n",
      "-1267\n",
      "-1268\n",
      "-1269\n",
      "-1270\n",
      "-1271\n",
      "-1272\n",
      "-1273\n",
      "-1274\n",
      "-1275\n",
      "-1276\n",
      "-1277\n",
      "-1278\n",
      "-1279\n",
      "-1280\n",
      "-1281\n",
      "-1282\n",
      "-1283\n",
      "-1284\n",
      "-1285\n",
      "-1286\n",
      "-1287\n",
      "-1288\n",
      "-1289\n",
      "-1290\n",
      "-1291\n",
      "-1292\n",
      "-1293\n",
      "-1294\n",
      "-1295\n",
      "-1296\n",
      "-1297\n",
      "-1298\n",
      "-1299\n",
      "-1300\n",
      "-1301\n",
      "-1302\n",
      "-1303\n",
      "-1304\n",
      "-1305\n",
      "-1306\n",
      "-1307\n",
      "-1308\n",
      "-1309\n",
      "-1310\n",
      "-1311\n",
      "-1312\n",
      "-1313\n",
      "-1314\n",
      "-1315\n",
      "-1316\n",
      "-1317\n",
      "-1318\n",
      "-1319\n",
      "-1320\n",
      "-1321\n",
      "-1322\n",
      "-1323\n",
      "-1324\n",
      "-1325\n",
      "-1326\n",
      "-1327\n",
      "-1328\n",
      "-1329\n",
      "-1330\n",
      "-1331\n",
      "-1332\n",
      "-1333\n",
      "-1334\n",
      "-1335\n",
      "-1336\n",
      "-1337\n",
      "-1338\n",
      "-1339\n",
      "-1340\n",
      "-1341\n",
      "-1342\n",
      "-1343\n",
      "-1344\n",
      "-1345\n",
      "-1346\n",
      "-1347\n",
      "-1348\n",
      "-1349\n",
      "-1350\n",
      "-1351\n",
      "-1352\n",
      "-1353\n",
      "-1354\n",
      "-1355\n",
      "-1356\n",
      "-1357\n",
      "-1358\n",
      "-1359\n",
      "-1360\n",
      "-1361\n",
      "-1362\n",
      "-1363\n",
      "-1364\n",
      "-1365\n",
      "-1366\n",
      "-1367\n",
      "-1368\n",
      "-1369\n",
      "-1370\n",
      "-1371\n",
      "-1372\n",
      "-1373\n",
      "-1374\n",
      "-1375\n",
      "-1376\n",
      "-1377\n",
      "-1378\n",
      "-1379\n",
      "-1380\n",
      "-1381\n",
      "-1382\n",
      "-1383\n",
      "-1384\n",
      "-1385\n",
      "-1386\n",
      "-1387\n",
      "-1388\n",
      "-1389\n",
      "-1390\n",
      "-1391\n",
      "-1392\n",
      "-1393\n",
      "-1394\n",
      "-1395\n",
      "-1396\n",
      "-1397\n",
      "-1398\n",
      "-1399\n",
      "-1400\n",
      "-1401\n",
      "-1402\n",
      "-1403\n",
      "-1404\n",
      "-1405\n",
      "-1406\n",
      "-1407\n",
      "-1408\n",
      "-1409\n",
      "-1410\n",
      "-1411\n",
      "-1412\n",
      "-1413\n",
      "-1414\n",
      "-1415\n",
      "-1416\n",
      "-1417\n",
      "-1418\n",
      "-1419\n",
      "-1420\n",
      "-1421\n",
      "-1422\n",
      "-1423\n",
      "-1424\n",
      "-1425\n",
      "-1426\n",
      "-1427\n",
      "-1428\n",
      "-1429\n",
      "-1430\n",
      "-1431\n",
      "-1432\n",
      "-1433\n",
      "-1434\n",
      "-1435\n",
      "-1436\n",
      "-1437\n",
      "-1438\n",
      "-1439\n",
      "-1440\n",
      "-1441\n",
      "-1442\n",
      "-1443\n",
      "-1444\n",
      "-1445\n",
      "-1446\n",
      "-1447\n",
      "-1448\n",
      "-1449\n",
      "-1450\n",
      "-1451\n",
      "-1452\n",
      "-1453\n",
      "-1454\n",
      "-1455\n",
      "-1456\n",
      "-1457\n",
      "-1458\n",
      "-1459\n",
      "-1460\n",
      "-1461\n",
      "-1462\n",
      "-1463\n",
      "-1464\n",
      "-1465\n",
      "-1466\n",
      "-1467\n",
      "-1468\n",
      "-1469\n",
      "-1470\n",
      "-1471\n",
      "-1472\n",
      "-1473\n",
      "-1474\n",
      "-1475\n",
      "-1476\n",
      "-1477\n",
      "-1478\n",
      "-1479\n",
      "-1480\n",
      "-1481\n",
      "-1482\n",
      "-1483\n",
      "-1484\n",
      "-1485\n",
      "-1486\n",
      "-1487\n",
      "-1488\n",
      "-1489\n",
      "-1490\n",
      "-1491\n",
      "-1492\n",
      "-1493\n",
      "-1494\n",
      "-1495\n",
      "-1496\n",
      "-1497\n",
      "-1498\n",
      "-1499\n",
      "-1500\n",
      "-1501\n",
      "-1502\n",
      "-1503\n",
      "-1504\n",
      "-1505\n",
      "-1506\n",
      "-1507\n",
      "-1508\n",
      "-1509\n",
      "-1510\n",
      "-1511\n",
      "-1512\n",
      "-1513\n",
      "-1514\n",
      "-1515\n",
      "-1516\n",
      "-1517\n",
      "-1518\n",
      "-1519\n",
      "-1520\n",
      "-1521\n",
      "-1522\n",
      "-1523\n",
      "-1524\n",
      "-1525\n",
      "-1526\n",
      "-1527\n",
      "-1528\n",
      "-1529\n",
      "-1530\n",
      "-1531\n",
      "-1532\n",
      "-1533\n",
      "-1534\n",
      "-1535\n",
      "-1536\n",
      "-1537\n",
      "-1538\n",
      "-1539\n",
      "-1540\n",
      "-1541\n",
      "-1542\n",
      "-1543\n",
      "-1544\n",
      "-1545\n",
      "-1546\n",
      "-1547\n",
      "-1548\n",
      "-1549\n",
      "-1550\n",
      "-1551\n",
      "-1552\n",
      "-1553\n",
      "-1554\n",
      "-1555\n",
      "-1556\n",
      "-1557\n",
      "-1558\n",
      "-1559\n",
      "-1560\n",
      "-1561\n",
      "-1562\n",
      "-1563\n",
      "-1564\n",
      "-1565\n",
      "-1566\n",
      "-1567\n",
      "-1568\n",
      "-1569\n",
      "-1570\n",
      "-1571\n",
      "-1572\n",
      "-1573\n",
      "-1574\n",
      "-1575\n",
      "-1576\n",
      "-1577\n",
      "-1578\n",
      "-1579\n",
      "-1580\n",
      "-1581\n",
      "-1582\n",
      "-1583\n",
      "-1584\n",
      "-1585\n",
      "-1586\n",
      "-1587\n",
      "-1588\n",
      "-1589\n",
      "-1590\n",
      "-1591\n",
      "-1592\n",
      "-1593\n",
      "-1594\n",
      "-1595\n",
      "-1596\n",
      "-1597\n",
      "-1598\n",
      "-1599\n",
      "-1600\n",
      "-1601\n",
      "-1602\n",
      "-1603\n",
      "-1604\n",
      "-1605\n",
      "-1606\n",
      "-1607\n",
      "-1608\n",
      "-1609\n",
      "-1610\n",
      "-1611\n",
      "-1612\n",
      "-1613\n",
      "-1614\n",
      "-1615\n",
      "-1616\n",
      "-1617\n",
      "-1618\n",
      "-1619\n",
      "-1620\n",
      "-1621\n",
      "-1622\n",
      "-1623\n",
      "-1624\n",
      "-1625\n",
      "-1626\n",
      "-1627\n",
      "-1628\n",
      "-1629\n",
      "-1630\n",
      "-1631\n",
      "-1632\n",
      "-1633\n",
      "-1634\n",
      "-1635\n",
      "-1636\n",
      "-1637\n",
      "-1638\n",
      "-1639\n",
      "-1640\n",
      "-1641\n",
      "-1642\n",
      "-1643\n",
      "-1644\n",
      "-1645\n",
      "-1646\n",
      "-1647\n",
      "-1648\n",
      "-1649\n",
      "-1650\n",
      "-1651\n",
      "-1652\n",
      "-1653\n",
      "-1654\n",
      "-1655\n",
      "-1656\n",
      "-1657\n",
      "-1658\n",
      "-1659\n",
      "-1660\n",
      "-1661\n",
      "-1662\n",
      "-1663\n",
      "-1664\n",
      "-1665\n",
      "-1666\n",
      "-1667\n",
      "-1668\n",
      "-1669\n",
      "-1670\n",
      "-1671\n",
      "-1672\n",
      "-1673\n",
      "-1674\n",
      "-1675\n",
      "-1676\n",
      "-1677\n",
      "-1678\n",
      "-1679\n",
      "-1680\n",
      "-1681\n",
      "-1682\n",
      "-1683\n",
      "-1684\n",
      "-1685\n",
      "-1686\n",
      "-1687\n",
      "-1688\n",
      "-1689\n",
      "-1690\n",
      "-1691\n",
      "-1692\n",
      "-1693\n",
      "-1694\n",
      "-1695\n",
      "-1696\n",
      "-1697\n",
      "-1698\n",
      "-1699\n",
      "-1700\n",
      "-1701\n",
      "-1702\n",
      "-1703\n",
      "-1704\n",
      "-1705\n",
      "-1706\n",
      "-1707\n",
      "-1708\n",
      "-1709\n",
      "-1710\n",
      "-1711\n",
      "-1712\n",
      "-1713\n",
      "-1714\n",
      "-1715\n",
      "-1716\n",
      "-1717\n",
      "-1718\n",
      "-1719\n",
      "-1720\n",
      "-1721\n",
      "-1722\n",
      "-1723\n",
      "-1724\n",
      "-1725\n",
      "-1726\n",
      "-1727\n",
      "-1728\n",
      "-1729\n",
      "-1730\n",
      "-1731\n",
      "-1732\n",
      "-1733\n",
      "-1734\n",
      "-1735\n",
      "-1736\n",
      "-1737\n",
      "-1738\n",
      "-1739\n",
      "-1740\n",
      "-1741\n",
      "-1742\n",
      "-1743\n",
      "-1744\n",
      "-1745\n",
      "-1746\n",
      "-1747\n",
      "-1748\n",
      "-1749\n",
      "-1750\n",
      "-1751\n",
      "-1752\n",
      "-1753\n",
      "-1754\n",
      "-1755\n",
      "-1756\n",
      "-1757\n",
      "-1758\n",
      "-1759\n",
      "-1760\n",
      "-1761\n",
      "-1762\n",
      "-1763\n",
      "-1764\n",
      "-1765\n",
      "-1766\n",
      "-1767\n",
      "-1768\n",
      "-1769\n",
      "-1770\n",
      "-1771\n",
      "-1772\n",
      "-1773\n",
      "-1774\n",
      "-1775\n",
      "-1776\n",
      "-1777\n",
      "-1778\n",
      "-1779\n",
      "-1780\n",
      "-1781\n",
      "-1782\n",
      "-1783\n",
      "-1784\n",
      "-1785\n",
      "-1786\n",
      "-1787\n",
      "-1788\n",
      "-1789\n",
      "-1790\n",
      "-1791\n",
      "-1792\n",
      "-1793\n",
      "-1794\n",
      "-1795\n",
      "-1796\n",
      "-1797\n",
      "-1798\n",
      "-1799\n",
      "-1800\n",
      "-1801\n",
      "-1802\n",
      "-1803\n",
      "-1804\n",
      "-1805\n",
      "-1806\n",
      "-1807\n",
      "-1808\n",
      "-1809\n",
      "-1810\n",
      "-1811\n",
      "-1812\n",
      "-1813\n",
      "-1814\n",
      "-1815\n",
      "-1816\n",
      "-1817\n",
      "-1818\n",
      "-1819\n",
      "-1820\n",
      "-1821\n",
      "-1822\n",
      "-1823\n",
      "-1824\n",
      "-1825\n",
      "-1826\n",
      "-1827\n",
      "-1828\n",
      "-1829\n",
      "-1830\n",
      "-1831\n",
      "-1832\n",
      "-1833\n",
      "-1834\n",
      "-1835\n",
      "-1836\n",
      "-1837\n",
      "-1838\n",
      "-1839\n",
      "-1840\n",
      "-1841\n",
      "-1842\n",
      "-1843\n",
      "-1844\n",
      "-1845\n",
      "-1846\n",
      "-1847\n",
      "-1848\n",
      "-1849\n",
      "-1850\n",
      "-1851\n",
      "-1852\n",
      "-1853\n",
      "-1854\n",
      "-1855\n",
      "-1856\n",
      "-1857\n",
      "-1858\n",
      "-1859\n",
      "-1860\n",
      "-1861\n",
      "-1862\n",
      "-1863\n",
      "-1864\n",
      "-1865\n",
      "-1866\n",
      "-1867\n",
      "-1868\n",
      "-1869\n",
      "-1870\n",
      "-1871\n",
      "-1872\n",
      "-1873\n",
      "-1874\n",
      "-1875\n",
      "-1876\n",
      "-1877\n",
      "-1878\n",
      "-1879\n",
      "-1880\n",
      "-1881\n",
      "-1882\n",
      "-1883\n",
      "-1884\n",
      "-1885\n",
      "-1886\n",
      "-1887\n",
      "-1888\n",
      "-1889\n",
      "-1890\n",
      "-1891\n",
      "-1892\n",
      "-1893\n",
      "-1894\n",
      "-1895\n",
      "-1896\n",
      "-1897\n",
      "-1898\n",
      "-1899\n",
      "-1900\n",
      "-1901\n",
      "-1902\n",
      "-1903\n",
      "-1904\n",
      "-1905\n",
      "-1906\n",
      "-1907\n",
      "-1908\n",
      "-1909\n",
      "-1910\n",
      "-1911\n",
      "-1912\n",
      "-1913\n",
      "-1914\n",
      "-1915\n",
      "-1916\n",
      "-1917\n",
      "-1918\n",
      "-1919\n",
      "-1920\n",
      "-1921\n",
      "-1922\n",
      "-1923\n",
      "-1924\n",
      "-1925\n",
      "-1926\n",
      "-1927\n",
      "-1928\n",
      "-1929\n",
      "-1930\n",
      "-1931\n",
      "-1932\n",
      "-1933\n",
      "-1934\n",
      "-1935\n",
      "-1936\n",
      "-1937\n",
      "-1938\n",
      "-1939\n",
      "-1940\n",
      "-1941\n",
      "-1942\n",
      "-1943\n",
      "-1944\n",
      "-1945\n",
      "-1946\n",
      "-1947\n",
      "-1948\n",
      "-1949\n",
      "-1950\n",
      "-1951\n",
      "-1952\n",
      "-1953\n",
      "-1954\n",
      "-1955\n",
      "-1956\n",
      "-1957\n",
      "-1958\n",
      "-1959\n",
      "-1960\n",
      "-1961\n",
      "-1962\n",
      "-1963\n",
      "-1964\n",
      "-1965\n",
      "-1966\n",
      "-1967\n",
      "-1968\n",
      "-1969\n",
      "-1970\n",
      "-1971\n",
      "-1972\n",
      "-1973\n",
      "-1974\n",
      "-1975\n",
      "-1976\n",
      "-1977\n",
      "-1978\n",
      "-1979\n",
      "-1980\n",
      "-1981\n",
      "-1982\n",
      "-1983\n",
      "-1984\n",
      "-1985\n",
      "-1986\n",
      "-1987\n",
      "-1988\n",
      "-1989\n",
      "-1990\n",
      "-1991\n",
      "-1992\n",
      "-1993\n",
      "-1994\n",
      "-1995\n",
      "-1996\n",
      "-1997\n",
      "-1998\n",
      "-1999\n",
      "-2000\n",
      "-2001\n",
      "-2002\n",
      "-2003\n",
      "-2004\n",
      "-2005\n",
      "-2006\n",
      "-2007\n",
      "-2008\n",
      "-2009\n",
      "-2010\n",
      "-2011\n",
      "-2012\n",
      "-2013\n",
      "-2014\n",
      "-2015\n",
      "-2016\n",
      "-2017\n",
      "-2018\n",
      "-2019\n",
      "-2020\n",
      "-2021\n",
      "-2022\n",
      "-2023\n",
      "-2024\n",
      "-2025\n",
      "-2026\n",
      "-2027\n",
      "-2028\n",
      "-2029\n",
      "-2030\n",
      "-2031\n",
      "-2032\n",
      "-2033\n",
      "-2034\n",
      "-2035\n",
      "-2036\n",
      "-2037\n",
      "-2038\n",
      "-2039\n",
      "-2040\n",
      "-2041\n",
      "-2042\n",
      "-2043\n",
      "-2044\n",
      "-2045\n",
      "-2046\n",
      "-2047\n",
      "-2048\n",
      "-2049\n",
      "-2050\n",
      "-2051\n",
      "-2052\n",
      "-2053\n",
      "-2054\n",
      "-2055\n",
      "-2056\n",
      "-2057\n",
      "-2058\n",
      "-2059\n",
      "-2060\n",
      "-2061\n",
      "-2062\n",
      "-2063\n",
      "-2064\n",
      "-2065\n",
      "-2066\n",
      "-2067\n",
      "-2068\n",
      "-2069\n",
      "-2070\n",
      "-2071\n",
      "-2072\n",
      "-2073\n",
      "-2074\n",
      "-2075\n",
      "-2076\n",
      "-2077\n",
      "-2078\n",
      "-2079\n",
      "-2080\n",
      "-2081\n",
      "-2082\n",
      "-2083\n",
      "-2084\n",
      "-2085\n",
      "-2086\n",
      "-2087\n",
      "-2088\n",
      "-2089\n",
      "-2090\n",
      "-2091\n",
      "-2092\n",
      "-2093\n",
      "-2094\n",
      "-2095\n",
      "-2096\n",
      "-2097\n",
      "-2098\n",
      "-2099\n",
      "-2100\n",
      "-2101\n",
      "-2102\n",
      "-2103\n",
      "-2104\n",
      "-2105\n",
      "-2106\n",
      "-2107\n",
      "-2108\n",
      "-2109\n",
      "-2110\n",
      "-2111\n",
      "-2112\n",
      "-2113\n",
      "-2114\n",
      "-2115\n",
      "-2116\n",
      "-2117\n",
      "-2118\n",
      "-2119\n",
      "-2120\n",
      "-2121\n",
      "-2122\n",
      "-2123\n",
      "-2124\n",
      "-2125\n",
      "-2126\n",
      "-2127\n",
      "-2128\n",
      "-2129\n",
      "-2130\n",
      "-2131\n",
      "-2132\n",
      "-2133\n",
      "-2134\n",
      "-2135\n",
      "-2136\n",
      "-2137\n",
      "-2138\n",
      "-2139\n",
      "-2140\n",
      "-2141\n",
      "-2142\n",
      "-2143\n",
      "-2144\n",
      "-2145\n",
      "-2146\n",
      "-2147\n",
      "-2148\n",
      "-2149\n",
      "-2150\n",
      "-2151\n",
      "-2152\n",
      "-2153\n",
      "-2154\n",
      "-2155\n",
      "-2156\n",
      "-2157\n",
      "-2158\n",
      "-2159\n",
      "-2160\n",
      "-2161\n",
      "-2162\n",
      "-2163\n",
      "-2164\n",
      "-2165\n",
      "-2166\n",
      "-2167\n",
      "-2168\n",
      "-2169\n",
      "-2170\n",
      "-2171\n",
      "-2172\n",
      "-2173\n",
      "-2174\n",
      "-2175\n",
      "-2176\n",
      "-2177\n",
      "-2178\n",
      "-2179\n",
      "-2180\n",
      "-2181\n",
      "-2182\n",
      "-2183\n",
      "-2184\n",
      "-2185\n",
      "-2186\n",
      "-2187\n",
      "-2188\n",
      "-2189\n",
      "-2190\n",
      "-2191\n",
      "-2192\n",
      "-2193\n",
      "-2194\n",
      "-2195\n",
      "-2196\n",
      "-2197\n",
      "-2198\n",
      "-2199\n",
      "-2200\n",
      "-2201\n",
      "-2202\n",
      "-2203\n",
      "-2204\n",
      "-2205\n",
      "-2206\n",
      "-2207\n",
      "-2208\n",
      "-2209\n",
      "-2210\n",
      "-2211\n",
      "-2212\n",
      "-2213\n",
      "-2214\n",
      "-2215\n",
      "-2216\n",
      "-2217\n",
      "-2218\n",
      "-2219\n",
      "-2220\n",
      "-2221\n",
      "-2222\n",
      "-2223\n",
      "-2224\n",
      "-2225\n",
      "-2226\n",
      "-2227\n",
      "-2228\n",
      "-2229\n",
      "-2230\n",
      "-2231\n",
      "-2232\n",
      "-2233\n",
      "-2234\n",
      "-2235\n",
      "-2236\n",
      "-2237\n",
      "-2238\n",
      "-2239\n",
      "-2240\n",
      "-2241\n",
      "-2242\n",
      "-2243\n",
      "-2244\n",
      "-2245\n",
      "-2246\n",
      "-2247\n",
      "-2248\n",
      "-2249\n",
      "-2250\n",
      "-2251\n",
      "-2252\n",
      "-2253\n",
      "-2254\n",
      "-2255\n",
      "-2256\n",
      "-2257\n",
      "-2258\n",
      "-2259\n",
      "-2260\n",
      "-2261\n",
      "-2262\n",
      "-2263\n",
      "-2264\n",
      "-2265\n",
      "-2266\n",
      "-2267\n",
      "-2268\n",
      "-2269\n",
      "-2270\n",
      "-2271\n",
      "-2272\n",
      "-2273\n",
      "-2274\n",
      "-2275\n",
      "-2276\n",
      "-2277\n",
      "-2278\n",
      "-2279\n",
      "-2280\n",
      "-2281\n",
      "-2282\n",
      "-2283\n",
      "-2284\n",
      "-2285\n",
      "-2286\n",
      "-2287\n",
      "-2288\n",
      "-2289\n",
      "-2290\n",
      "-2291\n",
      "-2292\n",
      "-2293\n",
      "-2294\n",
      "-2295\n",
      "-2296\n",
      "-2297\n",
      "-2298\n",
      "-2299\n",
      "-2300\n",
      "-2301\n",
      "-2302\n",
      "-2303\n",
      "-2304\n",
      "-2305\n",
      "-2306\n",
      "-2307\n",
      "-2308\n",
      "-2309\n",
      "-2310\n",
      "-2311\n",
      "-2312\n",
      "-2313\n",
      "-2314\n",
      "-2315\n",
      "-2316\n",
      "-2317\n",
      "-2318\n",
      "-2319\n",
      "-2320\n",
      "-2321\n",
      "-2322\n",
      "-2323\n",
      "-2324\n",
      "-2325\n",
      "-2326\n",
      "-2327\n",
      "-2328\n",
      "-2329\n",
      "-2330\n",
      "-2331\n",
      "-2332\n",
      "-2333\n",
      "-2334\n",
      "-2335\n",
      "-2336\n",
      "-2337\n",
      "-2338\n",
      "-2339\n",
      "-2340\n",
      "-2341\n",
      "-2342\n",
      "-2343\n",
      "-2344\n",
      "-2345\n",
      "-2346\n",
      "-2347\n",
      "-2348\n",
      "-2349\n",
      "-2350\n",
      "-2351\n",
      "-2352\n",
      "-2353\n",
      "-2354\n",
      "-2355\n",
      "-2356\n",
      "-2357\n",
      "-2358\n",
      "-2359\n",
      "-2360\n",
      "-2361\n",
      "-2362\n",
      "-2363\n",
      "-2364\n",
      "-2365\n",
      "-2366\n",
      "-2367\n",
      "-2368\n",
      "-2369\n",
      "-2370\n",
      "-2371\n",
      "-2372\n",
      "-2373\n",
      "-2374\n",
      "-2375\n",
      "-2376\n",
      "-2377\n",
      "-2378\n",
      "-2379\n",
      "-2380\n",
      "-2381\n",
      "-2382\n",
      "-2383\n",
      "-2384\n",
      "-2385\n",
      "-2386\n",
      "-2387\n",
      "-2388\n",
      "-2389\n",
      "-2390\n",
      "-2391\n",
      "-2392\n",
      "-2393\n",
      "-2394\n",
      "-2395\n",
      "-2396\n",
      "-2397\n",
      "-2398\n",
      "-2399\n",
      "-2400\n",
      "-2401\n",
      "-2402\n",
      "-2403\n",
      "-2404\n",
      "-2405\n",
      "-2406\n",
      "-2407\n",
      "-2408\n",
      "-2409\n",
      "-2410\n",
      "-2411\n",
      "-2412\n",
      "-2413\n",
      "-2414\n",
      "-2415\n",
      "-2416\n",
      "-2417\n",
      "-2418\n",
      "-2419\n",
      "-2420\n",
      "-2421\n",
      "-2422\n",
      "-2423\n",
      "-2424\n",
      "-2425\n",
      "-2426\n",
      "-2427\n",
      "-2428\n",
      "-2429\n",
      "-2430\n",
      "-2431\n",
      "-2432\n",
      "-2433\n",
      "-2434\n",
      "-2435\n",
      "-2436\n",
      "-2437\n",
      "-2438\n",
      "-2439\n",
      "-2440\n",
      "-2441\n",
      "-2442\n",
      "-2443\n",
      "-2444\n",
      "-2445\n",
      "-2446\n",
      "-2447\n",
      "-2448\n",
      "-2449\n",
      "-2450\n",
      "-2451\n",
      "-2452\n",
      "-2453\n",
      "-2454\n",
      "-2455\n",
      "-2456\n",
      "-2457\n",
      "-2458\n",
      "-2459\n",
      "-2460\n",
      "-2461\n",
      "-2462\n",
      "-2463\n",
      "-2464\n",
      "-2465\n",
      "-2466\n",
      "-2467\n",
      "-2468\n",
      "-2469\n",
      "-2470\n",
      "-2471\n",
      "-2472\n",
      "-2473\n",
      "-2474\n",
      "-2475\n",
      "-2476\n",
      "-2477\n",
      "-2478\n",
      "-2479\n",
      "-2480\n",
      "-2481\n",
      "-2482\n",
      "-2483\n",
      "-2484\n",
      "-2485\n",
      "-2486\n",
      "-2487\n",
      "-2488\n",
      "-2489\n",
      "-2490\n",
      "-2491\n",
      "-2492\n",
      "-2493\n",
      "-2494\n",
      "-2495\n",
      "-2496\n",
      "-2497\n",
      "-2498\n",
      "-2499\n",
      "-2500\n",
      "-2501\n",
      "-2502\n",
      "-2503\n",
      "-2504\n",
      "-2505\n",
      "-2506\n",
      "-2507\n",
      "-2508\n",
      "-2509\n",
      "-2510\n",
      "-2511\n",
      "-2512\n",
      "-2513\n",
      "-2514\n",
      "-2515\n",
      "-2516\n",
      "-2517\n",
      "-2518\n",
      "-2519\n",
      "-2520\n",
      "-2521\n",
      "-2522\n",
      "-2523\n",
      "-2524\n",
      "-2525\n",
      "-2526\n",
      "-2527\n",
      "-2528\n",
      "-2529\n",
      "-2530\n",
      "-2531\n",
      "-2532\n",
      "-2533\n",
      "-2534\n",
      "-2535\n",
      "-2536\n",
      "-2537\n",
      "-2538\n",
      "-2539\n",
      "-2540\n",
      "-2541\n",
      "-2542\n",
      "-2543\n",
      "-2544\n",
      "-2545\n",
      "-2546\n",
      "-2547\n",
      "-2548\n",
      "-2549\n",
      "-2550\n",
      "-2551\n",
      "-2552\n",
      "-2553\n",
      "-2554\n",
      "-2555\n",
      "-2556\n",
      "-2557\n",
      "-2558\n",
      "-2559\n",
      "-2560\n",
      "-2561\n",
      "-2562\n",
      "-2563\n",
      "-2564\n",
      "-2565\n",
      "-2566\n",
      "-2567\n",
      "-2568\n",
      "-2569\n",
      "-2570\n",
      "-2571\n",
      "-2572\n",
      "-2573\n",
      "-2574\n",
      "-2575\n",
      "-2576\n",
      "-2577\n",
      "-2578\n",
      "-2579\n",
      "-2580\n",
      "-2581\n",
      "-2582\n",
      "-2583\n",
      "-2584\n",
      "-2585\n",
      "-2586\n",
      "-2587\n",
      "-2588\n",
      "-2589\n",
      "-2590\n",
      "-2591\n",
      "-2592\n",
      "-2593\n",
      "-2594\n",
      "-2595\n",
      "-2596\n",
      "-2597\n",
      "-2598\n",
      "-2599\n",
      "-2600\n",
      "-2601\n",
      "-2602\n",
      "-2603\n",
      "-2604\n",
      "-2605\n",
      "-2606\n",
      "-2607\n",
      "-2608\n",
      "-2609\n",
      "-2610\n",
      "-2611\n",
      "-2612\n",
      "-2613\n",
      "-2614\n",
      "-2615\n",
      "-2616\n",
      "-2617\n",
      "-2618\n",
      "-2619\n",
      "-2620\n",
      "-2621\n",
      "-2622\n",
      "-2623\n",
      "-2624\n",
      "-2625\n",
      "-2626\n",
      "-2627\n",
      "-2628\n",
      "-2629\n",
      "-2630\n",
      "-2631\n",
      "-2632\n",
      "-2633\n",
      "-2634\n",
      "-2635\n",
      "-2636\n",
      "-2637\n",
      "-2638\n",
      "-2639\n",
      "-2640\n",
      "-2641\n",
      "-2642\n",
      "-2643\n",
      "-2644\n",
      "-2645\n",
      "-2646\n",
      "-2647\n",
      "-2648\n",
      "-2649\n",
      "-2650\n",
      "-2651\n",
      "-2652\n",
      "-2653\n",
      "-2654\n",
      "-2655\n",
      "-2656\n",
      "-2657\n",
      "-2658\n",
      "-2659\n",
      "-2660\n",
      "-2661\n",
      "-2662\n",
      "-2663\n",
      "-2664\n",
      "-2665\n",
      "-2666\n",
      "-2667\n",
      "-2668\n",
      "-2669\n",
      "-2670\n",
      "-2671\n",
      "-2672\n",
      "-2673\n",
      "-2674\n",
      "-2675\n",
      "-2676\n",
      "-2677\n",
      "-2678\n",
      "-2679\n",
      "-2680\n",
      "-2681\n",
      "-2682\n",
      "-2683\n",
      "-2684\n",
      "-2685\n",
      "-2686\n",
      "-2687\n",
      "-2688\n",
      "-2689\n",
      "-2690\n",
      "-2691\n",
      "-2692\n",
      "-2693\n",
      "-2694\n",
      "-2695\n",
      "-2696\n",
      "-2697\n",
      "-2698\n",
      "-2699\n",
      "-2700\n",
      "-2701\n",
      "-2702\n",
      "-2703\n",
      "-2704\n",
      "-2705\n",
      "-2706\n",
      "-2707\n",
      "-2708\n",
      "-2709\n",
      "-2710\n",
      "-2711\n",
      "-2712\n",
      "-2713\n",
      "-2714\n",
      "-2715\n",
      "-2716\n",
      "-2717\n",
      "-2718\n",
      "-2719\n",
      "-2720\n",
      "-2721\n",
      "-2722\n",
      "-2723\n",
      "-2724\n",
      "-2725\n",
      "-2726\n",
      "-2727\n",
      "-2728\n",
      "-2729\n",
      "-2730\n",
      "-2731\n",
      "-2732\n",
      "-2733\n",
      "-2734\n",
      "-2735\n",
      "-2736\n",
      "-2737\n",
      "-2738\n",
      "-2739\n",
      "-2740\n",
      "-2741\n",
      "-2742\n",
      "-2743\n",
      "-2744\n",
      "-2745\n",
      "-2746\n",
      "-2747\n",
      "-2748\n",
      "-2749\n",
      "-2750\n",
      "-2751\n",
      "-2752\n",
      "-2753\n",
      "-2754\n",
      "-2755\n",
      "-2756\n",
      "-2757\n",
      "-2758\n",
      "-2759\n",
      "-2760\n",
      "-2761\n",
      "-2762\n",
      "-2763\n",
      "-2764\n",
      "-2765\n",
      "-2766\n",
      "-2767\n",
      "-2768\n",
      "-2769\n",
      "-2770\n",
      "-2771\n",
      "-2772\n",
      "-2773\n",
      "-2774\n",
      "-2775\n",
      "-2776\n",
      "-2777\n",
      "-2778\n",
      "-2779\n",
      "-2780\n",
      "-2781\n",
      "-2782\n",
      "-2783\n",
      "-2784\n",
      "-2785\n",
      "-2786\n",
      "-2787\n",
      "-2788\n",
      "-2789\n",
      "-2790\n",
      "-2791\n",
      "-2792\n",
      "-2793\n",
      "-2794\n",
      "-2795\n",
      "-2796\n",
      "-2797\n",
      "-2798\n",
      "-2799\n",
      "-2800\n",
      "-2801\n",
      "-2802\n",
      "-2803\n",
      "-2804\n",
      "-2805\n",
      "-2806\n",
      "-2807\n",
      "-2808\n",
      "-2809\n",
      "-2810\n",
      "-2811\n",
      "-2812\n",
      "-2813\n",
      "-2814\n",
      "-2815\n",
      "-2816\n",
      "-2817\n",
      "-2818\n",
      "-2819\n",
      "-2820\n",
      "-2821\n",
      "-2822\n",
      "-2823\n",
      "-2824\n",
      "-2825\n",
      "-2826\n",
      "-2827\n",
      "-2828\n",
      "-2829\n",
      "-2830\n",
      "-2831\n",
      "-2832\n",
      "-2833\n",
      "-2834\n",
      "-2835\n",
      "-2836\n",
      "-2837\n",
      "-2838\n",
      "-2839\n",
      "-2840\n",
      "-2841\n",
      "-2842\n",
      "-2843\n",
      "-2844\n",
      "-2845\n",
      "-2846\n",
      "-2847\n",
      "-2848\n",
      "-2849\n",
      "-2850\n",
      "-2851\n",
      "-2852\n",
      "-2853\n",
      "-2854\n",
      "-2855\n",
      "-2856\n",
      "-2857\n",
      "-2858\n",
      "-2859\n",
      "-2860\n",
      "-2861\n",
      "-2862\n",
      "-2863\n",
      "-2864\n",
      "-2865\n",
      "-2866\n",
      "-2867\n",
      "-2868\n",
      "-2869\n",
      "-2870\n",
      "-2871\n",
      "-2872\n",
      "-2873\n",
      "-2874\n",
      "-2875\n",
      "-2876\n",
      "-2877\n",
      "-2878\n",
      "-2879\n",
      "-2880\n",
      "-2881\n",
      "-2882\n",
      "-2883\n",
      "-2884\n",
      "-2885\n",
      "-2886\n",
      "-2887\n",
      "-2888\n",
      "-2889\n",
      "-2890\n",
      "-2891\n",
      "-2892\n",
      "-2893\n",
      "-2894\n",
      "-2895\n",
      "-2896\n",
      "-2897\n",
      "-2898\n",
      "-2899\n",
      "-2900\n",
      "-2901\n",
      "-2902\n",
      "-2903\n",
      "-2904\n",
      "-2905\n",
      "-2906\n",
      "-2907\n",
      "-2908\n",
      "-2909\n",
      "-2910\n",
      "-2911\n",
      "-2912\n",
      "-2913\n",
      "-2914\n",
      "-2915\n",
      "-2916\n",
      "-2917\n",
      "-2918\n",
      "-2919\n",
      "-2920\n",
      "-2921\n",
      "-2922\n",
      "-2923\n",
      "-2924\n",
      "-2925\n",
      "-2926\n",
      "-2927\n",
      "-2928\n",
      "-2929\n",
      "-2930\n",
      "-2931\n",
      "-2932\n",
      "-2933\n",
      "-2934\n",
      "-2935\n",
      "-2936\n",
      "-2937\n",
      "-2938\n",
      "-2939\n",
      "-2940\n",
      "-2941\n",
      "-2942\n",
      "-2943\n",
      "-2944\n",
      "-2945\n",
      "-2946\n",
      "-2947\n",
      "-2948\n",
      "-2949\n",
      "-2950\n",
      "-2951\n",
      "-2952\n",
      "-2953\n",
      "-2954\n",
      "-2955\n",
      "-2956\n",
      "-2957\n",
      "-2958\n",
      "-2959\n",
      "-2960\n",
      "-2961\n",
      "-2962\n",
      "-2963\n",
      "-2964\n",
      "-2965\n",
      "-2966\n",
      "-2967\n",
      "-2968\n",
      "-2969\n",
      "-2970\n",
      "-2971\n"
     ]
    },
    {
     "ename": "RecursionError",
     "evalue": "maximum recursion depth exceeded",
     "output_type": "error",
     "traceback": [
      "\u001b[1;31m---------------------------------------------------------------------------\u001b[0m",
      "\u001b[1;31mRecursionError\u001b[0m                            Traceback (most recent call last)",
      "Cell \u001b[1;32mIn[3], line 6\u001b[0m\n\u001b[0;32m      3\u001b[0m     \u001b[38;5;28mprint\u001b[39m (start)\n\u001b[0;32m      4\u001b[0m     count_down(start \u001b[38;5;241m-\u001b[39m\u001b[38;5;241m1\u001b[39m )\n\u001b[1;32m----> 6\u001b[0m \u001b[43mcount_down\u001b[49m\u001b[43m(\u001b[49m\u001b[38;5;241;43m3\u001b[39;49m\u001b[43m)\u001b[49m\n",
      "Cell \u001b[1;32mIn[3], line 4\u001b[0m, in \u001b[0;36mcount_down\u001b[1;34m(start)\u001b[0m\n\u001b[0;32m      2\u001b[0m \u001b[38;5;250m\u001b[39m\u001b[38;5;124;03m\"\"\" Count down from a Number \"\"\"\u001b[39;00m\n\u001b[0;32m      3\u001b[0m \u001b[38;5;28mprint\u001b[39m (start)\n\u001b[1;32m----> 4\u001b[0m \u001b[43mcount_down\u001b[49m\u001b[43m(\u001b[49m\u001b[43mstart\u001b[49m\u001b[43m \u001b[49m\u001b[38;5;241;43m-\u001b[39;49m\u001b[38;5;241;43m1\u001b[39;49m\u001b[43m \u001b[49m\u001b[43m)\u001b[49m\n",
      "Cell \u001b[1;32mIn[3], line 4\u001b[0m, in \u001b[0;36mcount_down\u001b[1;34m(start)\u001b[0m\n\u001b[0;32m      2\u001b[0m \u001b[38;5;250m\u001b[39m\u001b[38;5;124;03m\"\"\" Count down from a Number \"\"\"\u001b[39;00m\n\u001b[0;32m      3\u001b[0m \u001b[38;5;28mprint\u001b[39m (start)\n\u001b[1;32m----> 4\u001b[0m \u001b[43mcount_down\u001b[49m\u001b[43m(\u001b[49m\u001b[43mstart\u001b[49m\u001b[43m \u001b[49m\u001b[38;5;241;43m-\u001b[39;49m\u001b[38;5;241;43m1\u001b[39;49m\u001b[43m \u001b[49m\u001b[43m)\u001b[49m\n",
      "    \u001b[1;31m[... skipping similar frames: count_down at line 4 (2972 times)]\u001b[0m\n",
      "Cell \u001b[1;32mIn[3], line 4\u001b[0m, in \u001b[0;36mcount_down\u001b[1;34m(start)\u001b[0m\n\u001b[0;32m      2\u001b[0m \u001b[38;5;250m\u001b[39m\u001b[38;5;124;03m\"\"\" Count down from a Number \"\"\"\u001b[39;00m\n\u001b[0;32m      3\u001b[0m \u001b[38;5;28mprint\u001b[39m (start)\n\u001b[1;32m----> 4\u001b[0m \u001b[43mcount_down\u001b[49m\u001b[43m(\u001b[49m\u001b[43mstart\u001b[49m\u001b[43m \u001b[49m\u001b[38;5;241;43m-\u001b[39;49m\u001b[38;5;241;43m1\u001b[39;49m\u001b[43m \u001b[49m\u001b[43m)\u001b[49m\n",
      "Cell \u001b[1;32mIn[3], line 3\u001b[0m, in \u001b[0;36mcount_down\u001b[1;34m(start)\u001b[0m\n\u001b[0;32m      1\u001b[0m \u001b[38;5;28;01mdef\u001b[39;00m \u001b[38;5;21mcount_down\u001b[39m(start):\n\u001b[0;32m      2\u001b[0m \u001b[38;5;250m    \u001b[39m\u001b[38;5;124;03m\"\"\" Count down from a Number \"\"\"\u001b[39;00m\n\u001b[1;32m----> 3\u001b[0m     \u001b[38;5;28;43mprint\u001b[39;49m\u001b[43m \u001b[49m\u001b[43m(\u001b[49m\u001b[43mstart\u001b[49m\u001b[43m)\u001b[49m\n\u001b[0;32m      4\u001b[0m     count_down(start \u001b[38;5;241m-\u001b[39m\u001b[38;5;241m1\u001b[39m )\n",
      "File \u001b[1;32m~\\AppData\\Roaming\\Python\\Python312\\site-packages\\ipykernel\\iostream.py:664\u001b[0m, in \u001b[0;36mOutStream.write\u001b[1;34m(self, string)\u001b[0m\n\u001b[0;32m    655\u001b[0m \u001b[38;5;28;01mdef\u001b[39;00m \u001b[38;5;21mwrite\u001b[39m(\u001b[38;5;28mself\u001b[39m, string: \u001b[38;5;28mstr\u001b[39m) \u001b[38;5;241m-\u001b[39m\u001b[38;5;241m>\u001b[39m Optional[\u001b[38;5;28mint\u001b[39m]:  \u001b[38;5;66;03m# type:ignore[override]\u001b[39;00m\n\u001b[0;32m    656\u001b[0m \u001b[38;5;250m    \u001b[39m\u001b[38;5;124;03m\"\"\"Write to current stream after encoding if necessary\u001b[39;00m\n\u001b[0;32m    657\u001b[0m \n\u001b[0;32m    658\u001b[0m \u001b[38;5;124;03m    Returns\u001b[39;00m\n\u001b[1;32m   (...)\u001b[0m\n\u001b[0;32m    662\u001b[0m \n\u001b[0;32m    663\u001b[0m \u001b[38;5;124;03m    \"\"\"\u001b[39;00m\n\u001b[1;32m--> 664\u001b[0m     parent \u001b[38;5;241m=\u001b[39m \u001b[38;5;28;43mself\u001b[39;49m\u001b[38;5;241;43m.\u001b[39;49m\u001b[43mparent_header\u001b[49m\n\u001b[0;32m    666\u001b[0m     \u001b[38;5;28;01mif\u001b[39;00m \u001b[38;5;129;01mnot\u001b[39;00m \u001b[38;5;28misinstance\u001b[39m(string, \u001b[38;5;28mstr\u001b[39m):\n\u001b[0;32m    667\u001b[0m         msg \u001b[38;5;241m=\u001b[39m \u001b[38;5;124mf\u001b[39m\u001b[38;5;124m\"\u001b[39m\u001b[38;5;124mwrite() argument must be str, not \u001b[39m\u001b[38;5;132;01m{\u001b[39;00m\u001b[38;5;28mtype\u001b[39m(string)\u001b[38;5;132;01m}\u001b[39;00m\u001b[38;5;124m\"\u001b[39m  \u001b[38;5;66;03m# type:ignore[unreachable]\u001b[39;00m\n",
      "\u001b[1;31mRecursionError\u001b[0m: maximum recursion depth exceeded"
     ]
    }
   ],
   "source": [
    "def count_down(start):\n",
    "    \"\"\" Count down from a Number \"\"\"\n",
    "    print (start)\n",
    "    count_down(start -1 )\n",
    "    \n",
    "count_down(3)"
   ]
  },
  {
   "cell_type": "code",
   "execution_count": 4,
   "metadata": {},
   "outputs": [
    {
     "name": "stdout",
     "output_type": "stream",
     "text": [
      "3\n",
      "2\n",
      "1\n"
     ]
    }
   ],
   "source": [
    "def count_down(start):\n",
    "    \"\"\" Count down from a Number \"\"\"\n",
    "    print (start)\n",
    "    \n",
    "    # call the count_down if the next\n",
    "    # number is greater than 0 \n",
    "    next = start - 1 \n",
    "    if next > 0 :\n",
    "        \n",
    "        count_down( next )\n",
    "        \n",
    "    \n",
    "count_down(3)"
   ]
  },
  {
   "cell_type": "markdown",
   "metadata": {},
   "source": [
    "### 2 ) Using a recursive function to calculate the sum of a sequence"
   ]
  },
  {
   "cell_type": "code",
   "execution_count": 7,
   "metadata": {},
   "outputs": [
    {
     "name": "stdout",
     "output_type": "stream",
     "text": [
      "5050\n"
     ]
    }
   ],
   "source": [
    "def sum(n):\n",
    "    total = 0 \n",
    "    for index in range ( n + 1 ):\n",
    "        total += index \n",
    "        \n",
    "    return total \n",
    "\n",
    "result = sum (100)\n",
    "print (result)"
   ]
  },
  {
   "cell_type": "code",
   "execution_count": 8,
   "metadata": {},
   "outputs": [
    {
     "name": "stdout",
     "output_type": "stream",
     "text": [
      "5050\n"
     ]
    }
   ],
   "source": [
    "def sum(n):\n",
    "    if n > 0 :\n",
    "        return n + sum ( n - 1 )\n",
    "    return 0 \n",
    "\n",
    "result = sum ( 100 )\n",
    "print (result)"
   ]
  },
  {
   "cell_type": "code",
   "execution_count": 9,
   "metadata": {},
   "outputs": [
    {
     "name": "stdout",
     "output_type": "stream",
     "text": [
      "5050\n"
     ]
    }
   ],
   "source": [
    "def sum(n):\n",
    "    \n",
    "        return n + sum ( n - 1 ) if n > 0 else 0 \n",
    "    \n",
    "\n",
    "result = sum ( 100 )\n",
    "print (result)"
   ]
  },
  {
   "cell_type": "markdown",
   "metadata": {},
   "source": [
    "## Summary\n",
    "\n",
    "* A recursive function is a function that calls itself until it doesn't.\n",
    "\n",
    "* And a recursive function always has a condition that stops calling itself."
   ]
  },
  {
   "cell_type": "markdown",
   "metadata": {},
   "source": [
    "> ## Python Lambda Expressions \n",
    "\n",
    "### What are Python lambda expressions\n",
    "\n",
    "* Python lambda expressions allow you to define anonymous functions.\n",
    "\n",
    "* Anonymous functions are functions without names. The anonymous functions are useful when you need to use them once.\n",
    "\n",
    "*  A lambda expression typically contains one or more arguments, but it can have only one expression.\n",
    "\n",
    "*  The following shows the lambda expression syntax:"
   ]
  },
  {
   "cell_type": "code",
   "execution_count": 10,
   "metadata": {},
   "outputs": [],
   "source": [
    "\n",
    "lambda parameters : expression\n",
    "\n",
    "# It's equivalent to the following function without the \"annonymous\" name :\n",
    "\n",
    "def anonymous ( parameters ) :\n",
    "    return expression"
   ]
  },
  {
   "cell_type": "markdown",
   "metadata": {},
   "source": [
    "### Python lambda expression examples \n",
    "\n",
    "* In python, you can pass a function to another function or return a function from another function.\n",
    "\n",
    "### 1 ) Functions that accept a function example \n",
    "\n",
    "* The following defines a function called get_full_name() that format the full name from the first name and last name:"
   ]
  },
  {
   "cell_type": "code",
   "execution_count": 11,
   "metadata": {},
   "outputs": [],
   "source": [
    "def get_full_name( first_name, last_name, formatter ):\n",
    "    return formatter (first_name, last_name)"
   ]
  },
  {
   "cell_type": "code",
   "execution_count": 12,
   "metadata": {},
   "outputs": [],
   "source": [
    "def first_last ( first_name, last_name ):\n",
    "    return f\"{first_name} {last_name}\"\n",
    "\n",
    "\n",
    "def last_first ( first_name, last_name ):\n",
    "    return f\"{last_name} {first_name}\""
   ]
  },
  {
   "cell_type": "code",
   "execution_count": 14,
   "metadata": {},
   "outputs": [
    {
     "name": "stdout",
     "output_type": "stream",
     "text": [
      "John Doe\n",
      "Doe John\n"
     ]
    }
   ],
   "source": [
    "full_name = get_full_name('John', 'Doe', first_last)\n",
    "print(full_name)\n",
    "\n",
    "full_name = get_full_name('John', 'Doe', last_first)\n",
    "print(full_name)"
   ]
  },
  {
   "cell_type": "code",
   "execution_count": null,
   "metadata": {},
   "outputs": [],
   "source": [
    "lambda first_name, last_name: f\"{first_name} {last_name}\""
   ]
  },
  {
   "cell_type": "code",
   "execution_count": null,
   "metadata": {},
   "outputs": [],
   "source": [
    "lambda first_name, last_name: f\" {first_name} {last_name} \";"
   ]
  },
  {
   "cell_type": "code",
   "execution_count": 17,
   "metadata": {},
   "outputs": [
    {
     "name": "stdout",
     "output_type": "stream",
     "text": [
      "John Doe\n",
      "Doe John \n"
     ]
    }
   ],
   "source": [
    "def get_full_name (first_name, last_name, formatter):\n",
    "    return formatter (first_name, last_name)\n",
    "\n",
    "\n",
    "full_name = get_full_name(\n",
    "    'John',\n",
    "    'Doe',\n",
    "    lambda first_name, last_name: f\"{first_name} {last_name}\"\n",
    ")\n",
    "print(full_name)\n",
    "\n",
    "full_name = get_full_name(\n",
    "    'John',\n",
    "    'Doe',\n",
    "    lambda first_name, last_name: f\"{last_name} {first_name} \"\n",
    ")\n",
    "print(full_name)\n"
   ]
  },
  {
   "cell_type": "markdown",
   "metadata": {},
   "source": [
    "### Function that return a function example\n",
    "\n",
    "* The following time() function returns a function which is a lambda expression:"
   ]
  },
  {
   "cell_type": "code",
   "execution_count": 18,
   "metadata": {},
   "outputs": [],
   "source": [
    "def times(n):\n",
    "    return lambda x: x * n\n"
   ]
  },
  {
   "cell_type": "code",
   "execution_count": 20,
   "metadata": {},
   "outputs": [],
   "source": [
    "double = times(2)"
   ]
  },
  {
   "cell_type": "code",
   "execution_count": 21,
   "metadata": {},
   "outputs": [
    {
     "name": "stdout",
     "output_type": "stream",
     "text": [
      "4\n",
      "6\n"
     ]
    }
   ],
   "source": [
    "result = double(2)\n",
    "print(result)\n",
    "\n",
    "result = double(3)\n",
    "print(result)"
   ]
  },
  {
   "cell_type": "code",
   "execution_count": 22,
   "metadata": {},
   "outputs": [
    {
     "name": "stdout",
     "output_type": "stream",
     "text": [
      "6\n",
      "9\n"
     ]
    }
   ],
   "source": [
    "triple = times(3)\n",
    "\n",
    "print(triple(2))\n",
    "\n",
    "print(triple(3))"
   ]
  },
  {
   "cell_type": "markdown",
   "metadata": {},
   "source": [
    "### Python lambda in a loop"
   ]
  },
  {
   "cell_type": "code",
   "execution_count": 23,
   "metadata": {},
   "outputs": [
    {
     "name": "stdout",
     "output_type": "stream",
     "text": [
      "3\n",
      "3\n",
      "3\n"
     ]
    }
   ],
   "source": [
    "callables = []\n",
    "for i in (1, 2, 3):\n",
    "    callables.append(lambda: i)\n",
    "    \n",
    "for f in callables:\n",
    "    print(f())"
   ]
  },
  {
   "cell_type": "markdown",
   "metadata": {},
   "source": [
    "### How it works.\n",
    "\n",
    "* First, define a list with the name callable.\n",
    "\n",
    "* Second,  iterate from 1 to 3, create a new lambda expression in each iteration, and add it to the callables list.\n",
    "\n",
    "* Third, loop over the callables and call each function."
   ]
  },
  {
   "cell_type": "code",
   "execution_count": 25,
   "metadata": {},
   "outputs": [
    {
     "name": "stdout",
     "output_type": "stream",
     "text": [
      "1\n",
      "2\n",
      "3\n"
     ]
    }
   ],
   "source": [
    "callables = []\n",
    "for i in (1, 2, 3):\n",
    "    callables.append(lambda a=i: a)   # using a \n",
    "    \n",
    "for f in callables:\n",
    "    print(f())"
   ]
  },
  {
   "cell_type": "code",
   "execution_count": 26,
   "metadata": {},
   "outputs": [
    {
     "name": "stdout",
     "output_type": "stream",
     "text": [
      "3\n",
      "3\n",
      "3\n"
     ]
    }
   ],
   "source": [
    "callables = []\n",
    "for i in (1, 2, 3):\n",
    "    callables.append(lambda a=i: i)  # using i \n",
    "    \n",
    "for f in callables:\n",
    "    print(f())"
   ]
  },
  {
   "cell_type": "markdown",
   "metadata": {},
   "source": [
    "## Summary \n",
    "\n",
    "* Use Python lambda expressions to create anonymous functions, which are functions without names.\n",
    "\n",
    "* A lambda expressions accepts one or more arguments, contains an expression, and returns the result of that expression.\n",
    "\n",
    "* Use lambda expressions to pass anonymous functions to a function and return a function from another function."
   ]
  },
  {
   "cell_type": "markdown",
   "metadata": {},
   "source": [
    "> ## Python Function Docstrings\n",
    "\n",
    "* Summary : We'll learn about how to use docstrings to add documentation of a function.\n"
   ]
  },
  {
   "cell_type": "code",
   "execution_count": 27,
   "metadata": {},
   "outputs": [
    {
     "name": "stdout",
     "output_type": "stream",
     "text": [
      "Help on built-in function print in module builtins:\n",
      "\n",
      "print(*args, sep=' ', end='\\n', file=None, flush=False)\n",
      "    Prints the values to a stream, or to sys.stdout by default.\n",
      "\n",
      "    sep\n",
      "      string inserted between values, default a space.\n",
      "    end\n",
      "      string appended after the last value, default a newline.\n",
      "    file\n",
      "      a file-like object (stream); defaults to the current sys.stdout.\n",
      "    flush\n",
      "      whether to forcibly flush the stream.\n",
      "\n"
     ]
    }
   ],
   "source": [
    "help(print)"
   ]
  },
  {
   "cell_type": "markdown",
   "metadata": {},
   "source": [
    "### Using Docstring to document functions\n",
    "\n",
    "* To document your functions, you can use docstrings. The PEP 257 provides the docstring conventions.\n",
    "\n",
    "* When the first line in the function body is a string, Python will interpret it as a docstring. "
   ]
  },
  {
   "cell_type": "code",
   "execution_count": 28,
   "metadata": {},
   "outputs": [],
   "source": [
    "def add(a, b):\n",
    "    \"Return the sum of two arguments\"\n",
    "    return a + b"
   ]
  },
  {
   "cell_type": "code",
   "execution_count": 29,
   "metadata": {},
   "outputs": [
    {
     "name": "stdout",
     "output_type": "stream",
     "text": [
      "Help on function add in module __main__:\n",
      "\n",
      "add(a, b)\n",
      "    Return the sum of two arguments\n",
      "\n"
     ]
    }
   ],
   "source": [
    "help(add)"
   ]
  },
  {
   "cell_type": "code",
   "execution_count": 30,
   "metadata": {},
   "outputs": [],
   "source": [
    "def add(a, b):\n",
    "    \"\"\"Add two arguments\n",
    "    Arguments:\n",
    "        a : an integer\n",
    "        b : an integer\n",
    "    Returns:\n",
    "        The sum of the two arguments\n",
    "    \"\"\"\n",
    "    return a + b"
   ]
  },
  {
   "cell_type": "markdown",
   "metadata": {},
   "source": [
    "* def add(a, b):\n",
    "*   \"\"\"Add two arguments\n",
    "*     Arguments:\n",
    "*         a : an integer\n",
    "*         b : an integer\n",
    "*     Returns:\n",
    "*         The sum of the two arguments\n",
    "*     \"\"\"\n",
    "*     return a + b"
   ]
  },
  {
   "cell_type": "markdown",
   "metadata": {},
   "source": [
    "* add.__doc__"
   ]
  },
  {
   "cell_type": "markdown",
   "metadata": {},
   "source": [
    "## Summary \n",
    "\n",
    "* Use the help() function to get the documentation of a function.\n",
    "\n",
    "* Place a string, either single-line or multi-line strings, as the first line in the function to add documentation to it."
   ]
  },
  {
   "cell_type": "markdown",
   "metadata": {},
   "source": [
    "> ## Python List \n",
    "\n",
    "* We'll learn about Python List type and how to manipulate list elements effectively.\n",
    "\n",
    "### What is a List\n",
    "\n",
    "* A list is an ordered collection of items.\n",
    "\n",
    "* Python uses the square brackets ( [ ] ) to indicate a list. The following shows an empty list.\n",
    "\n",
    "* empty_list = []"
   ]
  },
  {
   "cell_type": "code",
   "execution_count": 31,
   "metadata": {},
   "outputs": [],
   "source": [
    "todo_list = ['learn Python list', 'How to manage List elements']"
   ]
  },
  {
   "cell_type": "code",
   "execution_count": 32,
   "metadata": {},
   "outputs": [
    {
     "name": "stdout",
     "output_type": "stream",
     "text": [
      "[1, 3, 2, 7, 9, 4]\n"
     ]
    }
   ],
   "source": [
    "numbers = [1, 3, 2, 7, 9, 4]\n",
    "\n",
    "print(numbers)"
   ]
  },
  {
   "cell_type": "code",
   "execution_count": 33,
   "metadata": {},
   "outputs": [
    {
     "name": "stdout",
     "output_type": "stream",
     "text": [
      "['red', 'green', 'blue']\n"
     ]
    }
   ],
   "source": [
    "colors = ['red', 'green', 'blue']\n",
    "\n",
    "print(colors)"
   ]
  },
  {
   "cell_type": "code",
   "execution_count": 34,
   "metadata": {},
   "outputs": [
    {
     "name": "stdout",
     "output_type": "stream",
     "text": [
      "[[0, 0], [100, 100], [200, 200]]\n"
     ]
    }
   ],
   "source": [
    "coordinates = [[0,0], [100,100],[200,200]]\n",
    "\n",
    "print (coordinates)"
   ]
  },
  {
   "cell_type": "markdown",
   "metadata": {},
   "source": [
    "> ## Accessing elements in a list\n",
    "\n",
    "* Since, a list is an ordered collection, you can access its elements by indexes like this \n",
    "\n",
    "* list [ index ]"
   ]
  },
  {
   "cell_type": "code",
   "execution_count": 35,
   "metadata": {},
   "outputs": [
    {
     "name": "stdout",
     "output_type": "stream",
     "text": [
      "1\n"
     ]
    }
   ],
   "source": [
    "numbers = [1, 3, 2, 7, 9, 4 ]\n",
    "\n",
    "print(numbers[0])"
   ]
  },
  {
   "cell_type": "code",
   "execution_count": 36,
   "metadata": {},
   "outputs": [
    {
     "name": "stdout",
     "output_type": "stream",
     "text": [
      "3\n"
     ]
    }
   ],
   "source": [
    "numbers = [1, 3, 2, 7, 9, 4 ]\n",
    "\n",
    "print(numbers[1])"
   ]
  },
  {
   "cell_type": "code",
   "execution_count": 37,
   "metadata": {},
   "outputs": [
    {
     "name": "stdout",
     "output_type": "stream",
     "text": [
      "4\n",
      "9\n"
     ]
    }
   ],
   "source": [
    "numbers = [1, 3, 2, 7, 9, 4 ]\n",
    "\n",
    "print(numbers[-1])\n",
    "\n",
    "print(numbers[-2])"
   ]
  },
  {
   "cell_type": "markdown",
   "metadata": {},
   "source": [
    "> ## Modifying, adding, and removing elements\n",
    "\n",
    "* A list is dynamic. It means that you can modify elements in the list, add new elements to the list, and remove elements from a list.\n",
    "\n",
    "### 1 ) Modifying elements in a list.\n",
    "\n",
    "* To change an element, you assign a new value to it using this syntax :\n",
    "\n",
    "* list [ index ] = new_value"
   ]
  },
  {
   "cell_type": "code",
   "execution_count": 38,
   "metadata": {},
   "outputs": [
    {
     "name": "stdout",
     "output_type": "stream",
     "text": [
      "[10, 3, 2, 7, 9, 4]\n"
     ]
    }
   ],
   "source": [
    "numbers = [1, 3, 2, 7, 9, 4 ]\n",
    "\n",
    "numbers[0] = 10 \n",
    "\n",
    "print(numbers)"
   ]
  },
  {
   "cell_type": "code",
   "execution_count": 39,
   "metadata": {},
   "outputs": [
    {
     "name": "stdout",
     "output_type": "stream",
     "text": [
      "[1, 30, 2, 7, 9, 4]\n"
     ]
    }
   ],
   "source": [
    "numbers = [1, 3, 2, 7, 9, 4 ]\n",
    "\n",
    "numbers[1] = numbers[1] * 10 \n",
    "\n",
    "print(numbers)"
   ]
  },
  {
   "cell_type": "code",
   "execution_count": 40,
   "metadata": {},
   "outputs": [
    {
     "name": "stdout",
     "output_type": "stream",
     "text": [
      "[1, 3, 1.0, 7, 9, 4]\n"
     ]
    }
   ],
   "source": [
    "numbers = [1, 3, 2, 7, 9, 4 ]\n",
    "\n",
    "numbers[2] /= 2\n",
    "\n",
    "print(numbers)"
   ]
  },
  {
   "cell_type": "markdown",
   "metadata": {},
   "source": [
    "### 2 ) Adding elements to the list\n",
    "\n",
    "* The append() method appends an element to the end of a list.\n",
    "\n",
    "* The insert() method adds a new element at any position in the list."
   ]
  },
  {
   "cell_type": "code",
   "execution_count": 41,
   "metadata": {},
   "outputs": [
    {
     "name": "stdout",
     "output_type": "stream",
     "text": [
      "[1, 3, 2, 7, 9, 4, 100]\n"
     ]
    }
   ],
   "source": [
    "numbers = [1, 3, 2, 7, 9, 4 ]\n",
    "\n",
    "numbers.append(100) \n",
    "\n",
    "print(numbers)"
   ]
  },
  {
   "cell_type": "code",
   "execution_count": 42,
   "metadata": {},
   "outputs": [
    {
     "name": "stdout",
     "output_type": "stream",
     "text": [
      "[1, 3, 100, 2, 7, 9, 4]\n"
     ]
    }
   ],
   "source": [
    "numbers = [1, 3, 2, 7, 9, 4 ]\n",
    "\n",
    "numbers.insert( 2, 100 ) \n",
    "\n",
    "print(numbers)"
   ]
  },
  {
   "cell_type": "markdown",
   "metadata": {},
   "source": [
    "## 3 ) Removing elements from a list\n",
    "\n",
    "* The del statement allows you to remove an element from a list by specifying the position of the element.\n",
    "\n",
    "* The pop() method removes the last element from a list and return that element."
   ]
  },
  {
   "cell_type": "code",
   "execution_count": 43,
   "metadata": {},
   "outputs": [
    {
     "name": "stdout",
     "output_type": "stream",
     "text": [
      "4\n",
      "[1, 3, 2, 7, 9]\n"
     ]
    }
   ],
   "source": [
    "numbers = [1, 3, 2, 7, 9, 4 ]\n",
    "\n",
    "last = numbers.pop() \n",
    "\n",
    "print(last)\n",
    "\n",
    "print(numbers)"
   ]
  },
  {
   "cell_type": "code",
   "execution_count": 45,
   "metadata": {},
   "outputs": [
    {
     "name": "stdout",
     "output_type": "stream",
     "text": [
      "3\n",
      "[1, 2, 7, 9, 4]\n"
     ]
    }
   ],
   "source": [
    "numbers = [1, 3, 2, 7, 9, 4 ]\n",
    "\n",
    "second = numbers.pop(1) \n",
    "\n",
    "print(second)\n",
    "\n",
    "print(numbers)"
   ]
  },
  {
   "cell_type": "code",
   "execution_count": 46,
   "metadata": {},
   "outputs": [
    {
     "name": "stdout",
     "output_type": "stream",
     "text": [
      "[1, 3, 2, 7, 4, 9]\n"
     ]
    }
   ],
   "source": [
    "numbers = [ 1, 3, 2, 7, 9, 4, 9 ]\n",
    "\n",
    "numbers.remove( 9 )\n",
    "\n",
    "print(numbers)"
   ]
  },
  {
   "cell_type": "markdown",
   "metadata": {},
   "source": [
    "## Summary \n",
    "\n",
    "* A list is an ordered collection of items.\n",
    "\n",
    "* Use square brackets notation [] to access a list elements by its index. The first element has an index 0.\n",
    "\n",
    "* Use a negative index to access a list element from the end of a list. The last element has an index -1.\n",
    "\n",
    "* Use list[index] = new_value to modify an element from a list.\n",
    "\n",
    "* Use append() to add a new element to he end of a list.\n",
    "\n",
    "* Use insert() to add a new element at a position in a list.\n",
    "\n",
    "* Use pop() to remove an element from a list and return that element.\n",
    "\n",
    "* Use remove() to remove an element from a list.\n",
    "\n",
    "\n",
    "\n",
    "> # Python Tuples \n",
    "\n",
    "We'll learn about Python tuples and how to use them effectively.\n",
    "\n",
    "### Introduction to Python tuples \n",
    "\n",
    "Sometimes, you want to create a list of items that cannot be changed throughout the program. Tuples allowes you to do that. \n",
    "\n",
    "A tuple is a list that cannot change. Python refers to a value that cannot change as immutable. So by definition, a tuples is an immutable list.\n",
    "\n",
    "### Defining a tuple\n",
    "\n",
    "A tuples is like a list except that it uses parentheses () instead of square brackets [] .\n",
    "\n",
    "rgb = ('red', 'green', 'blue')"
   ]
  },
  {
   "cell_type": "code",
   "execution_count": 47,
   "metadata": {},
   "outputs": [
    {
     "name": "stdout",
     "output_type": "stream",
     "text": [
      "red\n",
      "green\n",
      "blue\n"
     ]
    }
   ],
   "source": [
    "rgb = ('red', 'green', 'blue')\n",
    "\n",
    "print(rgb[0])\n",
    "\n",
    "print(rgb[1])\n",
    "\n",
    "print(rgb[2])"
   ]
  },
  {
   "cell_type": "code",
   "execution_count": 48,
   "metadata": {},
   "outputs": [
    {
     "ename": "TypeError",
     "evalue": "'tuple' object does not support item assignment",
     "output_type": "error",
     "traceback": [
      "\u001b[1;31m---------------------------------------------------------------------------\u001b[0m",
      "\u001b[1;31mTypeError\u001b[0m                                 Traceback (most recent call last)",
      "Cell \u001b[1;32mIn[48], line 3\u001b[0m\n\u001b[0;32m      1\u001b[0m rgb \u001b[38;5;241m=\u001b[39m (\u001b[38;5;124m'\u001b[39m\u001b[38;5;124mred\u001b[39m\u001b[38;5;124m'\u001b[39m, \u001b[38;5;124m'\u001b[39m\u001b[38;5;124mgreen\u001b[39m\u001b[38;5;124m'\u001b[39m, \u001b[38;5;124m'\u001b[39m\u001b[38;5;124mblue\u001b[39m\u001b[38;5;124m'\u001b[39m)\n\u001b[1;32m----> 3\u001b[0m \u001b[43mrgb\u001b[49m\u001b[43m[\u001b[49m\u001b[38;5;241;43m0\u001b[39;49m\u001b[43m]\u001b[49m \u001b[38;5;241m=\u001b[39m \u001b[38;5;124m'\u001b[39m\u001b[38;5;124myellow\u001b[39m\u001b[38;5;124m'\u001b[39m\n",
      "\u001b[1;31mTypeError\u001b[0m: 'tuple' object does not support item assignment"
     ]
    }
   ],
   "source": [
    "rgb = ('red', 'green', 'blue')\n",
    "\n",
    "rgb[0] = 'yellow'"
   ]
  },
  {
   "cell_type": "markdown",
   "metadata": {},
   "source": [
    "## Defining a tuple that has one element\n",
    "\n",
    "To define a tuple with one element, you need to include a trailing comma after the first element."
   ]
  },
  {
   "cell_type": "code",
   "execution_count": 49,
   "metadata": {},
   "outputs": [
    {
     "name": "stdout",
     "output_type": "stream",
     "text": [
      "<class 'tuple'>\n"
     ]
    }
   ],
   "source": [
    "numbers = (3, )\n",
    "\n",
    "print ( type ( numbers ) )"
   ]
  },
  {
   "cell_type": "code",
   "execution_count": 50,
   "metadata": {},
   "outputs": [
    {
     "name": "stdout",
     "output_type": "stream",
     "text": [
      "<class 'int'>\n"
     ]
    }
   ],
   "source": [
    "numbers = (3)\n",
    "\n",
    "print ( type ( numbers ) )"
   ]
  },
  {
   "cell_type": "markdown",
   "metadata": {},
   "source": [
    "### Assigning a tuple \n",
    "\n",
    "Even though you cannot change a tuple, you can assign a new tuple to a variable that reference a tuple."
   ]
  },
  {
   "cell_type": "code",
   "execution_count": 51,
   "metadata": {},
   "outputs": [
    {
     "name": "stdout",
     "output_type": "stream",
     "text": [
      "('red', 'green', 'blue')\n",
      "('Cyan', 'Magenta', 'Yellow', 'black')\n"
     ]
    }
   ],
   "source": [
    "colors = ('red', 'green', 'blue')\n",
    "\n",
    "print(colors)\n",
    "\n",
    "colors = ('Cyan', 'Magenta', 'Yellow', 'black')\n",
    "\n",
    "print(colors)"
   ]
  },
  {
   "cell_type": "markdown",
   "metadata": {},
   "source": [
    "### Summary\n",
    "\n",
    "* Tuples are immutable lists.\n",
    "\n",
    "* Use tuple when you want to define a list that cannot change.\n",
    "\n",
    "> # Python sort List\n",
    "\n",
    "We'll learn how to use the Python List sort() method to sort a list.\n",
    "\n",
    "### Introduction to the Python List sort() method\n",
    "\n",
    "To sort a list, we use the sort() method.\n",
    "\n",
    "* list.sort()\n",
    "\n",
    "The sort() method sorts the origional list in place. It means that the sort() method to modifies the order of element in the list.\n",
    "\n",
    "By default, the sort() methods sorts the element of a list using the less-than operator ( < ). In other words, it places the lower element before the higher ones.\n",
    "\n",
    "To sort elements from higher to lower, you pass the reverse = True argument to the sort() method\n",
    "\n",
    "* list.sort( reverse = True )\n",
    "\n",
    "### Python List sort() method \n",
    "\n",
    "the sort() methods.\n",
    "\n",
    "#### 1 ) Using the Python List sort() method to sort a list of strings\n",
    "\n",
    "if a list contains strings, the sort() method sort the string elements alphabetically.\n",
    "\n"
   ]
  },
  {
   "cell_type": "code",
   "execution_count": 52,
   "metadata": {},
   "outputs": [
    {
     "name": "stdout",
     "output_type": "stream",
     "text": [
      "['James', 'Jennifer', 'John', 'Mary', 'Patricia', 'Robert']\n"
     ]
    }
   ],
   "source": [
    "guests = ['James', 'Mary', 'John', 'Patricia', 'Robert', 'Jennifer']\n",
    "\n",
    "guests.sort()\n",
    "\n",
    "print ( guests )"
   ]
  },
  {
   "cell_type": "code",
   "execution_count": 54,
   "metadata": {},
   "outputs": [
    {
     "name": "stdout",
     "output_type": "stream",
     "text": [
      "['Robert', 'Patricia', 'Mary', 'John', 'Jennifer', 'James']\n"
     ]
    }
   ],
   "source": [
    "guests = ['James', 'Mary', 'John', 'Patricia', 'Robert', 'Jennifer']\n",
    "\n",
    "guests.sort( reverse = True )\n",
    "\n",
    "print ( guests )"
   ]
  },
  {
   "cell_type": "markdown",
   "metadata": {},
   "source": [
    "### 2 ) Using the Python List sort() method to sort a list of numbers\n",
    "\n",
    "if a list contains a number, the sort() methods sort the numbers from smallest to largest.\n",
    "\n",
    "### 3 ) Using the Python List sort() method to sort a list of tuples"
   ]
  },
  {
   "cell_type": "code",
   "execution_count": 55,
   "metadata": {},
   "outputs": [
    {
     "name": "stdout",
     "output_type": "stream",
     "text": [
      "[4, 5, 6, 7, 8, 9]\n"
     ]
    }
   ],
   "source": [
    "scores = [ 5, 7, 4, 6, 9, 8]\n",
    "\n",
    "scores.sort()\n",
    "\n",
    "print(scores)"
   ]
  },
  {
   "cell_type": "code",
   "execution_count": 56,
   "metadata": {},
   "outputs": [
    {
     "name": "stdout",
     "output_type": "stream",
     "text": [
      "[9, 8, 7, 6, 5, 4]\n"
     ]
    }
   ],
   "source": [
    "scores = [ 5, 7, 4, 6, 9, 8]\n",
    "\n",
    "scores.sort( reverse = True )\n",
    "\n",
    "print(scores)"
   ]
  },
  {
   "cell_type": "code",
   "execution_count": 57,
   "metadata": {},
   "outputs": [],
   "source": [
    "companies   =  [('Google', 2019, 134.81 ),\n",
    "                ('Apple', 2019, 260.2 ),\n",
    "                ('Facebook', 2019, 70.7 )]"
   ]
  },
  {
   "cell_type": "code",
   "execution_count": 58,
   "metadata": {},
   "outputs": [],
   "source": [
    "def sort_key (company):\n",
    "    return company[2]\n",
    "\n",
    "companies.sort ( key = sort_key , reverse = True )"
   ]
  },
  {
   "cell_type": "code",
   "execution_count": 59,
   "metadata": {},
   "outputs": [
    {
     "name": "stdout",
     "output_type": "stream",
     "text": [
      "[('Apple', 2019, 260.2), ('Google', 2019, 134.81), ('Facebook', 2019, 70.7)]\n"
     ]
    }
   ],
   "source": [
    "companies   =  [('Google', 2019, 134.81 ),\n",
    "                ('Apple', 2019, 260.2 ),\n",
    "                ('Facebook', 2019, 70.7 )]\n",
    "\n",
    "def sort_key (company):\n",
    "    return company[2]\n",
    "\n",
    "companies.sort ( key = sort_key , reverse = True )\n",
    "\n",
    "print ( companies )"
   ]
  },
  {
   "cell_type": "markdown",
   "metadata": {},
   "source": [
    "### Using lambda expression \n",
    "\n",
    "To make it more concise, Python allows you to define a function without a name with the following.\n",
    "\n",
    "*  lambda arguments : expression\n",
    "\n",
    "A function without a name us called an anonymous function. And this syntax is call a lambda expression.\n",
    "\n",
    "Technically, it's equivalent to the following function:\n",
    "\n",
    "* def name(arguments): \n",
    "*    return expression"
   ]
  },
  {
   "cell_type": "code",
   "execution_count": 60,
   "metadata": {},
   "outputs": [
    {
     "name": "stdout",
     "output_type": "stream",
     "text": [
      "[('Facebook', 2019, 70.7), ('Google', 2019, 134.81), ('Apple', 2019, 260.2)]\n"
     ]
    }
   ],
   "source": [
    "companies   =  [('Google', 2019, 134.81 ),\n",
    "                ('Apple', 2019, 260.2 ),\n",
    "                ('Facebook', 2019, 70.7 )]\n",
    "\n",
    "companies.sort ( key = lambda company : company [ 2 ] )\n",
    "\n",
    "print ( companies )"
   ]
  },
  {
   "cell_type": "markdown",
   "metadata": {},
   "source": [
    "### Summary \n",
    "\n",
    "* Use the Python List sort() method to sort a list in place.\n",
    "\n",
    "* The sort() methods sorts the string elements in alphabatical order and sorts the numeric element from smallest to largest.\n",
    "\n",
    "* Use the sort(reverse=True) to reverse the default sort order.\n",
    "\n",
    "> # Python sorted \n",
    "\n",
    "We'll learn how to use the Python sorted() function to sort a list.\n",
    "\n",
    "### Introduction to the Python sorted() function \n",
    "\n",
    "The sort() method sorts a list in place. In other words, it changes the order of elemets in the origional list.\n",
    "\n",
    "To return a new sorted list from the origional list, you use the sorted() function.\n",
    "\n",
    "sorted ( list )\n",
    "\n",
    "The sorted( ) function doesn't modify the origional list.\n",
    "\n",
    "By default, the sorted() function sorts the element of the list from lowest to highest using the less-than operator ( < )\n",
    "\n",
    "sorted ( list, reverse = True )\n",
    "\n",
    "### Python sorted() function examples \n",
    "\n",
    "the Python sorted()function.\n",
    "\n",
    "#### 1 ) Using Python sorted() function to sort a list of strings\n",
    "\n",
    "The following examples uses the sorted()function to sort a list of strings in alphabatical order.\n",
    "\n",
    "\n"
   ]
  },
  {
   "cell_type": "code",
   "execution_count": 61,
   "metadata": {},
   "outputs": [
    {
     "name": "stdout",
     "output_type": "stream",
     "text": [
      "['James', 'Mary', 'John', 'Patricia', 'Robert', 'Jennifer']\n",
      "['James', 'Jennifer', 'John', 'Mary', 'Patricia', 'Robert']\n"
     ]
    }
   ],
   "source": [
    "guests = [ 'James', 'Mary', 'John', 'Patricia', 'Robert', 'Jennifer']\n",
    "\n",
    "sorted_guests = sorted ( guests )\n",
    "\n",
    "print( guests )\n",
    "\n",
    "print( sorted_guests )"
   ]
  },
  {
   "cell_type": "code",
   "execution_count": 62,
   "metadata": {},
   "outputs": [
    {
     "name": "stdout",
     "output_type": "stream",
     "text": [
      "['Robert', 'Patricia', 'Mary', 'John', 'Jennifer', 'James']\n"
     ]
    }
   ],
   "source": [
    "guests = [ 'James', 'Mary', 'John', 'Patricia', 'Robert', 'Jennifer']\n",
    "\n",
    "sorted_guests = sorted ( guests, reverse = True )\n",
    "\n",
    "print( sorted_guests )"
   ]
  },
  {
   "cell_type": "markdown",
   "metadata": {},
   "source": [
    "### Using Python sorted() function to sort a list of numbers\n",
    "\n",
    "The following examples uses the sorted()function to sort a list of numbers from smallest to largest."
   ]
  },
  {
   "cell_type": "code",
   "execution_count": 63,
   "metadata": {},
   "outputs": [
    {
     "name": "stdout",
     "output_type": "stream",
     "text": [
      "[4, 5, 6, 7, 8, 9]\n"
     ]
    }
   ],
   "source": [
    "scores = [5, 7, 4, 6, 9, 8 ]\n",
    "\n",
    "sorted_scores = sorted ( scores )\n",
    "\n",
    "print ( sorted_scores)"
   ]
  },
  {
   "cell_type": "code",
   "execution_count": 64,
   "metadata": {},
   "outputs": [
    {
     "name": "stdout",
     "output_type": "stream",
     "text": [
      "[9, 8, 7, 6, 5, 4]\n"
     ]
    }
   ],
   "source": [
    "scores = [5, 7, 4, 6, 9, 8 ]\n",
    "\n",
    "sorted_scores = sorted ( scores, reverse = True )\n",
    "\n",
    "print ( sorted_scores)"
   ]
  },
  {
   "cell_type": "markdown",
   "metadata": {},
   "source": [
    "### Summary \n",
    "\n",
    "* Use the sorted() function to return a new sorted list from a list.\n",
    "\n",
    "* Use the sorted() function with the reverse argument sets to True to sort a list in the reverse sort order.\n",
    "\n",
    "> # Python List Slice \n",
    "\n",
    "We'll learn about Python list slice and how to use it to manipulate lists effectively.\n",
    "\n",
    "### Introduction to Python List Slice notation\n",
    "\n",
    "Lists support the slice notation that allows you to get a sublist from a list.\n",
    "\n",
    "* sub_list = list [ begin : end : step ]\n",
    "\n",
    "In this syntax, the begin, end, step arguments must be valid indexes.\n",
    "And they are all optional.\n",
    "\n",
    "The begin index default to zero. the end index defaults to the length of the list. And the step index default to 1.\n",
    "\n",
    "The slice will start from the begin up to the end in the step of step.\n",
    "\n",
    "The values of the following can be positive or negative. Positive values slice the list from the first element to the last element while negative values slice the list from the last element to the first element.\n",
    "\n",
    "In addition to extracting a sublist, you can use the list slice to change the list such as updating, resizing, and deleting a part of the list.\n",
    "\n",
    "### Python List slice examples \n",
    "\n",
    "Let's take some examples of using the list slice.\n",
    "\n",
    "#### 1 ) Basic Python List slice example \n",
    "\n",
    "suppose that we have the following list of strings.\n",
    "\n",
    "* colors = [ 'red',  'orange', 'yellow', 'green', 'blue', 'indigo', 'violet' ]"
   ]
  },
  {
   "cell_type": "code",
   "execution_count": 65,
   "metadata": {},
   "outputs": [
    {
     "name": "stdout",
     "output_type": "stream",
     "text": [
      "['orange', 'yellow', 'green']\n"
     ]
    }
   ],
   "source": [
    "colors = [ 'red',  'orange', 'yellow', 'green', 'blue', 'indigo', 'violet' ]\n",
    "\n",
    "sub_colors = colors [ 1 : 4 ]\n",
    "\n",
    "print ( sub_colors )"
   ]
  },
  {
   "cell_type": "markdown",
   "metadata": {},
   "source": [
    "### 2 ) Using Python List slice to get the n-first element from a list \n",
    "\n",
    "To get the n-first element from a list, you omit the first argument.\n",
    "\n",
    "* list [ :n ] \n",
    "\n",
    "The following examples returns a list that includes the first three elements from the color list.\n"
   ]
  },
  {
   "cell_type": "code",
   "execution_count": 66,
   "metadata": {},
   "outputs": [
    {
     "name": "stdout",
     "output_type": "stream",
     "text": [
      "['red', 'orange', 'yellow']\n"
     ]
    }
   ],
   "source": [
    "colors = [ 'red',  'orange', 'yellow', 'green', 'blue', 'indigo', 'violet' ]\n",
    "\n",
    "sub_colors = colors [  : 3 ]\n",
    "\n",
    "print ( sub_colors )\n"
   ]
  },
  {
   "cell_type": "markdown",
   "metadata": {},
   "source": [
    "Notice that the colors[:3] is equivalent to the color[0:3].\n",
    "\n",
    "### 3 ) Using Python List slice to get the n-last element from a list\n",
    "\n",
    "To get the n-last elements of a list, you use the negative indexes.\n",
    "\n",
    "For example, the following returns a list that includes the last 3 elements of the colors list."
   ]
  },
  {
   "cell_type": "code",
   "execution_count": 67,
   "metadata": {},
   "outputs": [
    {
     "name": "stdout",
     "output_type": "stream",
     "text": [
      "['blue', 'indigo', 'violet']\n"
     ]
    }
   ],
   "source": [
    "colors = [ 'red',  'orange', 'yellow', 'green', 'blue', 'indigo', 'violet' ]\n",
    "\n",
    "sub_colors = colors [ -3 : ]\n",
    "\n",
    "print ( sub_colors )"
   ]
  },
  {
   "cell_type": "markdown",
   "metadata": {},
   "source": [
    "### 4 ) Using Python list slice to get every nth element from a list\n",
    "\n",
    "The following example use the step to return a sublist that includes every 2nd element of the colors list."
   ]
  },
  {
   "cell_type": "code",
   "execution_count": 68,
   "metadata": {},
   "outputs": [
    {
     "name": "stdout",
     "output_type": "stream",
     "text": [
      "['red', 'yellow', 'blue', 'violet']\n"
     ]
    }
   ],
   "source": [
    "colors = [ 'red',  'orange', 'yellow', 'green', 'blue', 'indigo', 'violet' ]\n",
    "\n",
    "sub_colors = colors [ : : 2 ]\n",
    "\n",
    "print ( sub_colors )"
   ]
  },
  {
   "cell_type": "markdown",
   "metadata": {},
   "source": [
    "### 5 ) Using Python List slice to reverse a list\n",
    "\n",
    "When you use a negative step, the slice includes the list of elements starting from the last element to the first element. In other words, it reverses the list. See the following "
   ]
  },
  {
   "cell_type": "code",
   "execution_count": 69,
   "metadata": {},
   "outputs": [
    {
     "name": "stdout",
     "output_type": "stream",
     "text": [
      "['violet', 'indigo', 'blue', 'green', 'yellow', 'orange', 'red']\n"
     ]
    }
   ],
   "source": [
    "colors = [ 'red',  'orange', 'yellow', 'green', 'blue', 'indigo', 'violet' ]\n",
    "\n",
    "reversed_colors = colors [ : : -1 ]\n",
    "\n",
    "print ( reversed_colors )"
   ]
  },
  {
   "cell_type": "markdown",
   "metadata": {},
   "source": [
    "### 6 ) Using Python List slice to substitute part of a list\n",
    "\n",
    "Besides extracting a part of a list, the list slice allows you to change the list element.\n",
    "\n",
    "The following example change the first two elements in the colors list to the new value."
   ]
  },
  {
   "cell_type": "code",
   "execution_count": 70,
   "metadata": {},
   "outputs": [
    {
     "name": "stdout",
     "output_type": "stream",
     "text": [
      "['black', 'white', 'yellow', 'green', 'blue', 'indigo', 'violet']\n"
     ]
    }
   ],
   "source": [
    "colors = [ 'red',  'orange', 'yellow', 'green', 'blue', 'indigo', 'violet' ]\n",
    "\n",
    "colors[0:2] = [ 'black', 'white' ]\n",
    "\n",
    "print ( colors )"
   ]
  },
  {
   "cell_type": "markdown",
   "metadata": {},
   "source": [
    "### 7 ) Using Python List slice to partially replace and resize a list\n",
    "\n",
    "The following examples uses the list slice to replace the first and second elements with the new ones and also add a new element to the list."
   ]
  },
  {
   "cell_type": "code",
   "execution_count": 72,
   "metadata": {},
   "outputs": [
    {
     "name": "stdout",
     "output_type": "stream",
     "text": [
      "['red', 'orange', 'yellow', 'green', 'blue', 'indigo', 'violet']\n",
      " The list has 7 elements\n",
      "['black', 'white', 'gray', 'yellow', 'green', 'blue', 'indigo', 'violet']\n",
      " The list now has 8 elements\n"
     ]
    }
   ],
   "source": [
    "colors = [ 'red',  'orange', 'yellow', 'green', 'blue', 'indigo', 'violet' ]\n",
    "\n",
    "print ( colors )\n",
    "\n",
    "print (f\" The list has {len(colors)} elements\")\n",
    "\n",
    "colors[0:2] = [ 'black', 'white', 'gray' ]\n",
    "\n",
    "print ( colors )\n",
    "\n",
    "print (f\" The list now has {len(colors)} elements\")"
   ]
  },
  {
   "cell_type": "markdown",
   "metadata": {},
   "source": [
    "### 8 ) Using Python list slice to delete elements\n",
    "\n",
    "The following shows how to use the list slice to delete the 3rd, 4th, and 5th elements from the colors list."
   ]
  },
  {
   "cell_type": "code",
   "execution_count": 73,
   "metadata": {},
   "outputs": [
    {
     "name": "stdout",
     "output_type": "stream",
     "text": [
      "['red', 'orange', 'indigo', 'violet']\n"
     ]
    }
   ],
   "source": [
    "colors = [ 'red',  'orange', 'yellow', 'green', 'blue', 'indigo', 'violet' ]\n",
    "\n",
    "del colors [ 2 : 5 ]\n",
    "\n",
    "print ( colors )"
   ]
  },
  {
   "cell_type": "markdown",
   "metadata": {},
   "source": [
    "### Summary \n",
    "\n",
    "* Use a list slice to extract a sublist from a listand modify the list.\n",
    "\n",
    "> # How to Unpack a List in Python \n",
    "\n",
    "We'll learn how to unpack a list in Python to makeyour code more concise.\n",
    "\n",
    "### Introduction to the list unpacking\n",
    "\n",
    "Following how to defines a list of strings.\n",
    "\n",
    "* colors = [ 'red', 'blue', 'green']\n",
    "\n",
    "To assign the first, second, and third elements of the list to variables, you may assign individual elements to variables like the following.\n",
    "\n",
    "* red = colors[0]\n",
    "\n",
    "* blue = colors[1]\n",
    "\n",
    "* green = colors[2]\n",
    "\n",
    "However, Python provides a better way to do this. It's called sequence unpacking.\n",
    "\n",
    "* red, blue, green = colors\n",
    "\n",
    "This statements assigns the first, second, and third elements of the colors list to the red, blue, and green variables.\n",
    "\n",
    "in the following examples Python could not unpack three elemnts to two variables. \n"
   ]
  },
  {
   "cell_type": "code",
   "execution_count": 74,
   "metadata": {},
   "outputs": [
    {
     "ename": "ValueError",
     "evalue": "too many values to unpack (expected 2)",
     "output_type": "error",
     "traceback": [
      "\u001b[1;31m---------------------------------------------------------------------------\u001b[0m",
      "\u001b[1;31mValueError\u001b[0m                                Traceback (most recent call last)",
      "Cell \u001b[1;32mIn[74], line 3\u001b[0m\n\u001b[0;32m      1\u001b[0m colors \u001b[38;5;241m=\u001b[39m [ \u001b[38;5;124m'\u001b[39m\u001b[38;5;124mred\u001b[39m\u001b[38;5;124m'\u001b[39m, \u001b[38;5;124m'\u001b[39m\u001b[38;5;124mblue\u001b[39m\u001b[38;5;124m'\u001b[39m, \u001b[38;5;124m'\u001b[39m\u001b[38;5;124mgreen\u001b[39m\u001b[38;5;124m'\u001b[39m ]\n\u001b[1;32m----> 3\u001b[0m red, blue \u001b[38;5;241m=\u001b[39m colors\n",
      "\u001b[1;31mValueError\u001b[0m: too many values to unpack (expected 2)"
     ]
    }
   ],
   "source": [
    "colors = [ 'red', 'blue', 'green' ]\n",
    "\n",
    "red, blue = colors"
   ]
  },
  {
   "cell_type": "markdown",
   "metadata": {},
   "source": [
    "### Unpacking and Packing\n",
    "\n",
    "If you want to unpack the first few elements of a list and don't care about the other three elements, \n",
    "\n",
    "* First, unpack the needed elemnts to variables.\n",
    "\n",
    "* Second, pack tthe leftover elements into a new listand assign it to another variables.\n",
    "\n",
    "By putting the asterick ( * ) in front of a variable name, you'll pack the leftover elements to a list and assign them to a variable, for example \n"
   ]
  },
  {
   "cell_type": "code",
   "execution_count": 75,
   "metadata": {},
   "outputs": [
    {
     "name": "stdout",
     "output_type": "stream",
     "text": [
      "red\n",
      "blue\n",
      "['green']\n"
     ]
    }
   ],
   "source": [
    "colors = ['red', 'blue', 'green']\n",
    "\n",
    "red, blue, *other = colors \n",
    "\n",
    "print (red)\n",
    "\n",
    "print (blue)\n",
    "\n",
    "print (other)"
   ]
  },
  {
   "cell_type": "code",
   "execution_count": 76,
   "metadata": {},
   "outputs": [
    {
     "name": "stdout",
     "output_type": "stream",
     "text": [
      "cyan\n",
      "magenta\n",
      "['yellow', 'black']\n"
     ]
    }
   ],
   "source": [
    "colors = ['cyan', 'magenta', 'yellow', 'black']\n",
    "\n",
    "cyan, magenta, *other = colors \n",
    "\n",
    "print (cyan)\n",
    "\n",
    "print (magenta)\n",
    "\n",
    "print (other)"
   ]
  },
  {
   "cell_type": "markdown",
   "metadata": {},
   "source": [
    "### Summary \n",
    "\n",
    "* Unpacking assigns elemnts of the list to multiple variables.\n",
    "\n",
    "* Use the asterisk ( * ) infront of a variable like this *variable_name to pack the leftover elements of a list into another list.\n",
    "\n",
    "> # How to use a For Loop to Iterate over a List\n",
    "\n",
    "We'll learn how to use the Python for loop to iterate over a list in Python.\n",
    "\n",
    "### Using Python for loop to iterate over a list \n",
    "\n",
    "To iterate over a list, you use the for loop statement as follows \n",
    "\n",
    "* > for item in list \n",
    "\n",
    "In this syntax, the for loop statement assigns an individual element of the list to the item variable in each iteration.\n",
    "\n",
    "Inside the body of the loop, you can manipulate each list element individually."
   ]
  },
  {
   "cell_type": "code",
   "execution_count": 77,
   "metadata": {},
   "outputs": [
    {
     "name": "stdout",
     "output_type": "stream",
     "text": [
      "New york\n",
      "Bejing\n",
      "Cairo\n",
      "Mumbai\n",
      "Maxico\n"
     ]
    }
   ],
   "source": [
    "cities = [ 'New york', 'Bejing', 'Cairo', 'Mumbai', 'Maxico']\n",
    "\n",
    "for city in cities:\n",
    "    print(city)\n",
    "    "
   ]
  },
  {
   "cell_type": "markdown",
   "metadata": {},
   "source": [
    "Like for loop assigns an individual element of he cities list to the city variable and prints out the city in each iteration.\n",
    "\n",
    "### Using Python for loop to iterate over a list with index \n",
    "\n",
    "Sometimes, you may want to access indexes of elements inside the loop. In these cases, you can use the enumerate() function.\n",
    "\n",
    "The enumerate() function returns a tuple that contains the current index and element of the list.\n",
    "\n",
    "The following example defines a list of cities and uses a for loop with the enumerate() function to iterate over the list."
   ]
  },
  {
   "cell_type": "code",
   "execution_count": 78,
   "metadata": {},
   "outputs": [
    {
     "name": "stdout",
     "output_type": "stream",
     "text": [
      "(0, 'New york')\n",
      "(1, 'Bejing')\n",
      "(2, 'Cairo')\n",
      "(3, 'Mumbai')\n",
      "(4, 'Maxico')\n"
     ]
    }
   ],
   "source": [
    "cities = [ 'New york', 'Bejing', 'Cairo', 'Mumbai', 'Maxico']\n",
    "\n",
    "for item in enumerate(cities):\n",
    "    print(item)"
   ]
  },
  {
   "cell_type": "code",
   "execution_count": 79,
   "metadata": {},
   "outputs": [
    {
     "name": "stdout",
     "output_type": "stream",
     "text": [
      " 0 : New york \n",
      " 1 : Bejing \n",
      " 2 : Cairo \n",
      " 3 : Mumbai \n",
      " 4 : Maxico \n"
     ]
    }
   ],
   "source": [
    "cities = [ 'New york', 'Bejing', 'Cairo', 'Mumbai', 'Maxico']\n",
    "\n",
    "for index, city in enumerate(cities):\n",
    "    print(f\" {index} : {city} \")"
   ]
  },
  {
   "cell_type": "markdown",
   "metadata": {},
   "source": [
    "The enumerate() function allows you to specify the starting index which defaults to zero.\n",
    "\n",
    "The following examples uses the enumerate() function with the index that starts from one."
   ]
  },
  {
   "cell_type": "code",
   "execution_count": 80,
   "metadata": {},
   "outputs": [
    {
     "name": "stdout",
     "output_type": "stream",
     "text": [
      "1:New york\n",
      "2:Bejing\n",
      "3:Cairo\n",
      "4:Mumbai\n",
      "5:Maxico\n"
     ]
    }
   ],
   "source": [
    "cities = [ 'New york', 'Bejing', 'Cairo', 'Mumbai', 'Maxico']\n",
    "\n",
    "for index, city in enumerate(cities, 1):\n",
    "    print( f\"{index}:{city}\")"
   ]
  },
  {
   "cell_type": "markdown",
   "metadata": {},
   "source": [
    "### Summary \n",
    "\n",
    "* Use a for loop to iterate over a list.\n",
    "\n",
    "* Use a for loop with the enumerate() function to access indexes.\n",
    "\n",
    "> # How to Find the index of an Element in a List\n",
    "\n",
    "We'll learn how to find the index of an element in a list.\n",
    "\n",
    "To find the index of an element in a list, you use the index() function.\n",
    "\n",
    "The following example defines a list of cities and uses the index() method to get the index of the element whose value is 'Mumbai'.\n"
   ]
  },
  {
   "cell_type": "code",
   "execution_count": 81,
   "metadata": {},
   "outputs": [
    {
     "name": "stdout",
     "output_type": "stream",
     "text": [
      "3\n"
     ]
    }
   ],
   "source": [
    "cities = [ 'New york', 'Bejing', 'Cairo', 'Mumbai', 'Maxico']\n",
    "\n",
    "result = cities.index('Mumbai')\n",
    "print( result )"
   ]
  },
  {
   "cell_type": "markdown",
   "metadata": {},
   "source": [
    "However, if you attempt to find an element that doesn't exist in the list using the index() function, you'll get an error.\n",
    "\n",
    "This example uses the index() function to find the Osaka city in the cities list."
   ]
  },
  {
   "cell_type": "code",
   "execution_count": 82,
   "metadata": {},
   "outputs": [
    {
     "ename": "ValueError",
     "evalue": "'Osaka' is not in list",
     "output_type": "error",
     "traceback": [
      "\u001b[1;31m---------------------------------------------------------------------------\u001b[0m",
      "\u001b[1;31mValueError\u001b[0m                                Traceback (most recent call last)",
      "Cell \u001b[1;32mIn[82], line 3\u001b[0m\n\u001b[0;32m      1\u001b[0m cities \u001b[38;5;241m=\u001b[39m [ \u001b[38;5;124m'\u001b[39m\u001b[38;5;124mNew york\u001b[39m\u001b[38;5;124m'\u001b[39m, \u001b[38;5;124m'\u001b[39m\u001b[38;5;124mBejing\u001b[39m\u001b[38;5;124m'\u001b[39m, \u001b[38;5;124m'\u001b[39m\u001b[38;5;124mCairo\u001b[39m\u001b[38;5;124m'\u001b[39m, \u001b[38;5;124m'\u001b[39m\u001b[38;5;124mMumbai\u001b[39m\u001b[38;5;124m'\u001b[39m, \u001b[38;5;124m'\u001b[39m\u001b[38;5;124mMaxico\u001b[39m\u001b[38;5;124m'\u001b[39m]\n\u001b[1;32m----> 3\u001b[0m result \u001b[38;5;241m=\u001b[39m \u001b[43mcities\u001b[49m\u001b[38;5;241;43m.\u001b[39;49m\u001b[43mindex\u001b[49m\u001b[43m(\u001b[49m\u001b[38;5;124;43m'\u001b[39;49m\u001b[38;5;124;43mOsaka\u001b[39;49m\u001b[38;5;124;43m'\u001b[39;49m\u001b[43m)\u001b[49m\n\u001b[0;32m      4\u001b[0m \u001b[38;5;28mprint\u001b[39m( result )\n",
      "\u001b[1;31mValueError\u001b[0m: 'Osaka' is not in list"
     ]
    }
   ],
   "source": [
    "cities = [ 'New york', 'Bejing', 'Cairo', 'Mumbai', 'Maxico']\n",
    "\n",
    "result = cities.index('Osaka')\n",
    "print( result )"
   ]
  },
  {
   "cell_type": "markdown",
   "metadata": {},
   "source": [
    "To fix the above issue, you need to use the in operator.\n",
    "\n",
    "The in operator returns True if a value is in the list. Otherwise, it returns False.\n",
    "\n",
    "Before using the index() function, you can use the in operator to check if the element that you want to find is in the list."
   ]
  },
  {
   "cell_type": "code",
   "execution_count": 83,
   "metadata": {},
   "outputs": [
    {
     "name": "stdout",
     "output_type": "stream",
     "text": [
      "The Osaka doesn't exist in the list.\n"
     ]
    }
   ],
   "source": [
    "cities = [ 'New york', 'Bejing', 'Cairo', 'Mumbai', 'Maxico']\n",
    "city = 'Osaka'\n",
    "\n",
    "if city in cities : \n",
    "    result = cities.index(city)\n",
    "    print( f\"The {city} has an index of {result}.\" )\n",
    "else:\n",
    "    print( f\"The {city} doesn't exist in the list.\" )"
   ]
  },
  {
   "cell_type": "markdown",
   "metadata": {},
   "source": [
    "### Summary \n",
    "\n",
    "* Use the in operator with the index() function to find if an element is in a list.\n",
    "\n",
    "> # Python Iterables\n",
    "\n",
    "We'll learn about the Python Iterables and iterators.\n",
    "\n",
    "### Introduction to Python Iterables\n",
    "\n",
    "In Python, an iterable is an object that includes zero, one, or many elements. An iterable has the ability to returns its elements one at a time.\n",
    "\n",
    "Because of its feature, you can use a for loop to iterate over an iterable.\n",
    "\n",
    "In fact, the range() function is an iterable because you can iterate over its result.\n"
   ]
  },
  {
   "cell_type": "code",
   "execution_count": 84,
   "metadata": {},
   "outputs": [
    {
     "name": "stdout",
     "output_type": "stream",
     "text": [
      "0\n",
      "1\n",
      "2\n"
     ]
    }
   ],
   "source": [
    "for index in range (3):\n",
    "    print(index)"
   ]
  },
  {
   "cell_type": "markdown",
   "metadata": {},
   "source": [
    "* 1 ) Also, a string is an iterable because you can use a for loop to iterate over it.\n",
    "\n",
    "* 2 ) Lists and tuples are also iterable because you can loop over them."
   ]
  },
  {
   "cell_type": "code",
   "execution_count": 85,
   "metadata": {},
   "outputs": [
    {
     "name": "stdout",
     "output_type": "stream",
     "text": [
      "I\n",
      "t\n",
      "e\n",
      "r\n",
      "a\n",
      "b\n",
      "l\n",
      "e\n",
      "s\n"
     ]
    }
   ],
   "source": [
    "str = 'Iterables'\n",
    "for ch in str : \n",
    "    print(ch)"
   ]
  },
  {
   "cell_type": "code",
   "execution_count": 86,
   "metadata": {},
   "outputs": [
    {
     "name": "stdout",
     "output_type": "stream",
     "text": [
      "high\n",
      "medium\n",
      "low\n"
     ]
    }
   ],
   "source": [
    "ranks = [ 'high', 'medium', 'low']\n",
    "\n",
    "for rank in ranks:\n",
    "    print (rank)"
   ]
  },
  {
   "cell_type": "markdown",
   "metadata": {},
   "source": [
    "The Rule of thumb is that if you know if can loop over something. it's iterable.\n",
    "\n",
    "### What is an iterator \n",
    "\n",
    "An iterable can be iterated over. And an iterator is the agent that performs the iteration.\n",
    "\n",
    "To get an iterator from an iterable, you use the iter() function.\n",
    "\n",
    "Once you have the iterator, you can get the next element from the iterable using the next() function.\n",
    "\n",
    "Every time, you call the next() function, it returns the next element in the iterable.\n",
    "\n",
    "If there isn't any more element and you call the next() function, you'll get an exception."
   ]
  },
  {
   "cell_type": "code",
   "execution_count": 87,
   "metadata": {},
   "outputs": [
    {
     "name": "stdout",
     "output_type": "stream",
     "text": [
      "<list_iterator object at 0x0000023A602858D0>\n"
     ]
    }
   ],
   "source": [
    "colors = [ 'red', 'green', 'blue']\n",
    "\n",
    "colors_iter = iter ( colors )\n",
    "\n",
    "print (colors_iter)"
   ]
  },
  {
   "cell_type": "code",
   "execution_count": 88,
   "metadata": {},
   "outputs": [
    {
     "name": "stdout",
     "output_type": "stream",
     "text": [
      "red\n"
     ]
    }
   ],
   "source": [
    "colors = [ 'red', 'green', 'blue']\n",
    "\n",
    "colors_iter = iter ( colors )\n",
    "\n",
    "color = next ( colors_iter )\n",
    "\n",
    "print (color)"
   ]
  },
  {
   "cell_type": "code",
   "execution_count": 89,
   "metadata": {},
   "outputs": [
    {
     "name": "stdout",
     "output_type": "stream",
     "text": [
      "red\n",
      "green\n",
      "blue\n"
     ]
    }
   ],
   "source": [
    "colors = [ 'red', 'green', 'blue']\n",
    "\n",
    "colors_iter = iter ( colors )\n",
    "\n",
    "color = next ( colors_iter )\n",
    "\n",
    "print (color)\n",
    "\n",
    "color = next ( colors_iter )\n",
    "\n",
    "print (color)\n",
    "\n",
    "color = next ( colors_iter )\n",
    "\n",
    "print (color)"
   ]
  },
  {
   "cell_type": "code",
   "execution_count": 90,
   "metadata": {},
   "outputs": [
    {
     "name": "stdout",
     "output_type": "stream",
     "text": [
      "red\n",
      "green\n",
      "blue\n"
     ]
    },
    {
     "ename": "StopIteration",
     "evalue": "",
     "output_type": "error",
     "traceback": [
      "\u001b[1;31m---------------------------------------------------------------------------\u001b[0m",
      "\u001b[1;31mStopIteration\u001b[0m                             Traceback (most recent call last)",
      "Cell \u001b[1;32mIn[90], line 19\u001b[0m\n\u001b[0;32m     15\u001b[0m \u001b[38;5;28mprint\u001b[39m (color)\n\u001b[0;32m     17\u001b[0m \u001b[38;5;66;03m# cause an exception\u001b[39;00m\n\u001b[1;32m---> 19\u001b[0m color \u001b[38;5;241m=\u001b[39m \u001b[38;5;28;43mnext\u001b[39;49m\u001b[43m \u001b[49m\u001b[43m(\u001b[49m\u001b[43m \u001b[49m\u001b[43mcolors_iter\u001b[49m\u001b[43m \u001b[49m\u001b[43m)\u001b[49m\n\u001b[0;32m     21\u001b[0m \u001b[38;5;28mprint\u001b[39m (color)\n",
      "\u001b[1;31mStopIteration\u001b[0m: "
     ]
    }
   ],
   "source": [
    "colors = [ 'red', 'green', 'blue']\n",
    "\n",
    "colors_iter = iter ( colors )\n",
    "\n",
    "color = next ( colors_iter )\n",
    "\n",
    "print (color)\n",
    "\n",
    "color = next ( colors_iter )\n",
    "\n",
    "print (color)\n",
    "\n",
    "color = next ( colors_iter )\n",
    "\n",
    "print (color)\n",
    "\n",
    "# cause an exception\n",
    "\n",
    "color = next ( colors_iter )\n",
    "\n",
    "print (color)\n"
   ]
  },
  {
   "cell_type": "markdown",
   "metadata": {},
   "source": [
    "The iterator is stateful. it menas that once you consume an element from the iterator, it's gone.\n",
    "\n",
    "In other words, once you complete looping over an iterator becomes empty. If you iterate over it again, it'll return nothing.\n",
    "\n",
    "Since you can iterate over an iterator, the iterator is also an iterable object. This is quite confusing."
   ]
  },
  {
   "cell_type": "code",
   "execution_count": 91,
   "metadata": {},
   "outputs": [
    {
     "name": "stdout",
     "output_type": "stream",
     "text": [
      "red\n",
      "green\n",
      "blue\n"
     ]
    }
   ],
   "source": [
    "colors = [ 'red', 'green', 'blue']\n",
    "\n",
    "iterator = iter ( colors )\n",
    "\n",
    "for color in iterator:\n",
    "    print(color)"
   ]
  },
  {
   "cell_type": "markdown",
   "metadata": {},
   "source": [
    "If you call the iter() function and pass an iterator to it, it'll return the same iterator back.\n",
    "\n",
    "Later, We will learn how to create iterables.\n",
    "\n",
    "## Summary \n",
    "\n",
    "* An iterable is an object that can be iterated over. An iterable has the ability to return one of its elements at a time.\n",
    "\n",
    "* An iterator is an agent that performs iteration. It's stateful. And an iterator is also an iterable object.\n",
    "\n",
    "* Use the iter() function to get an iterator from an iterable object and the next() function to get the next element from the iterable object.\n",
    "\n"
   ]
  },
  {
   "cell_type": "code",
   "execution_count": null,
   "metadata": {},
   "outputs": [],
   "source": []
  }
 ],
 "metadata": {
  "kernelspec": {
   "display_name": "Python 3",
   "language": "python",
   "name": "python3"
  },
  "language_info": {
   "codemirror_mode": {
    "name": "ipython",
    "version": 3
   },
   "file_extension": ".py",
   "mimetype": "text/x-python",
   "name": "python",
   "nbconvert_exporter": "python",
   "pygments_lexer": "ipython3",
   "version": "3.12.4"
  }
 },
 "nbformat": 4,
 "nbformat_minor": 2
}
